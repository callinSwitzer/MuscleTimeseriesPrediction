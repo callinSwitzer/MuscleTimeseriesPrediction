{
 "cells": [
  {
   "cell_type": "code",
   "execution_count": null,
   "metadata": {},
   "outputs": [],
   "source": [
    "# read in data\n",
    "\n",
    "def listdir_fullpath(d):\n",
    "    return [os.path.join(d, f) for f in os.listdir(d)]\n",
    "\n",
    "DLTFolders = listdir_fullpath(os.path.join(dataDir, \"DLT viewer output\"))\n",
    "DLTFiles = [[ii for ii in glob.glob(os.path.join(DLTFolders[ii], \"**_xypts**\")) \n",
    " if not os.path.basename(os.path.normpath(ii)).startswith(\"_\")] for ii in range(len(DLTFolders))]\n",
    "DLTFiles = list(itertools.chain(*DLTFiles))\n",
    "\n",
    "MuscleFiles = [i for i in listdir_fullpath(os.path.join(dataDir, \"muscle_matlab_abby\"))  \n",
    "               if  i.endswith(\".csv\") & (not os.path.basename(os.path.normpath(i)).startswith(\"_\"))]\n"
   ]
  },
  {
   "cell_type": "code",
   "execution_count": null,
   "metadata": {},
   "outputs": [],
   "source": [
    "# read in DLT files\n",
    "framerate = 1000.0\n",
    "frame = pd.DataFrame()\n",
    "list_ = []\n",
    "for file_ in DLTFiles:\n",
    "    df = pd.read_csv(file_,index_col=None, header=0)\n",
    "    df[\"ID\"] = os.path.basename(os.path.normpath(os.path.dirname(file_)))\n",
    "    df[\"timestamp\"] = np.arange(0, len(df)/framerate, step = 1/framerate )\n",
    "    list_.append(df)\n",
    "frame = pd.concat(list_, sort = False)\n",
    "frame = frame.dropna(axis=1, how='all')\n",
    "frame.shape"
   ]
  },
  {
   "cell_type": "code",
   "execution_count": null,
   "metadata": {},
   "outputs": [],
   "source": [
    "# visualize missing\n",
    "fig = plt.figure(figsize=(10, 10), dpi=80)\n",
    "ax = fig.add_subplot(111)\n",
    "ax.set_aspect(aspect=0.001)\n",
    "sns.heatmap(frame.iloc[:,:].isna(), cbar=True, ax=ax, cmap = \"inferno\")"
   ]
  },
  {
   "cell_type": "code",
   "execution_count": null,
   "metadata": {},
   "outputs": [],
   "source": [
    "# combine columns\n",
    "frame['pt1_cam1_X'] = frame['pt1_cam1_X'].combine_first(frame['pt1_cam2_X'])\n",
    "frame['pt2_cam1_X'] = frame['pt2_cam1_X'].combine_first(frame['pt2_cam2_X'])\n",
    "frame['pt1_cam1_Y'] = frame['pt1_cam1_Y'].combine_first(frame['pt1_cam2_Y'])\n",
    "frame['pt2_cam1_Y'] = frame['pt2_cam1_Y'].combine_first(frame['pt2_cam2_Y'])\n",
    "fig = plt.figure(figsize=(10, 10), dpi=80)\n",
    "ax = fig.add_subplot(111)\n",
    "ax.set_aspect(aspect=0.001)\n",
    "sns.heatmap(frame.dropna(axis=1, how=\"any\").isna(), cbar=True, ax=ax, cmap = \"inferno\")"
   ]
  },
  {
   "cell_type": "code",
   "execution_count": null,
   "metadata": {},
   "outputs": [],
   "source": [
    "frame = frame.dropna(axis=1, how=\"any\")\n",
    "\n",
    "frame = frame.reset_index(drop=True)\n",
    "\n",
    "muscleBases = [os.path.basename(os.path.splitext(file_)[0]) for file_ in MuscleFiles]\n",
    "muscleDate = [ss[:10] for ss in muscleBases]\n",
    "\n",
    "def convInt(string):\n",
    "    try:\n",
    "        return(int(string))\n",
    "    except:\n",
    "        return(-9999)\n",
    "    \n",
    "muscleTrialNum = [convInt(''.join(c for c in ss.split(\"_\")[3] if c.isdigit())) for ss in muscleBases]\n",
    "\n",
    "muscleDateTrial = pd.concat([pd.Series(muscleDate), pd.Series(muscleTrialNum), pd.Series(muscleBases), pd.Series(MuscleFiles)], axis=1)\n",
    "muscleDateTrial.rename(columns={0: \"date\", 1: \"trial\", 2:\"muscleBase\", 3:\"muscleFiles\"}, inplace=True)\n",
    "muscleDateTrial.sort_values(by = [\"date\", \"trial\"], inplace=True)\n",
    "muscleDateTrial.reset_index(inplace=True, drop = True)\n",
    "print(muscleDateTrial.shape)\n",
    "muscleDateTrial.head()\n",
    "\n",
    "dltDate = [ss[:10] for ss in frame.ID]\n",
    "dltTrialNum = [convInt(''.join(c for c in ss.split(\"_\")[3] if c.isdigit())) for ss in frame.ID]\n",
    "dltDateTrial = pd.concat([pd.Series(dltDate), pd.Series(dltTrialNum), frame.ID], axis=1)\n",
    "dltDateTrial.rename(columns={0: \"date\", 1: \"trial\", \"ID\":\"dltBase\"}, inplace=True)\n",
    "dltDateTrial.drop_duplicates(inplace=True)\n",
    "dltDateTrial.sort_values(by = [\"date\", \"trial\"], inplace=True)\n",
    "dltDateTrial.reset_index(inplace=True, drop = True)\n",
    "print(dltDateTrial.shape)\n",
    "dltDateTrial.head()\n",
    "\n",
    "# find trials where we have matching dates and trials\n",
    "keepTrials = pd.merge(dltDateTrial, muscleDateTrial, on=['date', 'trial'], how='inner')\n",
    "print(keepTrials.shape)\n",
    "keepTrials.head()\n",
    "\n",
    "# read in muscle files that match DLT files\n",
    "framerate = 25000.0 # not sure\n",
    "frame2 = pd.DataFrame()\n",
    "list_ = []\n",
    "for file_ in keepTrials.muscleFiles:\n",
    "    df = pd.read_csv(file_,index_col=None, header=None)\n",
    "    df = df[df.iloc[:, 2] > 0]\n",
    "    df[\"ID\"] = os.path.basename(os.path.splitext(file_)[0])\n",
    "    df[\"timestamp\"] = np.arange(0, len(df)/framerate, step = 1/framerate )\n",
    "    list_.append(df)\n",
    "frame2 = pd.concat(list_, sort = False)\n",
    "frame2 = frame2.dropna(axis=1, how='all')\n",
    "frame2.reset_index(drop = True, inplace = True)\n",
    "\n",
    "df.timestamp\n",
    "\n",
    "print(frame2.shape)\n",
    "frame2.rename(columns={0: \"EMG\", 1: \"trig\", 2:\"trig2\"}, inplace=True)\n",
    "frame2.head()"
   ]
  },
  {
   "cell_type": "code",
   "execution_count": null,
   "metadata": {},
   "outputs": [],
   "source": [
    "testFR = frame.iloc[10000:11000, :].copy()\n",
    "testFR.loc[:,\"Ydiff\"] = pd.Series((testFR.pt1_cam1_Y - testFR.pt2_cam1_Y),  index = testFR.index)\n",
    "testFR.loc[:,\"Xdiff\"] = pd.Series((testFR.pt1_cam1_X - testFR.pt2_cam1_X), index = testFR.index)\n",
    "testFR.loc[:, \"DistBwPts\"] = np.sqrt((testFR.pt1_cam1_X - testFR.pt2_cam1_X)**2+ (testFR.pt1_cam1_Y - testFR.pt2_cam1_Y)**2 )\n",
    "\n",
    "\n",
    "\n",
    "plt.plot(testFR.pt1_cam1_Y)\n",
    "plt.plot(testFR.pt2_cam1_Y)\n",
    "plt.show()\n",
    "plt.plot(testFR.Ydiff - np.min(testFR.Ydiff))\n",
    "plt.plot(testFR.Xdiff - np.min(testFR.Xdiff))\n",
    "plt.show()\n",
    "plt.figure(figsize = [10, 4])\n",
    "plt.plot(testFR.Ydiff)\n",
    "plt.plot(testFR.DistBwPts)"
   ]
  },
  {
   "cell_type": "code",
   "execution_count": null,
   "metadata": {},
   "outputs": [],
   "source": []
  },
  {
   "cell_type": "code",
   "execution_count": null,
   "metadata": {},
   "outputs": [],
   "source": []
  }
 ],
 "metadata": {
  "kernelspec": {
   "display_name": "timeseries_learn",
   "language": "python",
   "name": "timeseries_learn"
  },
  "language_info": {
   "codemirror_mode": {
    "name": "ipython",
    "version": 3
   },
   "file_extension": ".py",
   "mimetype": "text/x-python",
   "name": "python",
   "nbconvert_exporter": "python",
   "pygments_lexer": "ipython3",
   "version": "3.6.6"
  }
 },
 "nbformat": 4,
 "nbformat_minor": 2
}
