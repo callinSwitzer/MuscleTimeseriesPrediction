{
 "cells": [
  {
   "cell_type": "markdown",
   "metadata": {},
   "source": [
    "### Callin Switzer\n",
    "###"
   ]
  },
  {
   "cell_type": "code",
   "execution_count": 2,
   "metadata": {},
   "outputs": [
    {
     "name": "stderr",
     "output_type": "stream",
     "text": [
      "C:\\Users\\calli\\Anaconda3\\envs\\tfcpu\\lib\\site-packages\\h5py\\__init__.py:36: FutureWarning: Conversion of the second argument of issubdtype from `float` to `np.floating` is deprecated. In future, it will be treated as `np.float64 == np.dtype(float).type`.\n",
      "  from ._conv import register_converters as _register_converters\n",
      "Using TensorFlow backend.\n"
     ]
    },
    {
     "name": "stdout",
     "output_type": "stream",
     "text": [
      "TensorFlow successfully installed.\n",
      "3.6.4 |Anaconda custom (64-bit)| (default, Jan 16 2018, 10:22:32) [MSC v.1900 64 bit (AMD64)] \n",
      "\n",
      "last run on 2018-08-31 10:10:02.185970\n"
     ]
    }
   ],
   "source": [
    "import pandas as pd\n",
    "import numpy as np\n",
    "%matplotlib inline\n",
    "import matplotlib.pyplot as plt\n",
    "from matplotlib import gridspec\n",
    "import seaborn as sns\n",
    "import os\n",
    "import csv\n",
    "import time\n",
    "from scipy import signal\n",
    "import itertools as it\n",
    "import sys\n",
    "from datetime import datetime\n",
    "from sklearn.preprocessing import StandardScaler\n",
    "import scipy.io\n",
    "import glob\n",
    "import itertools\n",
    "\n",
    "# Neural net libs\n",
    "from keras.models import Sequential\n",
    "from keras.layers import Dense\n",
    "import tensorflow as tf\n",
    "print(\"TensorFlow successfully installed.\")\n",
    "if tf.test.is_built_with_cuda():\n",
    "    print(\"The installed version of TensorFlow includes GPU support.\")\n",
    "\n",
    "print(sys.version, \"\\n\")\n",
    "print(\"last run on \" + str(datetime.now()))"
   ]
  },
  {
   "cell_type": "code",
   "execution_count": 97,
   "metadata": {},
   "outputs": [],
   "source": [
    "# data directory\n",
    "dataDir = r\"D:\\Dropbox\\dataAnalysisForOthers\\MothMuscleLength\\Data\"\n",
    "\n",
    "# figure directory\n",
    "figDir = r\"D:\\Dropbox\\dataAnalysisForOthers\\MothMuscleLength\\Figures\" \n",
    "if not os.path.exists(figDir):\n",
    "    os.makedirs(figDir)\n",
    "    \n",
    "# data output\n",
    "dataOut = r\"D:\\Dropbox\\dataAnalysisForOthers\\MothMuscleLength\\DataOut\" \"\"\n",
    "if not os.path.exists(dataOut):\n",
    "    os.makedirs(dataOut)"
   ]
  },
  {
   "cell_type": "code",
   "execution_count": 98,
   "metadata": {},
   "outputs": [],
   "source": [
    "# read in data\n",
    "#\"D:\\Dropbox\\dataAnalysisForOthers\\MothMuscleLength\\Data\\emglength_8_28.csv\""
   ]
  },
  {
   "cell_type": "code",
   "execution_count": 99,
   "metadata": {},
   "outputs": [
    {
     "name": "stdout",
     "output_type": "stream",
     "text": [
      "(225009, 3)\n"
     ]
    },
    {
     "data": {
      "text/html": [
       "<div>\n",
       "<style scoped>\n",
       "    .dataframe tbody tr th:only-of-type {\n",
       "        vertical-align: middle;\n",
       "    }\n",
       "\n",
       "    .dataframe tbody tr th {\n",
       "        vertical-align: top;\n",
       "    }\n",
       "\n",
       "    .dataframe thead th {\n",
       "        text-align: right;\n",
       "    }\n",
       "</style>\n",
       "<table border=\"1\" class=\"dataframe\">\n",
       "  <thead>\n",
       "    <tr style=\"text-align: right;\">\n",
       "      <th></th>\n",
       "      <th>len</th>\n",
       "      <th>EMG</th>\n",
       "      <th>sec</th>\n",
       "    </tr>\n",
       "  </thead>\n",
       "  <tbody>\n",
       "    <tr>\n",
       "      <th>0</th>\n",
       "      <td>-0.255774</td>\n",
       "      <td>0.058332</td>\n",
       "      <td>0.00000</td>\n",
       "    </tr>\n",
       "    <tr>\n",
       "      <th>1</th>\n",
       "      <td>-0.239091</td>\n",
       "      <td>0.058990</td>\n",
       "      <td>0.00004</td>\n",
       "    </tr>\n",
       "    <tr>\n",
       "      <th>2</th>\n",
       "      <td>-0.222407</td>\n",
       "      <td>0.059319</td>\n",
       "      <td>0.00008</td>\n",
       "    </tr>\n",
       "    <tr>\n",
       "      <th>3</th>\n",
       "      <td>-0.205724</td>\n",
       "      <td>0.059319</td>\n",
       "      <td>0.00012</td>\n",
       "    </tr>\n",
       "    <tr>\n",
       "      <th>4</th>\n",
       "      <td>-0.189040</td>\n",
       "      <td>0.058990</td>\n",
       "      <td>0.00016</td>\n",
       "    </tr>\n",
       "    <tr>\n",
       "      <th>5</th>\n",
       "      <td>-0.172357</td>\n",
       "      <td>0.058990</td>\n",
       "      <td>0.00020</td>\n",
       "    </tr>\n",
       "    <tr>\n",
       "      <th>6</th>\n",
       "      <td>-0.155673</td>\n",
       "      <td>0.058661</td>\n",
       "      <td>0.00024</td>\n",
       "    </tr>\n",
       "    <tr>\n",
       "      <th>7</th>\n",
       "      <td>-0.138990</td>\n",
       "      <td>0.060305</td>\n",
       "      <td>0.00028</td>\n",
       "    </tr>\n",
       "    <tr>\n",
       "      <th>8</th>\n",
       "      <td>-0.122306</td>\n",
       "      <td>0.058332</td>\n",
       "      <td>0.00032</td>\n",
       "    </tr>\n",
       "    <tr>\n",
       "      <th>9</th>\n",
       "      <td>-0.105623</td>\n",
       "      <td>0.056688</td>\n",
       "      <td>0.00036</td>\n",
       "    </tr>\n",
       "    <tr>\n",
       "      <th>10</th>\n",
       "      <td>-0.088939</td>\n",
       "      <td>0.058332</td>\n",
       "      <td>0.00040</td>\n",
       "    </tr>\n",
       "    <tr>\n",
       "      <th>11</th>\n",
       "      <td>-0.072256</td>\n",
       "      <td>0.057346</td>\n",
       "      <td>0.00044</td>\n",
       "    </tr>\n",
       "    <tr>\n",
       "      <th>12</th>\n",
       "      <td>-0.055572</td>\n",
       "      <td>0.056031</td>\n",
       "      <td>0.00048</td>\n",
       "    </tr>\n",
       "    <tr>\n",
       "      <th>13</th>\n",
       "      <td>-0.038889</td>\n",
       "      <td>0.053400</td>\n",
       "      <td>0.00052</td>\n",
       "    </tr>\n",
       "    <tr>\n",
       "      <th>14</th>\n",
       "      <td>-0.022206</td>\n",
       "      <td>0.054058</td>\n",
       "      <td>0.00056</td>\n",
       "    </tr>\n",
       "    <tr>\n",
       "      <th>15</th>\n",
       "      <td>-0.005522</td>\n",
       "      <td>0.053400</td>\n",
       "      <td>0.00060</td>\n",
       "    </tr>\n",
       "    <tr>\n",
       "      <th>16</th>\n",
       "      <td>0.011161</td>\n",
       "      <td>0.053400</td>\n",
       "      <td>0.00064</td>\n",
       "    </tr>\n",
       "    <tr>\n",
       "      <th>17</th>\n",
       "      <td>0.027845</td>\n",
       "      <td>0.051428</td>\n",
       "      <td>0.00068</td>\n",
       "    </tr>\n",
       "    <tr>\n",
       "      <th>18</th>\n",
       "      <td>0.044528</td>\n",
       "      <td>0.051428</td>\n",
       "      <td>0.00072</td>\n",
       "    </tr>\n",
       "    <tr>\n",
       "      <th>19</th>\n",
       "      <td>0.061212</td>\n",
       "      <td>0.051428</td>\n",
       "      <td>0.00076</td>\n",
       "    </tr>\n",
       "  </tbody>\n",
       "</table>\n",
       "</div>"
      ],
      "text/plain": [
       "         len       EMG      sec\n",
       "0  -0.255774  0.058332  0.00000\n",
       "1  -0.239091  0.058990  0.00004\n",
       "2  -0.222407  0.059319  0.00008\n",
       "3  -0.205724  0.059319  0.00012\n",
       "4  -0.189040  0.058990  0.00016\n",
       "5  -0.172357  0.058990  0.00020\n",
       "6  -0.155673  0.058661  0.00024\n",
       "7  -0.138990  0.060305  0.00028\n",
       "8  -0.122306  0.058332  0.00032\n",
       "9  -0.105623  0.056688  0.00036\n",
       "10 -0.088939  0.058332  0.00040\n",
       "11 -0.072256  0.057346  0.00044\n",
       "12 -0.055572  0.056031  0.00048\n",
       "13 -0.038889  0.053400  0.00052\n",
       "14 -0.022206  0.054058  0.00056\n",
       "15 -0.005522  0.053400  0.00060\n",
       "16  0.011161  0.053400  0.00064\n",
       "17  0.027845  0.051428  0.00068\n",
       "18  0.044528  0.051428  0.00072\n",
       "19  0.061212  0.051428  0.00076"
      ]
     },
     "execution_count": 99,
     "metadata": {},
     "output_type": "execute_result"
    }
   ],
   "source": [
    "musLen = pd.read_csv(os.path.join(dataDir, \"emglength_8_28.csv\"))\n",
    "musLen.drop(axis = 1, columns=musLen.columns[0], inplace=True)\n",
    "print(musLen.shape)\n",
    "#musLen[\"sec2\"] = np.round(musLen.sec, decimals=4)\n",
    "musLen.head(20)"
   ]
  },
  {
   "cell_type": "code",
   "execution_count": 100,
   "metadata": {},
   "outputs": [],
   "source": [
    "comF = musLen"
   ]
  },
  {
   "cell_type": "code",
   "execution_count": null,
   "metadata": {},
   "outputs": [],
   "source": [
    "print(comF.shape)\n",
    "comF.tail()"
   ]
  },
  {
   "cell_type": "code",
   "execution_count": null,
   "metadata": {},
   "outputs": [],
   "source": [
    "sm = comF.iloc[0:25000, ].copy()\n"
   ]
  },
  {
   "cell_type": "code",
   "execution_count": null,
   "metadata": {},
   "outputs": [],
   "source": [
    "#plt.plot(sm.timestamp, sm.EMG)\n",
    "plt.plot(sm.sec, sm.EMG)\n",
    "#plt.show()\n",
    "plt.plot(sm.sec, sm.len + 1)"
   ]
  },
  {
   "cell_type": "code",
   "execution_count": null,
   "metadata": {},
   "outputs": [],
   "source": [
    "from scipy.signal import savgol_filter\n",
    "yhat = savgol_filter(sm.len + 1, 21, 3) # window size 51, polynomial order 3\n",
    "\n",
    "#plt.plot(sm.sec2,sm.length + 1)\n",
    "plt.figure(figsize = (15, 5))\n",
    "plt.plot(sm.sec,yhat, color='red')\n",
    "plt.plot(sm.sec, sm.EMG)\n",
    "plt.show()"
   ]
  },
  {
   "cell_type": "code",
   "execution_count": null,
   "metadata": {},
   "outputs": [],
   "source": [
    "from FFTUtils import * "
   ]
  },
  {
   "cell_type": "code",
   "execution_count": null,
   "metadata": {},
   "outputs": [],
   "source": [
    "# plot FFT spectrum\n",
    "spect = FFT(sm.len, log_rate = 25000.0)"
   ]
  },
  {
   "cell_type": "code",
   "execution_count": null,
   "metadata": {},
   "outputs": [],
   "source": [
    "spect.FFT(fmin = 10, fmax = 45)\n",
    "spect.plotFFT(fmin = 0, fmax =450)"
   ]
  },
  {
   "cell_type": "code",
   "execution_count": null,
   "metadata": {},
   "outputs": [],
   "source": [
    "# scale data\n"
   ]
  },
  {
   "cell_type": "code",
   "execution_count": null,
   "metadata": {},
   "outputs": [],
   "source": [
    "comF[\"ID\"] = np.floor(comF.index / 25001).astype(int)"
   ]
  },
  {
   "cell_type": "code",
   "execution_count": null,
   "metadata": {},
   "outputs": [],
   "source": [
    "comF.groupby('ID').count()"
   ]
  },
  {
   "cell_type": "code",
   "execution_count": null,
   "metadata": {},
   "outputs": [],
   "source": [
    "comF.head()"
   ]
  },
  {
   "cell_type": "code",
   "execution_count": null,
   "metadata": {},
   "outputs": [],
   "source": [
    "# split apply combine\n",
    "grouped = comF.groupby(\"ID\")\n",
    "grouped"
   ]
  },
  {
   "cell_type": "code",
   "execution_count": null,
   "metadata": {},
   "outputs": [],
   "source": [
    "from sklearn.preprocessing import minmax_scale\n",
    "comF['EMG_scaled'] = comF.groupby('ID').EMG.transform(lambda x: minmax_scale(x.astype(float), feature_range = (-1,1)))\n",
    "comF['len_scaled'] = comF.groupby('ID').len.transform(lambda x: minmax_scale(x.astype(float), feature_range= (-1,1)))\n",
    "\n",
    "plt.plot(comF.EMG_scaled[0:25001])\n",
    "plt.show()\n",
    "plt.plot(comF.len_scaled[0:25001])"
   ]
  },
  {
   "cell_type": "markdown",
   "metadata": {},
   "source": [
    "___\n",
    "# practice with real data\n",
    "# tutorial here: https://www.youtube.com/watch?v=2np77NOdnwk\n",
    "___"
   ]
  },
  {
   "cell_type": "code",
   "execution_count": null,
   "metadata": {},
   "outputs": [],
   "source": []
  },
  {
   "cell_type": "markdown",
   "metadata": {},
   "source": [
    "___\n",
    "# Fully-connected nnet with windows\n",
    "___"
   ]
  },
  {
   "cell_type": "code",
   "execution_count": null,
   "metadata": {},
   "outputs": [],
   "source": [
    "# test on made-up data"
   ]
  },
  {
   "cell_type": "code",
   "execution_count": 188,
   "metadata": {},
   "outputs": [
    {
     "data": {
      "text/plain": [
       "(40001, 1)"
      ]
     },
     "execution_count": 188,
     "metadata": {},
     "output_type": "execute_result"
    }
   ],
   "source": [
    "timesteps = np.arange(0, 1, 1/25000 )\n",
    "\n",
    "freq = 25\n",
    "\n",
    "Y = pd.DataFrame(comF.loc[200100:, \"len\"].values)\n",
    "X =  pd.DataFrame(comF.loc[200100:, \"EMG\"].values)\n",
    "\n",
    "\n",
    "Y = pd.DataFrame(comF.loc[10000:50000, \"len\"].values)\n",
    "X =  pd.DataFrame(comF.loc[10000:50000, \"EMG\"].values)\n",
    "Y.shape"
   ]
  },
  {
   "cell_type": "code",
   "execution_count": 189,
   "metadata": {},
   "outputs": [
    {
     "data": {
      "text/plain": [
       "[<matplotlib.lines.Line2D at 0x21eb1a949b0>]"
      ]
     },
     "execution_count": 189,
     "metadata": {},
     "output_type": "execute_result"
    },
    {
     "data": {
      "image/png": "[encoded data removed]",
      "text/plain": [
       "<matplotlib.figure.Figure at 0x21eb3181ef0>"
      ]
     },
     "metadata": {},
     "output_type": "display_data"
    }
   ],
   "source": [
    "plt.plot(X.values)"
   ]
  },
  {
   "cell_type": "code",
   "execution_count": 190,
   "metadata": {},
   "outputs": [
    {
     "data": {
      "text/plain": [
       "[<matplotlib.lines.Line2D at 0x21e97010780>]"
      ]
     },
     "execution_count": 190,
     "metadata": {},
     "output_type": "execute_result"
    },
    {
     "data": {
      "image/png": "[encoded data removed]",
      "text/plain": [
       "<matplotlib.figure.Figure at 0x21eb3179a90>"
      ]
     },
     "metadata": {},
     "output_type": "display_data"
    }
   ],
   "source": [
    "plt.plot(np.diff(X.values, axis = 0 ))"
   ]
  },
  {
   "cell_type": "code",
   "execution_count": 192,
   "metadata": {},
   "outputs": [
    {
     "data": {
      "text/plain": [
       "[<matplotlib.lines.Line2D at 0x21e948f7780>]"
      ]
     },
     "execution_count": 192,
     "metadata": {},
     "output_type": "execute_result"
    },
    {
     "data": {
      "image/png": "[encoded data removed]",
      "text/plain": [
       "<matplotlib.figure.Figure at 0x21e9706f048>"
      ]
     },
     "metadata": {},
     "output_type": "display_data"
    }
   ],
   "source": [
    "plt.plot(np.abs(np.diff(X.values, axis = 0 )))"
   ]
  },
  {
   "cell_type": "code",
   "execution_count": 126,
   "metadata": {},
   "outputs": [],
   "source": [
    "X_sc = X.copy()\n",
    "Y_sc = Y.copy()"
   ]
  },
  {
   "cell_type": "code",
   "execution_count": 127,
   "metadata": {},
   "outputs": [],
   "source": [
    "split_index=  190000\n",
    "\n",
    "\n",
    "from sklearn.preprocessing import MinMaxScaler\n",
    "\n",
    "scX = MinMaxScaler(feature_range=(-0.5,0.5))\n",
    "X_sc[:split_index] = scX.fit_transform(X_sc[:split_index])\n",
    "X_sc[split_index:] = scX.transform(X_sc[split_index:])\n",
    "\n",
    "scY = MinMaxScaler(feature_range=(-0.5,0.5))\n",
    "Y_sc[:split_index] = scY.fit_transform(Y_sc[:split_index])\n",
    "Y_sc[split_index:] = scY.transform(Y_sc[split_index:])\n"
   ]
  },
  {
   "cell_type": "code",
   "execution_count": 128,
   "metadata": {},
   "outputs": [],
   "source": [
    "# add windows\n",
    "for s in np.arange(1, 2000):\n",
    "    X_sc['shift_{}'.format(s)] = X_sc[0].shift(s)\n",
    "    X_sc['shift_{}'.format(s)] = X_sc[0].shift(s)\n"
   ]
  },
  {
   "cell_type": "code",
   "execution_count": 129,
   "metadata": {},
   "outputs": [],
   "source": [
    "\n",
    "train_x = X_sc[:split_index].copy()\n",
    "test_x = X_sc[split_index:].copy()\n",
    "\n",
    "train_y = Y_sc[:split_index].copy()\n",
    "test_y = Y_sc[split_index:].copy()"
   ]
  },
  {
   "cell_type": "code",
   "execution_count": 130,
   "metadata": {},
   "outputs": [
    {
     "data": {
      "text/html": [
       "<div>\n",
       "<style scoped>\n",
       "    .dataframe tbody tr th:only-of-type {\n",
       "        vertical-align: middle;\n",
       "    }\n",
       "\n",
       "    .dataframe tbody tr th {\n",
       "        vertical-align: top;\n",
       "    }\n",
       "\n",
       "    .dataframe thead th {\n",
       "        text-align: right;\n",
       "    }\n",
       "</style>\n",
       "<table border=\"1\" class=\"dataframe\">\n",
       "  <thead>\n",
       "    <tr style=\"text-align: right;\">\n",
       "      <th></th>\n",
       "      <th>0</th>\n",
       "    </tr>\n",
       "  </thead>\n",
       "  <tbody>\n",
       "    <tr>\n",
       "      <th>190000</th>\n",
       "      <td>-0.083439</td>\n",
       "    </tr>\n",
       "    <tr>\n",
       "      <th>190001</th>\n",
       "      <td>-0.083198</td>\n",
       "    </tr>\n",
       "    <tr>\n",
       "      <th>190002</th>\n",
       "      <td>-0.082957</td>\n",
       "    </tr>\n",
       "    <tr>\n",
       "      <th>190003</th>\n",
       "      <td>-0.082717</td>\n",
       "    </tr>\n",
       "    <tr>\n",
       "      <th>190004</th>\n",
       "      <td>-0.082476</td>\n",
       "    </tr>\n",
       "  </tbody>\n",
       "</table>\n",
       "</div>"
      ],
      "text/plain": [
       "               0\n",
       "190000 -0.083439\n",
       "190001 -0.083198\n",
       "190002 -0.082957\n",
       "190003 -0.082717\n",
       "190004 -0.082476"
      ]
     },
     "execution_count": 130,
     "metadata": {},
     "output_type": "execute_result"
    }
   ],
   "source": [
    "test_y.head()"
   ]
  },
  {
   "cell_type": "code",
   "execution_count": 131,
   "metadata": {},
   "outputs": [
    {
     "data": {
      "text/html": [
       "<div>\n",
       "<style scoped>\n",
       "    .dataframe tbody tr th:only-of-type {\n",
       "        vertical-align: middle;\n",
       "    }\n",
       "\n",
       "    .dataframe tbody tr th {\n",
       "        vertical-align: top;\n",
       "    }\n",
       "\n",
       "    .dataframe thead th {\n",
       "        text-align: right;\n",
       "    }\n",
       "</style>\n",
       "<table border=\"1\" class=\"dataframe\">\n",
       "  <thead>\n",
       "    <tr style=\"text-align: right;\">\n",
       "      <th></th>\n",
       "      <th>0</th>\n",
       "    </tr>\n",
       "  </thead>\n",
       "  <tbody>\n",
       "    <tr>\n",
       "      <th>189995</th>\n",
       "      <td>-0.084643</td>\n",
       "    </tr>\n",
       "    <tr>\n",
       "      <th>189996</th>\n",
       "      <td>-0.084402</td>\n",
       "    </tr>\n",
       "    <tr>\n",
       "      <th>189997</th>\n",
       "      <td>-0.084161</td>\n",
       "    </tr>\n",
       "    <tr>\n",
       "      <th>189998</th>\n",
       "      <td>-0.083921</td>\n",
       "    </tr>\n",
       "    <tr>\n",
       "      <th>189999</th>\n",
       "      <td>-0.083680</td>\n",
       "    </tr>\n",
       "  </tbody>\n",
       "</table>\n",
       "</div>"
      ],
      "text/plain": [
       "               0\n",
       "189995 -0.084643\n",
       "189996 -0.084402\n",
       "189997 -0.084161\n",
       "189998 -0.083921\n",
       "189999 -0.083680"
      ]
     },
     "execution_count": 131,
     "metadata": {},
     "output_type": "execute_result"
    }
   ],
   "source": [
    "train_y.tail()"
   ]
  },
  {
   "cell_type": "code",
   "execution_count": 132,
   "metadata": {},
   "outputs": [
    {
     "data": {
      "text/html": [
       "<div>\n",
       "<style scoped>\n",
       "    .dataframe tbody tr th:only-of-type {\n",
       "        vertical-align: middle;\n",
       "    }\n",
       "\n",
       "    .dataframe tbody tr th {\n",
       "        vertical-align: top;\n",
       "    }\n",
       "\n",
       "    .dataframe thead th {\n",
       "        text-align: right;\n",
       "    }\n",
       "</style>\n",
       "<table border=\"1\" class=\"dataframe\">\n",
       "  <thead>\n",
       "    <tr style=\"text-align: right;\">\n",
       "      <th></th>\n",
       "      <th>0</th>\n",
       "      <th>shift_1</th>\n",
       "      <th>shift_2</th>\n",
       "      <th>shift_3</th>\n",
       "      <th>shift_4</th>\n",
       "      <th>shift_5</th>\n",
       "      <th>shift_6</th>\n",
       "      <th>shift_7</th>\n",
       "      <th>shift_8</th>\n",
       "      <th>shift_9</th>\n",
       "      <th>...</th>\n",
       "      <th>shift_1990</th>\n",
       "      <th>shift_1991</th>\n",
       "      <th>shift_1992</th>\n",
       "      <th>shift_1993</th>\n",
       "      <th>shift_1994</th>\n",
       "      <th>shift_1995</th>\n",
       "      <th>shift_1996</th>\n",
       "      <th>shift_1997</th>\n",
       "      <th>shift_1998</th>\n",
       "      <th>shift_1999</th>\n",
       "    </tr>\n",
       "  </thead>\n",
       "  <tbody>\n",
       "    <tr>\n",
       "      <th>0</th>\n",
       "      <td>-0.059462</td>\n",
       "      <td>NaN</td>\n",
       "      <td>NaN</td>\n",
       "      <td>NaN</td>\n",
       "      <td>NaN</td>\n",
       "      <td>NaN</td>\n",
       "      <td>NaN</td>\n",
       "      <td>NaN</td>\n",
       "      <td>NaN</td>\n",
       "      <td>NaN</td>\n",
       "      <td>...</td>\n",
       "      <td>NaN</td>\n",
       "      <td>NaN</td>\n",
       "      <td>NaN</td>\n",
       "      <td>NaN</td>\n",
       "      <td>NaN</td>\n",
       "      <td>NaN</td>\n",
       "      <td>NaN</td>\n",
       "      <td>NaN</td>\n",
       "      <td>NaN</td>\n",
       "      <td>NaN</td>\n",
       "    </tr>\n",
       "    <tr>\n",
       "      <th>1</th>\n",
       "      <td>-0.059046</td>\n",
       "      <td>-0.059462</td>\n",
       "      <td>NaN</td>\n",
       "      <td>NaN</td>\n",
       "      <td>NaN</td>\n",
       "      <td>NaN</td>\n",
       "      <td>NaN</td>\n",
       "      <td>NaN</td>\n",
       "      <td>NaN</td>\n",
       "      <td>NaN</td>\n",
       "      <td>...</td>\n",
       "      <td>NaN</td>\n",
       "      <td>NaN</td>\n",
       "      <td>NaN</td>\n",
       "      <td>NaN</td>\n",
       "      <td>NaN</td>\n",
       "      <td>NaN</td>\n",
       "      <td>NaN</td>\n",
       "      <td>NaN</td>\n",
       "      <td>NaN</td>\n",
       "      <td>NaN</td>\n",
       "    </tr>\n",
       "    <tr>\n",
       "      <th>2</th>\n",
       "      <td>-0.058838</td>\n",
       "      <td>-0.059046</td>\n",
       "      <td>-0.059462</td>\n",
       "      <td>NaN</td>\n",
       "      <td>NaN</td>\n",
       "      <td>NaN</td>\n",
       "      <td>NaN</td>\n",
       "      <td>NaN</td>\n",
       "      <td>NaN</td>\n",
       "      <td>NaN</td>\n",
       "      <td>...</td>\n",
       "      <td>NaN</td>\n",
       "      <td>NaN</td>\n",
       "      <td>NaN</td>\n",
       "      <td>NaN</td>\n",
       "      <td>NaN</td>\n",
       "      <td>NaN</td>\n",
       "      <td>NaN</td>\n",
       "      <td>NaN</td>\n",
       "      <td>NaN</td>\n",
       "      <td>NaN</td>\n",
       "    </tr>\n",
       "    <tr>\n",
       "      <th>3</th>\n",
       "      <td>-0.058838</td>\n",
       "      <td>-0.058838</td>\n",
       "      <td>-0.059046</td>\n",
       "      <td>-0.059462</td>\n",
       "      <td>NaN</td>\n",
       "      <td>NaN</td>\n",
       "      <td>NaN</td>\n",
       "      <td>NaN</td>\n",
       "      <td>NaN</td>\n",
       "      <td>NaN</td>\n",
       "      <td>...</td>\n",
       "      <td>NaN</td>\n",
       "      <td>NaN</td>\n",
       "      <td>NaN</td>\n",
       "      <td>NaN</td>\n",
       "      <td>NaN</td>\n",
       "      <td>NaN</td>\n",
       "      <td>NaN</td>\n",
       "      <td>NaN</td>\n",
       "      <td>NaN</td>\n",
       "      <td>NaN</td>\n",
       "    </tr>\n",
       "    <tr>\n",
       "      <th>4</th>\n",
       "      <td>-0.059046</td>\n",
       "      <td>-0.058838</td>\n",
       "      <td>-0.058838</td>\n",
       "      <td>-0.059046</td>\n",
       "      <td>-0.059462</td>\n",
       "      <td>NaN</td>\n",
       "      <td>NaN</td>\n",
       "      <td>NaN</td>\n",
       "      <td>NaN</td>\n",
       "      <td>NaN</td>\n",
       "      <td>...</td>\n",
       "      <td>NaN</td>\n",
       "      <td>NaN</td>\n",
       "      <td>NaN</td>\n",
       "      <td>NaN</td>\n",
       "      <td>NaN</td>\n",
       "      <td>NaN</td>\n",
       "      <td>NaN</td>\n",
       "      <td>NaN</td>\n",
       "      <td>NaN</td>\n",
       "      <td>NaN</td>\n",
       "    </tr>\n",
       "  </tbody>\n",
       "</table>\n",
       "<p>5 rows × 2000 columns</p>\n",
       "</div>"
      ],
      "text/plain": [
       "          0   shift_1   shift_2   shift_3   shift_4  shift_5  shift_6  \\\n",
       "0 -0.059462       NaN       NaN       NaN       NaN      NaN      NaN   \n",
       "1 -0.059046 -0.059462       NaN       NaN       NaN      NaN      NaN   \n",
       "2 -0.058838 -0.059046 -0.059462       NaN       NaN      NaN      NaN   \n",
       "3 -0.058838 -0.058838 -0.059046 -0.059462       NaN      NaN      NaN   \n",
       "4 -0.059046 -0.058838 -0.058838 -0.059046 -0.059462      NaN      NaN   \n",
       "\n",
       "   shift_7  shift_8  shift_9     ...      shift_1990  shift_1991  shift_1992  \\\n",
       "0      NaN      NaN      NaN     ...             NaN         NaN         NaN   \n",
       "1      NaN      NaN      NaN     ...             NaN         NaN         NaN   \n",
       "2      NaN      NaN      NaN     ...             NaN         NaN         NaN   \n",
       "3      NaN      NaN      NaN     ...             NaN         NaN         NaN   \n",
       "4      NaN      NaN      NaN     ...             NaN         NaN         NaN   \n",
       "\n",
       "   shift_1993  shift_1994  shift_1995  shift_1996  shift_1997  shift_1998  \\\n",
       "0         NaN         NaN         NaN         NaN         NaN         NaN   \n",
       "1         NaN         NaN         NaN         NaN         NaN         NaN   \n",
       "2         NaN         NaN         NaN         NaN         NaN         NaN   \n",
       "3         NaN         NaN         NaN         NaN         NaN         NaN   \n",
       "4         NaN         NaN         NaN         NaN         NaN         NaN   \n",
       "\n",
       "   shift_1999  \n",
       "0         NaN  \n",
       "1         NaN  \n",
       "2         NaN  \n",
       "3         NaN  \n",
       "4         NaN  \n",
       "\n",
       "[5 rows x 2000 columns]"
      ]
     },
     "execution_count": 132,
     "metadata": {},
     "output_type": "execute_result"
    }
   ],
   "source": [
    "train_x.head()"
   ]
  },
  {
   "cell_type": "code",
   "execution_count": 133,
   "metadata": {},
   "outputs": [
    {
     "data": {
      "text/html": [
       "<div>\n",
       "<style scoped>\n",
       "    .dataframe tbody tr th:only-of-type {\n",
       "        vertical-align: middle;\n",
       "    }\n",
       "\n",
       "    .dataframe tbody tr th {\n",
       "        vertical-align: top;\n",
       "    }\n",
       "\n",
       "    .dataframe thead th {\n",
       "        text-align: right;\n",
       "    }\n",
       "</style>\n",
       "<table border=\"1\" class=\"dataframe\">\n",
       "  <thead>\n",
       "    <tr style=\"text-align: right;\">\n",
       "      <th></th>\n",
       "      <th>0</th>\n",
       "      <th>shift_1</th>\n",
       "      <th>shift_2</th>\n",
       "      <th>shift_3</th>\n",
       "      <th>shift_4</th>\n",
       "      <th>shift_5</th>\n",
       "      <th>shift_6</th>\n",
       "      <th>shift_7</th>\n",
       "      <th>shift_8</th>\n",
       "      <th>shift_9</th>\n",
       "      <th>...</th>\n",
       "      <th>shift_1990</th>\n",
       "      <th>shift_1991</th>\n",
       "      <th>shift_1992</th>\n",
       "      <th>shift_1993</th>\n",
       "      <th>shift_1994</th>\n",
       "      <th>shift_1995</th>\n",
       "      <th>shift_1996</th>\n",
       "      <th>shift_1997</th>\n",
       "      <th>shift_1998</th>\n",
       "      <th>shift_1999</th>\n",
       "    </tr>\n",
       "  </thead>\n",
       "  <tbody>\n",
       "    <tr>\n",
       "      <th>0</th>\n",
       "      <td>-0.156857</td>\n",
       "      <td>NaN</td>\n",
       "      <td>NaN</td>\n",
       "      <td>NaN</td>\n",
       "      <td>NaN</td>\n",
       "      <td>NaN</td>\n",
       "      <td>NaN</td>\n",
       "      <td>NaN</td>\n",
       "      <td>NaN</td>\n",
       "      <td>NaN</td>\n",
       "      <td>...</td>\n",
       "      <td>NaN</td>\n",
       "      <td>NaN</td>\n",
       "      <td>NaN</td>\n",
       "      <td>NaN</td>\n",
       "      <td>NaN</td>\n",
       "      <td>NaN</td>\n",
       "      <td>NaN</td>\n",
       "      <td>NaN</td>\n",
       "      <td>NaN</td>\n",
       "      <td>NaN</td>\n",
       "    </tr>\n",
       "    <tr>\n",
       "      <th>1</th>\n",
       "      <td>-0.151815</td>\n",
       "      <td>-0.059462</td>\n",
       "      <td>NaN</td>\n",
       "      <td>NaN</td>\n",
       "      <td>NaN</td>\n",
       "      <td>NaN</td>\n",
       "      <td>NaN</td>\n",
       "      <td>NaN</td>\n",
       "      <td>NaN</td>\n",
       "      <td>NaN</td>\n",
       "      <td>...</td>\n",
       "      <td>NaN</td>\n",
       "      <td>NaN</td>\n",
       "      <td>NaN</td>\n",
       "      <td>NaN</td>\n",
       "      <td>NaN</td>\n",
       "      <td>NaN</td>\n",
       "      <td>NaN</td>\n",
       "      <td>NaN</td>\n",
       "      <td>NaN</td>\n",
       "      <td>NaN</td>\n",
       "    </tr>\n",
       "    <tr>\n",
       "      <th>2</th>\n",
       "      <td>-0.146773</td>\n",
       "      <td>-0.059046</td>\n",
       "      <td>-0.059462</td>\n",
       "      <td>NaN</td>\n",
       "      <td>NaN</td>\n",
       "      <td>NaN</td>\n",
       "      <td>NaN</td>\n",
       "      <td>NaN</td>\n",
       "      <td>NaN</td>\n",
       "      <td>NaN</td>\n",
       "      <td>...</td>\n",
       "      <td>NaN</td>\n",
       "      <td>NaN</td>\n",
       "      <td>NaN</td>\n",
       "      <td>NaN</td>\n",
       "      <td>NaN</td>\n",
       "      <td>NaN</td>\n",
       "      <td>NaN</td>\n",
       "      <td>NaN</td>\n",
       "      <td>NaN</td>\n",
       "      <td>NaN</td>\n",
       "    </tr>\n",
       "    <tr>\n",
       "      <th>3</th>\n",
       "      <td>-0.141731</td>\n",
       "      <td>-0.058838</td>\n",
       "      <td>-0.059046</td>\n",
       "      <td>-0.059462</td>\n",
       "      <td>NaN</td>\n",
       "      <td>NaN</td>\n",
       "      <td>NaN</td>\n",
       "      <td>NaN</td>\n",
       "      <td>NaN</td>\n",
       "      <td>NaN</td>\n",
       "      <td>...</td>\n",
       "      <td>NaN</td>\n",
       "      <td>NaN</td>\n",
       "      <td>NaN</td>\n",
       "      <td>NaN</td>\n",
       "      <td>NaN</td>\n",
       "      <td>NaN</td>\n",
       "      <td>NaN</td>\n",
       "      <td>NaN</td>\n",
       "      <td>NaN</td>\n",
       "      <td>NaN</td>\n",
       "    </tr>\n",
       "    <tr>\n",
       "      <th>4</th>\n",
       "      <td>-0.136689</td>\n",
       "      <td>-0.058838</td>\n",
       "      <td>-0.058838</td>\n",
       "      <td>-0.059046</td>\n",
       "      <td>-0.059462</td>\n",
       "      <td>NaN</td>\n",
       "      <td>NaN</td>\n",
       "      <td>NaN</td>\n",
       "      <td>NaN</td>\n",
       "      <td>NaN</td>\n",
       "      <td>...</td>\n",
       "      <td>NaN</td>\n",
       "      <td>NaN</td>\n",
       "      <td>NaN</td>\n",
       "      <td>NaN</td>\n",
       "      <td>NaN</td>\n",
       "      <td>NaN</td>\n",
       "      <td>NaN</td>\n",
       "      <td>NaN</td>\n",
       "      <td>NaN</td>\n",
       "      <td>NaN</td>\n",
       "    </tr>\n",
       "    <tr>\n",
       "      <th>5</th>\n",
       "      <td>-0.131647</td>\n",
       "      <td>-0.059046</td>\n",
       "      <td>-0.058838</td>\n",
       "      <td>-0.058838</td>\n",
       "      <td>-0.059046</td>\n",
       "      <td>-0.059462</td>\n",
       "      <td>NaN</td>\n",
       "      <td>NaN</td>\n",
       "      <td>NaN</td>\n",
       "      <td>NaN</td>\n",
       "      <td>...</td>\n",
       "      <td>NaN</td>\n",
       "      <td>NaN</td>\n",
       "      <td>NaN</td>\n",
       "      <td>NaN</td>\n",
       "      <td>NaN</td>\n",
       "      <td>NaN</td>\n",
       "      <td>NaN</td>\n",
       "      <td>NaN</td>\n",
       "      <td>NaN</td>\n",
       "      <td>NaN</td>\n",
       "    </tr>\n",
       "    <tr>\n",
       "      <th>6</th>\n",
       "      <td>-0.126605</td>\n",
       "      <td>-0.059046</td>\n",
       "      <td>-0.059046</td>\n",
       "      <td>-0.058838</td>\n",
       "      <td>-0.058838</td>\n",
       "      <td>-0.059046</td>\n",
       "      <td>-0.059462</td>\n",
       "      <td>NaN</td>\n",
       "      <td>NaN</td>\n",
       "      <td>NaN</td>\n",
       "      <td>...</td>\n",
       "      <td>NaN</td>\n",
       "      <td>NaN</td>\n",
       "      <td>NaN</td>\n",
       "      <td>NaN</td>\n",
       "      <td>NaN</td>\n",
       "      <td>NaN</td>\n",
       "      <td>NaN</td>\n",
       "      <td>NaN</td>\n",
       "      <td>NaN</td>\n",
       "      <td>NaN</td>\n",
       "    </tr>\n",
       "    <tr>\n",
       "      <th>7</th>\n",
       "      <td>-0.121563</td>\n",
       "      <td>-0.059254</td>\n",
       "      <td>-0.059046</td>\n",
       "      <td>-0.059046</td>\n",
       "      <td>-0.058838</td>\n",
       "      <td>-0.058838</td>\n",
       "      <td>-0.059046</td>\n",
       "      <td>-0.059462</td>\n",
       "      <td>NaN</td>\n",
       "      <td>NaN</td>\n",
       "      <td>...</td>\n",
       "      <td>NaN</td>\n",
       "      <td>NaN</td>\n",
       "      <td>NaN</td>\n",
       "      <td>NaN</td>\n",
       "      <td>NaN</td>\n",
       "      <td>NaN</td>\n",
       "      <td>NaN</td>\n",
       "      <td>NaN</td>\n",
       "      <td>NaN</td>\n",
       "      <td>NaN</td>\n",
       "    </tr>\n",
       "    <tr>\n",
       "      <th>8</th>\n",
       "      <td>-0.116521</td>\n",
       "      <td>-0.058214</td>\n",
       "      <td>-0.059254</td>\n",
       "      <td>-0.059046</td>\n",
       "      <td>-0.059046</td>\n",
       "      <td>-0.058838</td>\n",
       "      <td>-0.058838</td>\n",
       "      <td>-0.059046</td>\n",
       "      <td>-0.059462</td>\n",
       "      <td>NaN</td>\n",
       "      <td>...</td>\n",
       "      <td>NaN</td>\n",
       "      <td>NaN</td>\n",
       "      <td>NaN</td>\n",
       "      <td>NaN</td>\n",
       "      <td>NaN</td>\n",
       "      <td>NaN</td>\n",
       "      <td>NaN</td>\n",
       "      <td>NaN</td>\n",
       "      <td>NaN</td>\n",
       "      <td>NaN</td>\n",
       "    </tr>\n",
       "    <tr>\n",
       "      <th>9</th>\n",
       "      <td>-0.111479</td>\n",
       "      <td>-0.059462</td>\n",
       "      <td>-0.058214</td>\n",
       "      <td>-0.059254</td>\n",
       "      <td>-0.059046</td>\n",
       "      <td>-0.059046</td>\n",
       "      <td>-0.058838</td>\n",
       "      <td>-0.058838</td>\n",
       "      <td>-0.059046</td>\n",
       "      <td>-0.059462</td>\n",
       "      <td>...</td>\n",
       "      <td>NaN</td>\n",
       "      <td>NaN</td>\n",
       "      <td>NaN</td>\n",
       "      <td>NaN</td>\n",
       "      <td>NaN</td>\n",
       "      <td>NaN</td>\n",
       "      <td>NaN</td>\n",
       "      <td>NaN</td>\n",
       "      <td>NaN</td>\n",
       "      <td>NaN</td>\n",
       "    </tr>\n",
       "    <tr>\n",
       "      <th>10</th>\n",
       "      <td>-0.106437</td>\n",
       "      <td>-0.060502</td>\n",
       "      <td>-0.059462</td>\n",
       "      <td>-0.058214</td>\n",
       "      <td>-0.059254</td>\n",
       "      <td>-0.059046</td>\n",
       "      <td>-0.059046</td>\n",
       "      <td>-0.058838</td>\n",
       "      <td>-0.058838</td>\n",
       "      <td>-0.059046</td>\n",
       "      <td>...</td>\n",
       "      <td>NaN</td>\n",
       "      <td>NaN</td>\n",
       "      <td>NaN</td>\n",
       "      <td>NaN</td>\n",
       "      <td>NaN</td>\n",
       "      <td>NaN</td>\n",
       "      <td>NaN</td>\n",
       "      <td>NaN</td>\n",
       "      <td>NaN</td>\n",
       "      <td>NaN</td>\n",
       "    </tr>\n",
       "    <tr>\n",
       "      <th>11</th>\n",
       "      <td>-0.101395</td>\n",
       "      <td>-0.059462</td>\n",
       "      <td>-0.060502</td>\n",
       "      <td>-0.059462</td>\n",
       "      <td>-0.058214</td>\n",
       "      <td>-0.059254</td>\n",
       "      <td>-0.059046</td>\n",
       "      <td>-0.059046</td>\n",
       "      <td>-0.058838</td>\n",
       "      <td>-0.058838</td>\n",
       "      <td>...</td>\n",
       "      <td>NaN</td>\n",
       "      <td>NaN</td>\n",
       "      <td>NaN</td>\n",
       "      <td>NaN</td>\n",
       "      <td>NaN</td>\n",
       "      <td>NaN</td>\n",
       "      <td>NaN</td>\n",
       "      <td>NaN</td>\n",
       "      <td>NaN</td>\n",
       "      <td>NaN</td>\n",
       "    </tr>\n",
       "    <tr>\n",
       "      <th>12</th>\n",
       "      <td>-0.096353</td>\n",
       "      <td>-0.060085</td>\n",
       "      <td>-0.059462</td>\n",
       "      <td>-0.060502</td>\n",
       "      <td>-0.059462</td>\n",
       "      <td>-0.058214</td>\n",
       "      <td>-0.059254</td>\n",
       "      <td>-0.059046</td>\n",
       "      <td>-0.059046</td>\n",
       "      <td>-0.058838</td>\n",
       "      <td>...</td>\n",
       "      <td>NaN</td>\n",
       "      <td>NaN</td>\n",
       "      <td>NaN</td>\n",
       "      <td>NaN</td>\n",
       "      <td>NaN</td>\n",
       "      <td>NaN</td>\n",
       "      <td>NaN</td>\n",
       "      <td>NaN</td>\n",
       "      <td>NaN</td>\n",
       "      <td>NaN</td>\n",
       "    </tr>\n",
       "    <tr>\n",
       "      <th>13</th>\n",
       "      <td>-0.091311</td>\n",
       "      <td>-0.060917</td>\n",
       "      <td>-0.060085</td>\n",
       "      <td>-0.059462</td>\n",
       "      <td>-0.060502</td>\n",
       "      <td>-0.059462</td>\n",
       "      <td>-0.058214</td>\n",
       "      <td>-0.059254</td>\n",
       "      <td>-0.059046</td>\n",
       "      <td>-0.059046</td>\n",
       "      <td>...</td>\n",
       "      <td>NaN</td>\n",
       "      <td>NaN</td>\n",
       "      <td>NaN</td>\n",
       "      <td>NaN</td>\n",
       "      <td>NaN</td>\n",
       "      <td>NaN</td>\n",
       "      <td>NaN</td>\n",
       "      <td>NaN</td>\n",
       "      <td>NaN</td>\n",
       "      <td>NaN</td>\n",
       "    </tr>\n",
       "    <tr>\n",
       "      <th>14</th>\n",
       "      <td>-0.086269</td>\n",
       "      <td>-0.062581</td>\n",
       "      <td>-0.060917</td>\n",
       "      <td>-0.060085</td>\n",
       "      <td>-0.059462</td>\n",
       "      <td>-0.060502</td>\n",
       "      <td>-0.059462</td>\n",
       "      <td>-0.058214</td>\n",
       "      <td>-0.059254</td>\n",
       "      <td>-0.059046</td>\n",
       "      <td>...</td>\n",
       "      <td>NaN</td>\n",
       "      <td>NaN</td>\n",
       "      <td>NaN</td>\n",
       "      <td>NaN</td>\n",
       "      <td>NaN</td>\n",
       "      <td>NaN</td>\n",
       "      <td>NaN</td>\n",
       "      <td>NaN</td>\n",
       "      <td>NaN</td>\n",
       "      <td>NaN</td>\n",
       "    </tr>\n",
       "  </tbody>\n",
       "</table>\n",
       "<p>15 rows × 2000 columns</p>\n",
       "</div>"
      ],
      "text/plain": [
       "           0   shift_1   shift_2   shift_3   shift_4   shift_5   shift_6  \\\n",
       "0  -0.156857       NaN       NaN       NaN       NaN       NaN       NaN   \n",
       "1  -0.151815 -0.059462       NaN       NaN       NaN       NaN       NaN   \n",
       "2  -0.146773 -0.059046 -0.059462       NaN       NaN       NaN       NaN   \n",
       "3  -0.141731 -0.058838 -0.059046 -0.059462       NaN       NaN       NaN   \n",
       "4  -0.136689 -0.058838 -0.058838 -0.059046 -0.059462       NaN       NaN   \n",
       "5  -0.131647 -0.059046 -0.058838 -0.058838 -0.059046 -0.059462       NaN   \n",
       "6  -0.126605 -0.059046 -0.059046 -0.058838 -0.058838 -0.059046 -0.059462   \n",
       "7  -0.121563 -0.059254 -0.059046 -0.059046 -0.058838 -0.058838 -0.059046   \n",
       "8  -0.116521 -0.058214 -0.059254 -0.059046 -0.059046 -0.058838 -0.058838   \n",
       "9  -0.111479 -0.059462 -0.058214 -0.059254 -0.059046 -0.059046 -0.058838   \n",
       "10 -0.106437 -0.060502 -0.059462 -0.058214 -0.059254 -0.059046 -0.059046   \n",
       "11 -0.101395 -0.059462 -0.060502 -0.059462 -0.058214 -0.059254 -0.059046   \n",
       "12 -0.096353 -0.060085 -0.059462 -0.060502 -0.059462 -0.058214 -0.059254   \n",
       "13 -0.091311 -0.060917 -0.060085 -0.059462 -0.060502 -0.059462 -0.058214   \n",
       "14 -0.086269 -0.062581 -0.060917 -0.060085 -0.059462 -0.060502 -0.059462   \n",
       "\n",
       "     shift_7   shift_8   shift_9     ...      shift_1990  shift_1991  \\\n",
       "0        NaN       NaN       NaN     ...             NaN         NaN   \n",
       "1        NaN       NaN       NaN     ...             NaN         NaN   \n",
       "2        NaN       NaN       NaN     ...             NaN         NaN   \n",
       "3        NaN       NaN       NaN     ...             NaN         NaN   \n",
       "4        NaN       NaN       NaN     ...             NaN         NaN   \n",
       "5        NaN       NaN       NaN     ...             NaN         NaN   \n",
       "6        NaN       NaN       NaN     ...             NaN         NaN   \n",
       "7  -0.059462       NaN       NaN     ...             NaN         NaN   \n",
       "8  -0.059046 -0.059462       NaN     ...             NaN         NaN   \n",
       "9  -0.058838 -0.059046 -0.059462     ...             NaN         NaN   \n",
       "10 -0.058838 -0.058838 -0.059046     ...             NaN         NaN   \n",
       "11 -0.059046 -0.058838 -0.058838     ...             NaN         NaN   \n",
       "12 -0.059046 -0.059046 -0.058838     ...             NaN         NaN   \n",
       "13 -0.059254 -0.059046 -0.059046     ...             NaN         NaN   \n",
       "14 -0.058214 -0.059254 -0.059046     ...             NaN         NaN   \n",
       "\n",
       "    shift_1992  shift_1993  shift_1994  shift_1995  shift_1996  shift_1997  \\\n",
       "0          NaN         NaN         NaN         NaN         NaN         NaN   \n",
       "1          NaN         NaN         NaN         NaN         NaN         NaN   \n",
       "2          NaN         NaN         NaN         NaN         NaN         NaN   \n",
       "3          NaN         NaN         NaN         NaN         NaN         NaN   \n",
       "4          NaN         NaN         NaN         NaN         NaN         NaN   \n",
       "5          NaN         NaN         NaN         NaN         NaN         NaN   \n",
       "6          NaN         NaN         NaN         NaN         NaN         NaN   \n",
       "7          NaN         NaN         NaN         NaN         NaN         NaN   \n",
       "8          NaN         NaN         NaN         NaN         NaN         NaN   \n",
       "9          NaN         NaN         NaN         NaN         NaN         NaN   \n",
       "10         NaN         NaN         NaN         NaN         NaN         NaN   \n",
       "11         NaN         NaN         NaN         NaN         NaN         NaN   \n",
       "12         NaN         NaN         NaN         NaN         NaN         NaN   \n",
       "13         NaN         NaN         NaN         NaN         NaN         NaN   \n",
       "14         NaN         NaN         NaN         NaN         NaN         NaN   \n",
       "\n",
       "    shift_1998  shift_1999  \n",
       "0          NaN         NaN  \n",
       "1          NaN         NaN  \n",
       "2          NaN         NaN  \n",
       "3          NaN         NaN  \n",
       "4          NaN         NaN  \n",
       "5          NaN         NaN  \n",
       "6          NaN         NaN  \n",
       "7          NaN         NaN  \n",
       "8          NaN         NaN  \n",
       "9          NaN         NaN  \n",
       "10         NaN         NaN  \n",
       "11         NaN         NaN  \n",
       "12         NaN         NaN  \n",
       "13         NaN         NaN  \n",
       "14         NaN         NaN  \n",
       "\n",
       "[15 rows x 2000 columns]"
      ]
     },
     "execution_count": 133,
     "metadata": {},
     "output_type": "execute_result"
    }
   ],
   "source": [
    "train_x.iloc[:, 0] = train_y.iloc[:,0]\n",
    "#test_x.iloc[:, 0] = test_y.values\n",
    "train_x.head(15)"
   ]
  },
  {
   "cell_type": "code",
   "execution_count": 134,
   "metadata": {},
   "outputs": [],
   "source": [
    "X_train = train_x.dropna().drop(0, axis=1)\n",
    "y_train = train_x.dropna()[[0]]\n",
    "\n",
    "X_test = test_x.dropna().drop(0, axis=1)\n",
    "y_test = test_y.dropna()[[0]]"
   ]
  },
  {
   "cell_type": "code",
   "execution_count": 135,
   "metadata": {},
   "outputs": [],
   "source": [
    "X_train = X_train.values\n",
    "X_test= X_test.values\n",
    "\n",
    "y_train = y_train.values\n",
    "y_test = y_test.values"
   ]
  },
  {
   "cell_type": "code",
   "execution_count": 136,
   "metadata": {},
   "outputs": [
    {
     "data": {
      "text/plain": [
       "((188001, 1999), (35009, 1999), (188001, 1), (35009, 1))"
      ]
     },
     "execution_count": 136,
     "metadata": {},
     "output_type": "execute_result"
    }
   ],
   "source": [
    "X_train.shape, X_test.shape, y_train.shape, y_test.shape"
   ]
  },
  {
   "cell_type": "code",
   "execution_count": 137,
   "metadata": {},
   "outputs": [],
   "source": [
    "from keras.layers.core import Dense, Activation, Dropout\n",
    "from keras.layers.recurrent import LSTM\n",
    "from keras.models import Sequential\n",
    "from keras.callbacks import EarlyStopping\n",
    "import keras.backend as K"
   ]
  },
  {
   "cell_type": "code",
   "execution_count": 138,
   "metadata": {},
   "outputs": [
    {
     "name": "stdout",
     "output_type": "stream",
     "text": [
      "_________________________________________________________________\n",
      "Layer (type)                 Output Shape              Param #   \n",
      "=================================================================\n",
      "dense_1 (Dense)              (None, 1)                 2000      \n",
      "_________________________________________________________________\n",
      "dense_2 (Dense)              (None, 40)                80        \n",
      "_________________________________________________________________\n",
      "dense_3 (Dense)              (None, 1)                 41        \n",
      "=================================================================\n",
      "Total params: 2,121\n",
      "Trainable params: 2,121\n",
      "Non-trainable params: 0\n",
      "_________________________________________________________________\n"
     ]
    }
   ],
   "source": [
    "K.clear_session()\n",
    "\n",
    "model = Sequential()\n",
    "model.add(Dense(1, input_dim=X_train.shape[1], activation='tanh'))\n",
    "model.add(Dense(40, activation='tanh'))\n",
    "model.add(Dense(1, activation = \"linear\"))\n",
    "model.compile(loss='mean_absolute_error', optimizer='adam', metrics = ['mse'])\n",
    "model.summary()\n"
   ]
  },
  {
   "cell_type": "code",
   "execution_count": 139,
   "metadata": {},
   "outputs": [],
   "source": [
    "early_stop = EarlyStopping(monitor='val_loss', patience=50, verbose=1, min_delta =0.00001)"
   ]
  },
  {
   "cell_type": "code",
   "execution_count": 145,
   "metadata": {},
   "outputs": [
    {
     "name": "stdout",
     "output_type": "stream",
     "text": [
      "Train on 169200 samples, validate on 18801 samples\n",
      "Epoch 1/2000\n",
      "169200/169200 [==============================] - 10s 61us/step - loss: 0.0759 - mean_squared_error: 0.0100 - val_loss: 0.0794 - val_mean_squared_error: 0.0094\n",
      "Epoch 2/2000\n",
      "169200/169200 [==============================] - 10s 61us/step - loss: 0.0759 - mean_squared_error: 0.0100 - val_loss: 0.0799 - val_mean_squared_error: 0.0094\n",
      "Epoch 3/2000\n",
      "169200/169200 [==============================] - 10s 60us/step - loss: 0.0759 - mean_squared_error: 0.0100 - val_loss: 0.0784 - val_mean_squared_error: 0.0092\n",
      "Epoch 4/2000\n",
      "169200/169200 [==============================] - 10s 62us/step - loss: 0.0759 - mean_squared_error: 0.0100 - val_loss: 0.0783 - val_mean_squared_error: 0.0092\n",
      "Epoch 5/2000\n",
      "169200/169200 [==============================] - 11s 65us/step - loss: 0.0759 - mean_squared_error: 0.0100 - val_loss: 0.0796 - val_mean_squared_error: 0.0094\n",
      "Epoch 6/2000\n",
      "169200/169200 [==============================] - 11s 64us/step - loss: 0.0759 - mean_squared_error: 0.0100 - val_loss: 0.0785 - val_mean_squared_error: 0.0093\n",
      "Epoch 7/2000\n",
      "169200/169200 [==============================] - 10s 61us/step - loss: 0.0759 - mean_squared_error: 0.0100 - val_loss: 0.0808 - val_mean_squared_error: 0.0096\n",
      "Epoch 8/2000\n",
      "169200/169200 [==============================] - 10s 62us/step - loss: 0.0759 - mean_squared_error: 0.0100 - val_loss: 0.0773 - val_mean_squared_error: 0.0090\n",
      "Epoch 9/2000\n",
      "169200/169200 [==============================] - 10s 60us/step - loss: 0.0759 - mean_squared_error: 0.0100 - val_loss: 0.0774 - val_mean_squared_error: 0.0090\n",
      "Epoch 10/2000\n",
      "169200/169200 [==============================] - 10s 61us/step - loss: 0.0759 - mean_squared_error: 0.0100 - val_loss: 0.0822 - val_mean_squared_error: 0.0098\n",
      "Epoch 11/2000\n",
      "169200/169200 [==============================] - 10s 62us/step - loss: 0.0758 - mean_squared_error: 0.0100 - val_loss: 0.0801 - val_mean_squared_error: 0.0095\n",
      "Epoch 12/2000\n",
      "169200/169200 [==============================] - 10s 60us/step - loss: 0.0759 - mean_squared_error: 0.0100 - val_loss: 0.0808 - val_mean_squared_error: 0.0096\n",
      "Epoch 13/2000\n",
      "169200/169200 [==============================] - 10s 60us/step - loss: 0.0759 - mean_squared_error: 0.0100 - val_loss: 0.0789 - val_mean_squared_error: 0.0093\n",
      "Epoch 14/2000\n",
      "169200/169200 [==============================] - 10s 60us/step - loss: 0.0759 - mean_squared_error: 0.0100 - val_loss: 0.0776 - val_mean_squared_error: 0.0091\n",
      "Epoch 15/2000\n",
      "169200/169200 [==============================] - 11s 63us/step - loss: 0.0759 - mean_squared_error: 0.0100 - val_loss: 0.0800 - val_mean_squared_error: 0.0094\n",
      "Epoch 16/2000\n",
      "169200/169200 [==============================] - 10s 62us/step - loss: 0.0759 - mean_squared_error: 0.0100 - val_loss: 0.0808 - val_mean_squared_error: 0.0096\n",
      "Epoch 17/2000\n",
      "169200/169200 [==============================] - 10s 62us/step - loss: 0.0758 - mean_squared_error: 0.0100 - val_loss: 0.0792 - val_mean_squared_error: 0.0093\n",
      "Epoch 18/2000\n",
      "169200/169200 [==============================] - 11s 68us/step - loss: 0.0759 - mean_squared_error: 0.0100 - val_loss: 0.0791 - val_mean_squared_error: 0.0093\n",
      "Epoch 19/2000\n",
      "169200/169200 [==============================] - 11s 62us/step - loss: 0.0759 - mean_squared_error: 0.0100 - val_loss: 0.0802 - val_mean_squared_error: 0.0095\n",
      "Epoch 20/2000\n",
      "169200/169200 [==============================] - 11s 62us/step - loss: 0.0759 - mean_squared_error: 0.0100 - val_loss: 0.0794 - val_mean_squared_error: 0.0094\n",
      "Epoch 21/2000\n",
      "169200/169200 [==============================] - 11s 62us/step - loss: 0.0759 - mean_squared_error: 0.0100 - val_loss: 0.0802 - val_mean_squared_error: 0.0095\n",
      "Epoch 22/2000\n",
      "169200/169200 [==============================] - 11s 64us/step - loss: 0.0758 - mean_squared_error: 0.0100 - val_loss: 0.0788 - val_mean_squared_error: 0.0092\n",
      "Epoch 23/2000\n",
      "169200/169200 [==============================] - 11s 63us/step - loss: 0.0758 - mean_squared_error: 0.0100 - val_loss: 0.0805 - val_mean_squared_error: 0.0095\n",
      "Epoch 24/2000\n",
      "169200/169200 [==============================] - 11s 63us/step - loss: 0.0759 - mean_squared_error: 0.0100 - val_loss: 0.0800 - val_mean_squared_error: 0.0094\n",
      "Epoch 25/2000\n",
      "169200/169200 [==============================] - 11s 63us/step - loss: 0.0758 - mean_squared_error: 0.0100 - val_loss: 0.0798 - val_mean_squared_error: 0.0094\n",
      "Epoch 26/2000\n",
      "169200/169200 [==============================] - 10s 61us/step - loss: 0.0759 - mean_squared_error: 0.0100 - val_loss: 0.0788 - val_mean_squared_error: 0.0093\n",
      "Epoch 27/2000\n",
      "169200/169200 [==============================] - 10s 62us/step - loss: 0.0758 - mean_squared_error: 0.0100 - val_loss: 0.0798 - val_mean_squared_error: 0.0094\n",
      "Epoch 28/2000\n",
      "169200/169200 [==============================] - 10s 62us/step - loss: 0.0759 - mean_squared_error: 0.0100 - val_loss: 0.0789 - val_mean_squared_error: 0.0092\n",
      "Epoch 29/2000\n",
      "169200/169200 [==============================] - 10s 62us/step - loss: 0.0758 - mean_squared_error: 0.0100 - val_loss: 0.0800 - val_mean_squared_error: 0.0094\n",
      "Epoch 30/2000\n",
      "169200/169200 [==============================] - 11s 62us/step - loss: 0.0758 - mean_squared_error: 0.0100 - val_loss: 0.0801 - val_mean_squared_error: 0.0095\n",
      "Epoch 31/2000\n",
      "169200/169200 [==============================] - 11s 62us/step - loss: 0.0758 - mean_squared_error: 0.0100 - val_loss: 0.0790 - val_mean_squared_error: 0.0093\n",
      "Epoch 32/2000\n",
      "169200/169200 [==============================] - 11s 63us/step - loss: 0.0758 - mean_squared_error: 0.0100 - val_loss: 0.0784 - val_mean_squared_error: 0.0092\n",
      "Epoch 33/2000\n",
      "169200/169200 [==============================] - 11s 64us/step - loss: 0.0758 - mean_squared_error: 0.0100 - val_loss: 0.0795 - val_mean_squared_error: 0.0093\n",
      "Epoch 34/2000\n",
      "169200/169200 [==============================] - 11s 64us/step - loss: 0.0758 - mean_squared_error: 0.0100 - val_loss: 0.0773 - val_mean_squared_error: 0.0090\n",
      "Epoch 35/2000\n",
      "169200/169200 [==============================] - 11s 63us/step - loss: 0.0758 - mean_squared_error: 0.0100 - val_loss: 0.0804 - val_mean_squared_error: 0.0095\n",
      "Epoch 36/2000\n",
      "169200/169200 [==============================] - 10s 62us/step - loss: 0.0758 - mean_squared_error: 0.0100 - val_loss: 0.0786 - val_mean_squared_error: 0.0092\n",
      "Epoch 37/2000\n",
      "169200/169200 [==============================] - 10s 62us/step - loss: 0.0759 - mean_squared_error: 0.0100 - val_loss: 0.0783 - val_mean_squared_error: 0.0092\n",
      "Epoch 38/2000\n",
      "169200/169200 [==============================] - 10s 62us/step - loss: 0.0758 - mean_squared_error: 0.0100 - val_loss: 0.0791 - val_mean_squared_error: 0.0093\n",
      "Epoch 39/2000\n",
      "169200/169200 [==============================] - 10s 62us/step - loss: 0.0759 - mean_squared_error: 0.0100 - val_loss: 0.0780 - val_mean_squared_error: 0.0091\n",
      "Epoch 40/2000\n",
      "169200/169200 [==============================] - 10s 61us/step - loss: 0.0758 - mean_squared_error: 0.0100 - val_loss: 0.0792 - val_mean_squared_error: 0.0093\n",
      "Epoch 41/2000\n",
      "169200/169200 [==============================] - 10s 62us/step - loss: 0.0758 - mean_squared_error: 0.0100 - val_loss: 0.0807 - val_mean_squared_error: 0.0095\n",
      "Epoch 42/2000\n",
      "169200/169200 [==============================] - 10s 62us/step - loss: 0.0758 - mean_squared_error: 0.0100 - val_loss: 0.0785 - val_mean_squared_error: 0.0092\n",
      "Epoch 43/2000\n",
      "169200/169200 [==============================] - 10s 61us/step - loss: 0.0759 - mean_squared_error: 0.0100 - val_loss: 0.0802 - val_mean_squared_error: 0.0095\n",
      "Epoch 44/2000\n",
      "169200/169200 [==============================] - 11s 64us/step - loss: 0.0758 - mean_squared_error: 0.0100 - val_loss: 0.0773 - val_mean_squared_error: 0.0090\n",
      "Epoch 45/2000\n",
      "169200/169200 [==============================] - 10s 61us/step - loss: 0.0758 - mean_squared_error: 0.0100 - val_loss: 0.0801 - val_mean_squared_error: 0.0095\n",
      "Epoch 46/2000\n",
      "169200/169200 [==============================] - 10s 61us/step - loss: 0.0758 - mean_squared_error: 0.0100 - val_loss: 0.0790 - val_mean_squared_error: 0.0093\n",
      "Epoch 47/2000\n",
      "169200/169200 [==============================] - 10s 61us/step - loss: 0.0758 - mean_squared_error: 0.0100 - val_loss: 0.0791 - val_mean_squared_error: 0.0093\n",
      "Epoch 48/2000\n",
      "169200/169200 [==============================] - 11s 63us/step - loss: 0.0758 - mean_squared_error: 0.0100 - val_loss: 0.0792 - val_mean_squared_error: 0.0093\n",
      "Epoch 49/2000\n",
      "169200/169200 [==============================] - 10s 61us/step - loss: 0.0758 - mean_squared_error: 0.0100 - val_loss: 0.0799 - val_mean_squared_error: 0.0094\n",
      "Epoch 50/2000\n",
      "169200/169200 [==============================] - 10s 62us/step - loss: 0.0758 - mean_squared_error: 0.0100 - val_loss: 0.0801 - val_mean_squared_error: 0.0095\n",
      "Epoch 51/2000\n",
      "169200/169200 [==============================] - 10s 60us/step - loss: 0.0758 - mean_squared_error: 0.0100 - val_loss: 0.0794 - val_mean_squared_error: 0.0093\n",
      "Epoch 52/2000\n",
      "169200/169200 [==============================] - 10s 60us/step - loss: 0.0758 - mean_squared_error: 0.0100 - val_loss: 0.0797 - val_mean_squared_error: 0.0094\n",
      "Epoch 53/2000\n",
      "169200/169200 [==============================] - 10s 61us/step - loss: 0.0758 - mean_squared_error: 0.0100 - val_loss: 0.0784 - val_mean_squared_error: 0.0092\n",
      "Epoch 54/2000\n",
      "169200/169200 [==============================] - 10s 61us/step - loss: 0.0758 - mean_squared_error: 0.0100 - val_loss: 0.0799 - val_mean_squared_error: 0.0095\n",
      "Epoch 55/2000\n",
      "169200/169200 [==============================] - 10s 60us/step - loss: 0.0758 - mean_squared_error: 0.0100 - val_loss: 0.0789 - val_mean_squared_error: 0.0093\n",
      "Epoch 56/2000\n",
      "169200/169200 [==============================] - 10s 61us/step - loss: 0.0758 - mean_squared_error: 0.0100 - val_loss: 0.0811 - val_mean_squared_error: 0.0096\n",
      "Epoch 57/2000\n",
      "169200/169200 [==============================] - 10s 60us/step - loss: 0.0758 - mean_squared_error: 0.0100 - val_loss: 0.0796 - val_mean_squared_error: 0.0094\n",
      "Epoch 58/2000\n",
      "169200/169200 [==============================] - 10s 61us/step - loss: 0.0758 - mean_squared_error: 0.0100 - val_loss: 0.0795 - val_mean_squared_error: 0.0094\n",
      "Epoch 59/2000\n",
      "169200/169200 [==============================] - 10s 59us/step - loss: 0.0758 - mean_squared_error: 0.0100 - val_loss: 0.0803 - val_mean_squared_error: 0.0095\n",
      "Epoch 60/2000\n",
      "169200/169200 [==============================] - 10s 59us/step - loss: 0.0758 - mean_squared_error: 0.0100 - val_loss: 0.0797 - val_mean_squared_error: 0.0094\n",
      "Epoch 61/2000\n",
      "169200/169200 [==============================] - 10s 60us/step - loss: 0.0758 - mean_squared_error: 0.0100 - val_loss: 0.0790 - val_mean_squared_error: 0.0093\n",
      "Epoch 62/2000\n",
      "169200/169200 [==============================] - 11s 66us/step - loss: 0.0758 - mean_squared_error: 0.0100 - val_loss: 0.0790 - val_mean_squared_error: 0.0093\n",
      "Epoch 63/2000\n",
      "169200/169200 [==============================] - 11s 62us/step - loss: 0.0758 - mean_squared_error: 0.0100 - val_loss: 0.0803 - val_mean_squared_error: 0.0095\n",
      "Epoch 64/2000\n",
      "169200/169200 [==============================] - 10s 59us/step - loss: 0.0758 - mean_squared_error: 0.0100 - val_loss: 0.0789 - val_mean_squared_error: 0.0093\n",
      "Epoch 65/2000\n",
      "169200/169200 [==============================] - 10s 58us/step - loss: 0.0758 - mean_squared_error: 0.0100 - val_loss: 0.0798 - val_mean_squared_error: 0.0094\n",
      "Epoch 66/2000\n",
      "169200/169200 [==============================] - 10s 58us/step - loss: 0.0758 - mean_squared_error: 0.0100 - val_loss: 0.0783 - val_mean_squared_error: 0.0092\n",
      "Epoch 67/2000\n",
      "169200/169200 [==============================] - 10s 58us/step - loss: 0.0758 - mean_squared_error: 0.0100 - val_loss: 0.0792 - val_mean_squared_error: 0.0093\n",
      "Epoch 68/2000\n",
      "169200/169200 [==============================] - 10s 59us/step - loss: 0.0758 - mean_squared_error: 0.0100 - val_loss: 0.0786 - val_mean_squared_error: 0.0092\n",
      "Epoch 69/2000\n",
      "169200/169200 [==============================] - 10s 58us/step - loss: 0.0758 - mean_squared_error: 0.0100 - val_loss: 0.0772 - val_mean_squared_error: 0.0090\n",
      "Epoch 70/2000\n",
      "169200/169200 [==============================] - 10s 60us/step - loss: 0.0758 - mean_squared_error: 0.0100 - val_loss: 0.0800 - val_mean_squared_error: 0.0094\n",
      "Epoch 71/2000\n",
      "169200/169200 [==============================] - 10s 60us/step - loss: 0.0758 - mean_squared_error: 0.0100 - val_loss: 0.0792 - val_mean_squared_error: 0.0093\n",
      "Epoch 72/2000\n",
      "169200/169200 [==============================] - 10s 59us/step - loss: 0.0758 - mean_squared_error: 0.0100 - val_loss: 0.0810 - val_mean_squared_error: 0.0096\n",
      "Epoch 73/2000\n",
      "169200/169200 [==============================] - 10s 58us/step - loss: 0.0758 - mean_squared_error: 0.0100 - val_loss: 0.0792 - val_mean_squared_error: 0.0093\n",
      "Epoch 74/2000\n",
      "169200/169200 [==============================] - 10s 59us/step - loss: 0.0758 - mean_squared_error: 0.0100 - val_loss: 0.0788 - val_mean_squared_error: 0.0092\n",
      "Epoch 75/2000\n",
      "169200/169200 [==============================] - 10s 59us/step - loss: 0.0758 - mean_squared_error: 0.0100 - val_loss: 0.0798 - val_mean_squared_error: 0.0094\n",
      "Epoch 76/2000\n",
      "169200/169200 [==============================] - 10s 59us/step - loss: 0.0758 - mean_squared_error: 0.0100 - val_loss: 0.0794 - val_mean_squared_error: 0.0093\n",
      "Epoch 77/2000\n",
      "169200/169200 [==============================] - 10s 58us/step - loss: 0.0758 - mean_squared_error: 0.0100 - val_loss: 0.0800 - val_mean_squared_error: 0.0094\n",
      "Epoch 78/2000\n",
      "169200/169200 [==============================] - 10s 59us/step - loss: 0.0758 - mean_squared_error: 0.0100 - val_loss: 0.0799 - val_mean_squared_error: 0.0094\n",
      "Epoch 79/2000\n",
      "169200/169200 [==============================] - 10s 58us/step - loss: 0.0758 - mean_squared_error: 0.0100 - val_loss: 0.0796 - val_mean_squared_error: 0.0094\n",
      "Epoch 80/2000\n",
      "169200/169200 [==============================] - 10s 58us/step - loss: 0.0758 - mean_squared_error: 0.0100 - val_loss: 0.0808 - val_mean_squared_error: 0.0096\n",
      "Epoch 81/2000\n",
      "169200/169200 [==============================] - 10s 58us/step - loss: 0.0758 - mean_squared_error: 0.0100 - val_loss: 0.0782 - val_mean_squared_error: 0.0091\n",
      "Epoch 82/2000\n",
      "169200/169200 [==============================] - 10s 59us/step - loss: 0.0758 - mean_squared_error: 0.0100 - val_loss: 0.0788 - val_mean_squared_error: 0.0092\n",
      "Epoch 83/2000\n",
      "169200/169200 [==============================] - 10s 58us/step - loss: 0.0758 - mean_squared_error: 0.0100 - val_loss: 0.0793 - val_mean_squared_error: 0.0093\n",
      "Epoch 84/2000\n",
      "169200/169200 [==============================] - 10s 58us/step - loss: 0.0758 - mean_squared_error: 0.0100 - val_loss: 0.0800 - val_mean_squared_error: 0.0094\n",
      "Epoch 85/2000\n",
      "169200/169200 [==============================] - 10s 58us/step - loss: 0.0758 - mean_squared_error: 0.0100 - val_loss: 0.0800 - val_mean_squared_error: 0.0094\n",
      "Epoch 86/2000\n",
      "169200/169200 [==============================] - 10s 58us/step - loss: 0.0758 - mean_squared_error: 0.0100 - val_loss: 0.0782 - val_mean_squared_error: 0.0091\n",
      "Epoch 87/2000\n",
      "169200/169200 [==============================] - 10s 58us/step - loss: 0.0758 - mean_squared_error: 0.0100 - val_loss: 0.0793 - val_mean_squared_error: 0.0093\n",
      "Epoch 88/2000\n",
      "169200/169200 [==============================] - 10s 58us/step - loss: 0.0758 - mean_squared_error: 0.0100 - val_loss: 0.0783 - val_mean_squared_error: 0.0092\n",
      "Epoch 89/2000\n",
      "169200/169200 [==============================] - 10s 56us/step - loss: 0.0758 - mean_squared_error: 0.0100 - val_loss: 0.0798 - val_mean_squared_error: 0.0094\n",
      "Epoch 90/2000\n",
      "169200/169200 [==============================] - 10s 58us/step - loss: 0.0758 - mean_squared_error: 0.0100 - val_loss: 0.0784 - val_mean_squared_error: 0.0092\n",
      "Epoch 91/2000\n",
      "169200/169200 [==============================] - 10s 60us/step - loss: 0.0758 - mean_squared_error: 0.0100 - val_loss: 0.0781 - val_mean_squared_error: 0.0091\n",
      "Epoch 92/2000\n",
      "169200/169200 [==============================] - 10s 61us/step - loss: 0.0758 - mean_squared_error: 0.0100 - val_loss: 0.0782 - val_mean_squared_error: 0.0091\n",
      "Epoch 93/2000\n",
      "169200/169200 [==============================] - 10s 57us/step - loss: 0.0758 - mean_squared_error: 0.0100 - val_loss: 0.0807 - val_mean_squared_error: 0.0095\n",
      "Epoch 94/2000\n",
      "169200/169200 [==============================] - 10s 59us/step - loss: 0.0758 - mean_squared_error: 0.0100 - val_loss: 0.0784 - val_mean_squared_error: 0.0092\n",
      "Epoch 95/2000\n",
      "169200/169200 [==============================] - 11s 63us/step - loss: 0.0758 - mean_squared_error: 0.0100 - val_loss: 0.0793 - val_mean_squared_error: 0.0093\n",
      "Epoch 96/2000\n",
      "169200/169200 [==============================] - 10s 59us/step - loss: 0.0758 - mean_squared_error: 0.0100 - val_loss: 0.0793 - val_mean_squared_error: 0.0093\n",
      "Epoch 97/2000\n",
      "169200/169200 [==============================] - 10s 60us/step - loss: 0.0758 - mean_squared_error: 0.0100 - val_loss: 0.0794 - val_mean_squared_error: 0.0093\n",
      "Epoch 98/2000\n",
      "169200/169200 [==============================] - 10s 59us/step - loss: 0.0758 - mean_squared_error: 0.0100 - val_loss: 0.0797 - val_mean_squared_error: 0.0094\n",
      "Epoch 99/2000\n",
      "169200/169200 [==============================] - 10s 59us/step - loss: 0.0758 - mean_squared_error: 0.0100 - val_loss: 0.0800 - val_mean_squared_error: 0.0094\n",
      "Epoch 100/2000\n",
      "169200/169200 [==============================] - 10s 59us/step - loss: 0.0758 - mean_squared_error: 0.0100 - val_loss: 0.0791 - val_mean_squared_error: 0.0093\n",
      "Epoch 101/2000\n",
      "169200/169200 [==============================] - 10s 59us/step - loss: 0.0758 - mean_squared_error: 0.0100 - val_loss: 0.0791 - val_mean_squared_error: 0.0093\n",
      "Epoch 102/2000\n",
      "169200/169200 [==============================] - 10s 59us/step - loss: 0.0758 - mean_squared_error: 0.0100 - val_loss: 0.0797 - val_mean_squared_error: 0.0094\n",
      "Epoch 103/2000\n",
      "169200/169200 [==============================] - 10s 58us/step - loss: 0.0758 - mean_squared_error: 0.0100 - val_loss: 0.0773 - val_mean_squared_error: 0.0090\n",
      "Epoch 104/2000\n",
      "169200/169200 [==============================] - 10s 58us/step - loss: 0.0758 - mean_squared_error: 0.0100 - val_loss: 0.0810 - val_mean_squared_error: 0.0096\n",
      "Epoch 105/2000\n",
      "169200/169200 [==============================] - 10s 58us/step - loss: 0.0758 - mean_squared_error: 0.0100 - val_loss: 0.0798 - val_mean_squared_error: 0.0094\n",
      "Epoch 106/2000\n",
      "169200/169200 [==============================] - 10s 58us/step - loss: 0.0758 - mean_squared_error: 0.0100 - val_loss: 0.0797 - val_mean_squared_error: 0.0094\n",
      "Epoch 107/2000\n",
      "169200/169200 [==============================] - 10s 58us/step - loss: 0.0757 - mean_squared_error: 0.0100 - val_loss: 0.0799 - val_mean_squared_error: 0.0094\n",
      "Epoch 108/2000\n",
      "169200/169200 [==============================] - 10s 58us/step - loss: 0.0758 - mean_squared_error: 0.0100 - val_loss: 0.0792 - val_mean_squared_error: 0.0093\n",
      "Epoch 109/2000\n",
      "169200/169200 [==============================] - 10s 58us/step - loss: 0.0757 - mean_squared_error: 0.0100 - val_loss: 0.0788 - val_mean_squared_error: 0.0092\n",
      "Epoch 110/2000\n",
      "169200/169200 [==============================] - 10s 58us/step - loss: 0.0757 - mean_squared_error: 0.0100 - val_loss: 0.0792 - val_mean_squared_error: 0.0093\n",
      "Epoch 111/2000\n",
      "169200/169200 [==============================] - 10s 59us/step - loss: 0.0757 - mean_squared_error: 0.0100 - val_loss: 0.0788 - val_mean_squared_error: 0.0092\n",
      "Epoch 112/2000\n",
      "169200/169200 [==============================] - 10s 58us/step - loss: 0.0757 - mean_squared_error: 0.0100 - val_loss: 0.0799 - val_mean_squared_error: 0.0094\n",
      "Epoch 113/2000\n",
      "169200/169200 [==============================] - 11s 63us/step - loss: 0.0757 - mean_squared_error: 0.0100 - val_loss: 0.0799 - val_mean_squared_error: 0.0094\n",
      "Epoch 114/2000\n",
      "169200/169200 [==============================] - 10s 59us/step - loss: 0.0758 - mean_squared_error: 0.0100 - val_loss: 0.0800 - val_mean_squared_error: 0.0094\n",
      "Epoch 115/2000\n",
      "169200/169200 [==============================] - 10s 57us/step - loss: 0.0758 - mean_squared_error: 0.0100 - val_loss: 0.0797 - val_mean_squared_error: 0.0094\n",
      "Epoch 116/2000\n",
      "169200/169200 [==============================] - 10s 58us/step - loss: 0.0758 - mean_squared_error: 0.0100 - val_loss: 0.0814 - val_mean_squared_error: 0.0097\n",
      "Epoch 117/2000\n",
      "169200/169200 [==============================] - 10s 58us/step - loss: 0.0758 - mean_squared_error: 0.0100 - val_loss: 0.0812 - val_mean_squared_error: 0.0097\n",
      "Epoch 118/2000\n",
      "169200/169200 [==============================] - 10s 59us/step - loss: 0.0758 - mean_squared_error: 0.0100 - val_loss: 0.0781 - val_mean_squared_error: 0.0091\n",
      "Epoch 119/2000\n",
      "169200/169200 [==============================] - 10s 60us/step - loss: 0.0758 - mean_squared_error: 0.0100 - val_loss: 0.0786 - val_mean_squared_error: 0.0092\n",
      "Epoch 00119: early stopping\n"
     ]
    }
   ],
   "source": [
    "hist = model.fit(X_train, y_train, epochs=2000, validation_split= 0.1,\n",
    "          batch_size=2**8, verbose=1,\n",
    "          callbacks=[early_stop])"
   ]
  },
  {
   "cell_type": "code",
   "execution_count": 146,
   "metadata": {},
   "outputs": [],
   "source": [
    "def plot_model_history(model_history, saveFig = False):\n",
    "    fig, axs = plt.subplots(1,1,figsize=(10,5))\n",
    "    # summarize history for accuracy\n",
    "    axs.plot(range(1,len(model_history.history['mean_squared_error'])+1),\n",
    "             model_history.history['mean_squared_error'])\n",
    "    axs.plot(range(1,len(model_history.history['val_mean_squared_error'])+1),\n",
    "             model_history.history['val_mean_squared_error'])\n",
    "    axs.set_title('Model MSE')\n",
    "    axs.set_ylabel('mean_squared_error')\n",
    "    axs.set_xlabel('Epoch')\n",
    "    axs.set_xticks(np.arange(1,len(model_history.history['val_mean_squared_error'])+1),\n",
    "                   len(model_history.history['val_mean_squared_error'])/10)\n",
    "    axs.legend(['train', 'val'], loc='best')\n",
    "    if saveFig:\n",
    "        fig.savefig(os.path.join(figDir, \"ModelTraining.png\"), dpi = 120, bbox_inches='tight')\n",
    "    plt.show()"
   ]
  },
  {
   "cell_type": "code",
   "execution_count": 147,
   "metadata": {},
   "outputs": [
    {
     "data": {
      "image/png": "[encoded data removed]",
      "text/plain": [
       "<matplotlib.figure.Figure at 0x21e978d85c0>"
      ]
     },
     "metadata": {},
     "output_type": "display_data"
    }
   ],
   "source": [
    "plot_model_history(hist, saveFig = False)"
   ]
  },
  {
   "cell_type": "code",
   "execution_count": 148,
   "metadata": {},
   "outputs": [
    {
     "data": {
      "text/plain": [
       "[<matplotlib.lines.Line2D at 0x21e94dc3cf8>]"
      ]
     },
     "execution_count": 148,
     "metadata": {},
     "output_type": "execute_result"
    },
    {
     "data": {
      "image/png": "[encoded data removed]",
      "text/plain": [
       "<matplotlib.figure.Figure at 0x21e97976358>"
      ]
     },
     "metadata": {},
     "output_type": "display_data"
    }
   ],
   "source": [
    "y_pred = model.predict(X_test)\n",
    "\n",
    "plt.figure(figsize = [10, 5])\n",
    "plt.plot((X_test[:, 0]) + 1)\n",
    "plt.plot((y_test))\n",
    "plt.plot((y_pred))"
   ]
  },
  {
   "cell_type": "code",
   "execution_count": 92,
   "metadata": {},
   "outputs": [
    {
     "data": {
      "text/plain": [
       "(18001, 1999)"
      ]
     },
     "execution_count": 92,
     "metadata": {},
     "output_type": "execute_result"
    }
   ],
   "source": [
    "X_train.shape"
   ]
  },
  {
   "cell_type": "code",
   "execution_count": 93,
   "metadata": {},
   "outputs": [
    {
     "data": {
      "text/plain": [
       "[<matplotlib.lines.Line2D at 0x21eb1bba438>]"
      ]
     },
     "execution_count": 93,
     "metadata": {},
     "output_type": "execute_result"
    },
    {
     "data": {
      "image/png": "[encoded data removed]",
      "text/plain": [
       "<matplotlib.figure.Figure at 0x21eb1abaf98>"
      ]
     },
     "metadata": {},
     "output_type": "display_data"
    }
   ],
   "source": [
    "y_pred = model.predict(X_train)\n",
    "\n",
    "plt.plot(X_train[:, 0] + 2)\n",
    "plt.plot((y_train))\n",
    "plt.plot((y_pred))"
   ]
  },
  {
   "cell_type": "code",
   "execution_count": 94,
   "metadata": {},
   "outputs": [
    {
     "data": {
      "text/plain": [
       "(18001, 1999)"
      ]
     },
     "execution_count": 94,
     "metadata": {},
     "output_type": "execute_result"
    }
   ],
   "source": [
    "X_train.shape"
   ]
  },
  {
   "cell_type": "code",
   "execution_count": 95,
   "metadata": {},
   "outputs": [
    {
     "data": {
      "text/plain": [
       "[<matplotlib.lines.Line2D at 0x21eb1c44978>]"
      ]
     },
     "execution_count": 95,
     "metadata": {},
     "output_type": "execute_result"
    },
    {
     "data": {
      "image/png": "[encoded data removed]",
      "text/plain": [
       "<matplotlib.figure.Figure at 0x21eb1bccfd0>"
      ]
     },
     "metadata": {},
     "output_type": "display_data"
    }
   ],
   "source": [
    "plt.plot(X_train[:, 0] + 2)\n",
    "plt.plot(y_train[:, 0])"
   ]
  },
  {
   "cell_type": "code",
   "execution_count": null,
   "metadata": {},
   "outputs": [],
   "source": []
  },
  {
   "cell_type": "code",
   "execution_count": null,
   "metadata": {},
   "outputs": [],
   "source": []
  },
  {
   "cell_type": "code",
   "execution_count": null,
   "metadata": {},
   "outputs": [],
   "source": []
  },
  {
   "cell_type": "code",
   "execution_count": null,
   "metadata": {},
   "outputs": [],
   "source": []
  },
  {
   "cell_type": "code",
   "execution_count": null,
   "metadata": {},
   "outputs": [],
   "source": []
  },
  {
   "cell_type": "code",
   "execution_count": null,
   "metadata": {},
   "outputs": [],
   "source": []
  },
  {
   "cell_type": "code",
   "execution_count": null,
   "metadata": {},
   "outputs": [],
   "source": []
  },
  {
   "cell_type": "code",
   "execution_count": null,
   "metadata": {},
   "outputs": [],
   "source": [
    "def build_model(layers):\n",
    "    model = Sequential()\n",
    "\n",
    "    model.add(LSTM(\n",
    "        input_shape=(None, layers[0]),\n",
    "        units=layers[1],\n",
    "        return_sequences=True))\n",
    "    model.add(Dropout(0.2))\n",
    "\n",
    "    model.add(LSTM(units = layers[2],\n",
    "        return_sequences=False))\n",
    "    model.add(Dropout(0.2))\n",
    "\n",
    "    model.add(Dense(units = layers[3]))\n",
    "    model.add(Activation(\"linear\"))\n",
    "\n",
    "    start = time.time()\n",
    "    model.compile(loss=\"mse\", optimizer=\"adam\", metrics = ['mse'])\n",
    "    print(\"> Compilation Time : \", time.time() - start)\n",
    "    return model"
   ]
  },
  {
   "cell_type": "code",
   "execution_count": null,
   "metadata": {},
   "outputs": [],
   "source": [
    "model= build_model([1,50,100,1])\n",
    "earlystop = EarlyStopping(monitor='val_mean_squared_error', min_delta=0.01, patience= 5, verbose=1, mode='auto')"
   ]
  },
  {
   "cell_type": "code",
   "execution_count": null,
   "metadata": {},
   "outputs": [],
   "source": [
    "plt.plot(x_train[:, 499, 0])\n",
    "plt.plot(y_train[:])"
   ]
  },
  {
   "cell_type": "code",
   "execution_count": null,
   "metadata": {},
   "outputs": [],
   "source": [
    "model_info = model.fit(x_train, y_train, batch_size = 2**11, epochs=100, validation_split=0.05, callbacks = [earlystop])"
   ]
  },
  {
   "cell_type": "code",
   "execution_count": null,
   "metadata": {},
   "outputs": [],
   "source": [
    "def plot_model_history(model_history):\n",
    "    fig, axs = plt.subplots(1,1,figsize=(10,5))\n",
    "    # summarize history for accuracy\n",
    "    axs.plot(range(1,len(model_history.history['mean_squared_error'])+1),model_history.history['mean_squared_error'])\n",
    "    axs.plot(range(1,len(model_history.history['val_mean_squared_error'])+1),model_history.history['val_mean_squared_error'])\n",
    "    axs.set_title('Model MSE')\n",
    "    axs.set_ylabel('mean_squared_error')\n",
    "    axs.set_xlabel('Epoch')\n",
    "    axs.set_xticks(np.arange(1,len(model_history.history['val_mean_squared_error'])+1),len(model_history.history['val_mean_squared_error'])/10)\n",
    "    axs.legend(['train', 'val'], loc='best')\n",
    "    plt.show()"
   ]
  },
  {
   "cell_type": "code",
   "execution_count": null,
   "metadata": {},
   "outputs": [],
   "source": [
    "plot_model_history(model_info)"
   ]
  },
  {
   "cell_type": "code",
   "execution_count": null,
   "metadata": {},
   "outputs": [],
   "source": [
    "def predict_point_by_point(model, data):\n",
    "    #Predict each timestep given the last sequence of true data, in effect only predicting 1 step ahead each time\n",
    "    predicted = model.predict(data)\n",
    "    predicted = np.reshape(predicted, (predicted.size,))\n",
    "    return predicted"
   ]
  },
  {
   "cell_type": "code",
   "execution_count": null,
   "metadata": {},
   "outputs": [],
   "source": [
    "predicted = predict_point_by_point(model, x_test)\n",
    "predicted.shape"
   ]
  },
  {
   "cell_type": "code",
   "execution_count": null,
   "metadata": {},
   "outputs": [],
   "source": [
    "plt.figure(figsize = (10, 4))\n",
    "x_test.shape\n",
    "plt.plot(x_test[:, 499, 0], label = \"input\")\n",
    "#plt.plot(y_test[], label = \"output\")\n",
    "plt.plot(y_test[-x_test.shape[0]:] + 2, label = \"y\")\n",
    "plt.plot(minmax_scale(predicted, feature_range=(-1,1)) + 2, label = \"prediction\")\n",
    "plt.legend()"
   ]
  },
  {
   "cell_type": "code",
   "execution_count": null,
   "metadata": {},
   "outputs": [],
   "source": [
    "pp = model.predict(x_test)"
   ]
  },
  {
   "cell_type": "code",
   "execution_count": null,
   "metadata": {},
   "outputs": [],
   "source": [
    "plt.plot(y_test)"
   ]
  },
  {
   "cell_type": "code",
   "execution_count": null,
   "metadata": {},
   "outputs": [],
   "source": [
    "plt.plot(pp)"
   ]
  },
  {
   "cell_type": "code",
   "execution_count": null,
   "metadata": {},
   "outputs": [],
   "source": []
  },
  {
   "cell_type": "code",
   "execution_count": null,
   "metadata": {},
   "outputs": [],
   "source": []
  },
  {
   "cell_type": "code",
   "execution_count": null,
   "metadata": {},
   "outputs": [],
   "source": []
  },
  {
   "cell_type": "code",
   "execution_count": null,
   "metadata": {},
   "outputs": [],
   "source": [
    "\n",
    "\n",
    "plt.figure(figsize = (20, 8))\n",
    "plt.plot(comF.EMG_scaled[-len(predicted):].reset_index(drop = True)+ 2, label = \"EMG\")\n",
    "plt.plot(comF.len_scaled[-len(predicted):].reset_index(drop = True), label = \"actual\")\n",
    "plt.plot(minmax_scale(predicted, feature_range=(-1,1)), label = \"predicted\")\n",
    "plt.legend()"
   ]
  },
  {
   "cell_type": "code",
   "execution_count": null,
   "metadata": {},
   "outputs": [],
   "source": [
    "plt.figure(figsize = (20, 8))\n",
    "plt.plot(comF.EMG_scaled[0:len(predicted)].reset_index(drop = True)+ 2, label = \"EMG\")\n",
    "plt.plot(comF.len_scaled[0:len(predicted)].reset_index(drop = True), label = \"actual\")\n",
    "#plt.plot(minmax_scale(predicted, feature_range=(-1,1)), label = \"predicted\")\n",
    "plt.legend()"
   ]
  },
  {
   "cell_type": "code",
   "execution_count": null,
   "metadata": {},
   "outputs": [],
   "source": [
    "x_test.shape"
   ]
  },
  {
   "cell_type": "code",
   "execution_count": null,
   "metadata": {},
   "outputs": [],
   "source": [
    "predicted = predict_point_by_point(model, x_train[0:25000,:,:])\n",
    "predicted.shape"
   ]
  },
  {
   "cell_type": "code",
   "execution_count": null,
   "metadata": {},
   "outputs": [],
   "source": [
    "\n",
    "plt.figure(figsize = (20, 8))\n",
    "plt.plot(x_train[0:25000, 999, 0])\n",
    "plt.plot(minmax_scale(predicted, feature_range=(-1,1)), label = \"predicted\")\n",
    "plt.legend()"
   ]
  },
  {
   "cell_type": "code",
   "execution_count": null,
   "metadata": {},
   "outputs": [],
   "source": [
    "comF.EMG_scaled[0:len(predicted)].reset_index(drop = True)"
   ]
  },
  {
   "cell_type": "code",
   "execution_count": null,
   "metadata": {},
   "outputs": [],
   "source": [
    "def reshape_dataTestONLY(sequence, ysequence, seq_len):\n",
    "    sequence_length = seq_len + 1\n",
    "    result = []\n",
    "    for index in range(len(sequence) - sequence_length):\n",
    "        result.append(sequence[index: index + sequence_length])\n",
    "    result = np.array(result)\n",
    "    \n",
    "    result2 = []\n",
    "    for index in range(len(ysequence) - sequence_length):\n",
    "        result2.append(ysequence[index: index + sequence_length])\n",
    "    result2 = np.array(result2)\n",
    "\n",
    "    # shuffle windows\n",
    "    #shuffInt = np.random.choice(np.arange(0, train.shape[1]), replace=False, size=train.shape[1])\n",
    "#     train = train[:, shuffInt]\n",
    "#     train2 = train2[:, shuffInt]\n",
    "    #np.random.shuffle(train)\n",
    "\n",
    "    x_test = result[:, :-1]\n",
    "    y_test = result2[:, -1]\n",
    "\n",
    "    x_test = np.reshape(x_test, (x_test.shape[0], x_test.shape[1], 1))\n",
    "\n",
    "    \n",
    "    \n",
    "    return [x_test, y_test]"
   ]
  },
  {
   "cell_type": "code",
   "execution_count": null,
   "metadata": {},
   "outputs": [],
   "source": [
    "timesteps = np.arange(0, 0.5, 1/25000 )\n",
    "\n",
    "freq = 25\n",
    "\n",
    "trainY1 = np.sin(2*np.pi*timesteps* freq) + np.random.normal(size=len(timesteps))*0.1\n",
    "trainX1 =  np.cos(2*np.pi*timesteps * freq) * ((np.cos(2*np.pi*timesteps*freq)) > 0.99)*1 + np.random.normal(size=len(timesteps))*0.1\n",
    "trainY1.shape"
   ]
  },
  {
   "cell_type": "code",
   "execution_count": null,
   "metadata": {},
   "outputs": [],
   "source": [
    "plt.plot(minmax_scale(trainX1[0:12500], (-1,1)))\n",
    "x_test2, _ = reshape_dataTestONLY(minmax_scale(trainX1[0:12500], (-1,1)), trainY1, 1000)\n",
    "plt.show()\n",
    "plt.plot(x_test2[:, 999, 0])"
   ]
  },
  {
   "cell_type": "code",
   "execution_count": null,
   "metadata": {},
   "outputs": [],
   "source": [
    "predicted = predict_point_by_point(model, x_test2)\n",
    "predicted.shape"
   ]
  },
  {
   "cell_type": "code",
   "execution_count": null,
   "metadata": {},
   "outputs": [],
   "source": [
    "plt.figure(figsize = (20, 8))\n",
    "plt.plot(x_test2[:, 999, 0], label = 'made-up EMG signal')\n",
    "plt.plot(minmax_scale(predicted, feature_range=(-1,1)), label = \"predicted\")\n",
    "plt.legend()"
   ]
  },
  {
   "cell_type": "code",
   "execution_count": null,
   "metadata": {},
   "outputs": [],
   "source": []
  },
  {
   "cell_type": "code",
   "execution_count": null,
   "metadata": {},
   "outputs": [],
   "source": []
  },
  {
   "cell_type": "code",
   "execution_count": null,
   "metadata": {},
   "outputs": [],
   "source": []
  },
  {
   "cell_type": "code",
   "execution_count": null,
   "metadata": {},
   "outputs": [],
   "source": []
  },
  {
   "cell_type": "code",
   "execution_count": null,
   "metadata": {},
   "outputs": [],
   "source": []
  },
  {
   "cell_type": "code",
   "execution_count": null,
   "metadata": {},
   "outputs": [],
   "source": []
  },
  {
   "cell_type": "code",
   "execution_count": null,
   "metadata": {},
   "outputs": [],
   "source": []
  },
  {
   "cell_type": "code",
   "execution_count": null,
   "metadata": {},
   "outputs": [],
   "source": []
  },
  {
   "cell_type": "code",
   "execution_count": null,
   "metadata": {},
   "outputs": [],
   "source": []
  },
  {
   "cell_type": "code",
   "execution_count": null,
   "metadata": {},
   "outputs": [],
   "source": []
  },
  {
   "cell_type": "code",
   "execution_count": null,
   "metadata": {},
   "outputs": [],
   "source": [
    "propBreak = 0.9\n",
    "windowLen = 200\n",
    "\n",
    "backCt = int(len(trainX) - propBreak * len(trainX) + propBreak * windowLen)\n",
    "print(backCt)"
   ]
  },
  {
   "cell_type": "code",
   "execution_count": null,
   "metadata": {},
   "outputs": [],
   "source": [
    "plt.figure(figsize = (10,4))\n",
    "plt.plot(trainY_scaled[-(backCt + 1):] + 2, label = \"input data\")\n",
    "plt.plot(trainX_scaled[-(backCt-windowLen +1):], label = \"data we're trying to predict\")\n",
    "\n",
    "plt.plot(x_test[:,0,0] + 2, label = \"input data\")\n",
    "plt.plot(y_test[:], label = \"ytest\")\n",
    "#plt.plot(yhat[-81:] -1, label = \"smoothed\")\n",
    "plt.ylim([-2, 4])\n",
    "plt.plot(predicted, label = 'predicted_LSTM')\n",
    "plt.legend()\n",
    "#plt.plot(y_test)\n",
    "#plt.savefig(os.path.join(figDir, \"LSTM_MadeUpData.png\"), dpi = 500)\n"
   ]
  },
  {
   "cell_type": "code",
   "execution_count": null,
   "metadata": {},
   "outputs": [],
   "source": [
    "plt.figure(figsize = (10,4))\n",
    "plt.plot(trainY_scaled[-(backCt - windowLen +  1):] + 2, label = \"input data\")\n",
    "plt.plot(trainX_scaled[-(backCt-windowLen +1):], label = \"data we're trying to predict\")\n",
    "\n",
    "plt.plot(x_test[:,windowLen-1,0] + 2, label = \"input data\")\n",
    "plt.plot(y_test[:], label = \"ytest\")\n",
    "\n",
    "plt.ylim([-2, 4])\n",
    "plt.plot(predicted, label = 'predicted_LSTM')\n",
    "plt.legend()\n"
   ]
  },
  {
   "cell_type": "code",
   "execution_count": null,
   "metadata": {},
   "outputs": [],
   "source": [
    "plt.plot(trainY_scaled[-(backCt + 1):] + 2, label = \"input data\")\n",
    "plt.plot(trainX_scaled[(-backCt):], label = \"data we're trying to predict\")"
   ]
  },
  {
   "cell_type": "code",
   "execution_count": null,
   "metadata": {},
   "outputs": [],
   "source": []
  },
  {
   "cell_type": "code",
   "execution_count": null,
   "metadata": {},
   "outputs": [],
   "source": []
  },
  {
   "cell_type": "code",
   "execution_count": null,
   "metadata": {},
   "outputs": [],
   "source": [
    "results = reshape_data(trainX, 50)"
   ]
  },
  {
   "cell_type": "code",
   "execution_count": null,
   "metadata": {},
   "outputs": [],
   "source": [
    "np.random.shuffle(results)\n",
    "results.shape\n",
    "\n",
    "shuffInt = np.random.choice(np.arange(0, results.shape[1]), replace=False, size=results.shape[1])\n",
    "results[:, shuffInt]"
   ]
  },
  {
   "cell_type": "code",
   "execution_count": null,
   "metadata": {},
   "outputs": [],
   "source": [
    "shuffInt = np.random.choice(np.arange(0, result.shape[0]), replace=False, size=result.shape[0])\n",
    "    train = train[:, shuffInt]"
   ]
  },
  {
   "cell_type": "code",
   "execution_count": null,
   "metadata": {},
   "outputs": [],
   "source": []
  },
  {
   "cell_type": "code",
   "execution_count": null,
   "metadata": {},
   "outputs": [],
   "source": []
  },
  {
   "cell_type": "code",
   "execution_count": null,
   "metadata": {},
   "outputs": [],
   "source": []
  },
  {
   "cell_type": "code",
   "execution_count": null,
   "metadata": {},
   "outputs": [],
   "source": []
  }
 ],
 "metadata": {
  "kernelspec": {
   "display_name": "tfcpu",
   "language": "python",
   "name": "tfcpu"
  },
  "language_info": {
   "codemirror_mode": {
    "name": "ipython",
    "version": 3
   },
   "file_extension": ".py",
   "mimetype": "text/x-python",
   "name": "python",
   "nbconvert_exporter": "python",
   "pygments_lexer": "ipython3",
   "version": "3.6.4"
  }
 },
 "nbformat": 4,
 "nbformat_minor": 2
}
