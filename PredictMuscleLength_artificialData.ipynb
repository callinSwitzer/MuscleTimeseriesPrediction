{
 "cells": [
  {
   "cell_type": "markdown",
   "metadata": {},
   "source": [
    "### Callin Switzer\n",
    "###"
   ]
  },
  {
   "cell_type": "code",
   "execution_count": null,
   "metadata": {},
   "outputs": [],
   "source": [
    "import pandas as pd\n",
    "import numpy as np\n",
    "%matplotlib inline\n",
    "import matplotlib.pyplot as plt\n",
    "from matplotlib import gridspec\n",
    "import seaborn as sns\n",
    "import os\n",
    "import csv\n",
    "import time\n",
    "from scipy import signal\n",
    "import itertools as it\n",
    "import sys\n",
    "from datetime import datetime\n",
    "from sklearn.preprocessing import StandardScaler\n",
    "import scipy.io\n",
    "import glob\n",
    "import itertools\n",
    "\n",
    "# Neural net libs\n",
    "from keras.models import Sequential\n",
    "from keras.layers import Dense\n",
    "import tensorflow as tf\n",
    "print(\"TensorFlow successfully installed.\")\n",
    "if tf.test.is_built_with_cuda():\n",
    "    print(\"The installed version of TensorFlow includes GPU support.\")\n",
    "\n",
    "print(sys.version, \"\\n\")\n",
    "print(\"last run on \" + str(datetime.now()))"
   ]
  },
  {
   "cell_type": "code",
   "execution_count": null,
   "metadata": {},
   "outputs": [],
   "source": [
    "# data directory\n",
    "dataDir = r\"D:\\Dropbox\\dataAnalysisForOthers\\MothMuscleLength\\Data\"\n",
    "\n",
    "# figure directory\n",
    "figDir = r\"D:\\Dropbox\\dataAnalysisForOthers\\MothMuscleLength\\Figures\" \n",
    "if not os.path.exists(figDir):\n",
    "    os.makedirs(figDir)\n",
    "    \n",
    "# data output\n",
    "dataOut = r\"D:\\Dropbox\\dataAnalysisForOthers\\MothMuscleLength\\DataOut\" \n",
    "if not os.path.exists(dataOut):\n",
    "    os.makedirs(dataOut)"
   ]
  },
  {
   "cell_type": "code",
   "execution_count": null,
   "metadata": {},
   "outputs": [],
   "source": [
    "# read in data\n",
    "#\"D:\\Dropbox\\dataAnalysisForOthers\\MothMuscleLength\\Data\\emglength_8_28.csv\""
   ]
  },
  {
   "cell_type": "code",
   "execution_count": null,
   "metadata": {},
   "outputs": [],
   "source": [
    "musLen = pd.read_csv(os.path.join(dataDir, \"emglength_8_28.csv\"))\n",
    "musLen.drop(axis = 1, columns=musLen.columns[0], inplace=True)\n",
    "print(musLen.shape)\n",
    "#musLen[\"sec2\"] = np.round(musLen.sec, decimals=4)\n",
    "musLen.head(20)"
   ]
  },
  {
   "cell_type": "code",
   "execution_count": null,
   "metadata": {},
   "outputs": [],
   "source": [
    "comF = musLen"
   ]
  },
  {
   "cell_type": "code",
   "execution_count": null,
   "metadata": {},
   "outputs": [],
   "source": [
    "print(comF.shape)\n",
    "comF.tail()"
   ]
  },
  {
   "cell_type": "code",
   "execution_count": null,
   "metadata": {},
   "outputs": [],
   "source": [
    "sm = comF.iloc[0:25000, ].copy()\n"
   ]
  },
  {
   "cell_type": "code",
   "execution_count": null,
   "metadata": {},
   "outputs": [],
   "source": [
    "#plt.plot(sm.timestamp, sm.EMG)\n",
    "plt.plot(sm.sec, sm.EMG)\n",
    "#plt.show()\n",
    "plt.plot(sm.sec, sm.len + 1)"
   ]
  },
  {
   "cell_type": "code",
   "execution_count": null,
   "metadata": {},
   "outputs": [],
   "source": [
    "from scipy.signal import savgol_filter\n",
    "yhat = savgol_filter(sm.len + 1, 501, 3) # window size 51, polynomial order 3\n",
    "\n",
    "#plt.plot(sm.sec2,sm.length + 1)\n",
    "plt.figure(figsize = (15, 5))\n",
    "plt.plot(sm.sec,yhat, color='red')\n",
    "plt.plot(sm.sec, sm.EMG)\n",
    "plt.show()"
   ]
  },
  {
   "cell_type": "code",
   "execution_count": null,
   "metadata": {},
   "outputs": [],
   "source": [
    "from FFTUtils import * "
   ]
  },
  {
   "cell_type": "code",
   "execution_count": null,
   "metadata": {},
   "outputs": [],
   "source": [
    "# plot FFT spectrum\n",
    "spect = FFT(sm.len, log_rate = 25000.0)"
   ]
  },
  {
   "cell_type": "code",
   "execution_count": null,
   "metadata": {},
   "outputs": [],
   "source": [
    "spect.FFT(fmin = 10, fmax = 45)\n",
    "spect.plotFFT(fmin = 0, fmax =450)"
   ]
  },
  {
   "cell_type": "code",
   "execution_count": null,
   "metadata": {},
   "outputs": [],
   "source": [
    "# scale data\n"
   ]
  },
  {
   "cell_type": "code",
   "execution_count": null,
   "metadata": {},
   "outputs": [],
   "source": [
    "comF[\"ID\"] = np.floor(comF.index / 25001).astype(int)"
   ]
  },
  {
   "cell_type": "code",
   "execution_count": null,
   "metadata": {},
   "outputs": [],
   "source": [
    "comF.groupby('ID').count()"
   ]
  },
  {
   "cell_type": "code",
   "execution_count": null,
   "metadata": {},
   "outputs": [],
   "source": [
    "comF.head()"
   ]
  },
  {
   "cell_type": "code",
   "execution_count": null,
   "metadata": {},
   "outputs": [],
   "source": [
    "# split apply combine\n",
    "grouped = comF.groupby(\"ID\")\n",
    "grouped"
   ]
  },
  {
   "cell_type": "code",
   "execution_count": null,
   "metadata": {},
   "outputs": [],
   "source": [
    "from sklearn.preprocessing import minmax_scale\n",
    "comF['EMG_scaled'] = comF.groupby('ID').EMG.transform(lambda x: minmax_scale(x.astype(float), feature_range = (-1,1)))\n",
    "comF['len_scaled'] = comF.groupby('ID').len.transform(lambda x: minmax_scale(x.astype(float), feature_range= (-1,1)))\n",
    "\n",
    "plt.plot(comF.EMG_scaled[0:25001])\n",
    "plt.show()\n",
    "plt.plot(comF.len_scaled[0:25001])"
   ]
  },
  {
   "cell_type": "markdown",
   "metadata": {},
   "source": [
    "___\n",
    "# practice with made-up data\n",
    "# tutorial here: https://www.youtube.com/watch?v=2np77NOdnwk\n",
    "___"
   ]
  },
  {
   "cell_type": "code",
   "execution_count": null,
   "metadata": {},
   "outputs": [],
   "source": [
    "\n",
    "trainX = comF[\"EMG_scaled\"][0:50000]\n",
    "trainY =  comF[\"len_scaled\"][0:50000]"
   ]
  },
  {
   "cell_type": "code",
   "execution_count": null,
   "metadata": {},
   "outputs": [],
   "source": [
    "trainX.shape"
   ]
  },
  {
   "cell_type": "code",
   "execution_count": null,
   "metadata": {},
   "outputs": [],
   "source": [
    "# timesteps = np.array(comF.sec2)\n",
    "# trainX = np.array(comF.length)\n",
    "# trainY =  np.array(comF.EMG)\n",
    "\n",
    "# trainX.shape"
   ]
  },
  {
   "cell_type": "code",
   "execution_count": null,
   "metadata": {},
   "outputs": [],
   "source": []
  },
  {
   "cell_type": "code",
   "execution_count": null,
   "metadata": {},
   "outputs": [],
   "source": [
    "# reshape data\n",
    "def reshape_data2(sequence, ysequence, seq_len):\n",
    "    sequence_length = seq_len + 1\n",
    "    result = []\n",
    "    for index in range(len(sequence) - sequence_length):\n",
    "        result.append(sequence[index: index + sequence_length])\n",
    "    result = np.array(result)\n",
    "    \n",
    "    result2 = []\n",
    "    for index in range(len(ysequence) - sequence_length):\n",
    "        result2.append(ysequence[index: index + sequence_length])\n",
    "    result2 = np.array(result2)\n",
    "    \n",
    "    row = round(0.9 * result.shape[0])\n",
    "    train = result[:int(row), :]\n",
    "    train2 = result2[:int(row), :]\n",
    "    # shuffle windows\n",
    "    #shuffInt = np.random.choice(np.arange(0, train.shape[1]), replace=False, size=train.shape[1])\n",
    "#     train = train[:, shuffInt]\n",
    "#     train2 = train2[:, shuffInt]\n",
    "    #np.random.shuffle(train)\n",
    "    \n",
    "    x_train = train[:, :-1]\n",
    "    y_train = train2[:, -1]\n",
    "    \n",
    "    x_test = result[int(row):, :-1]\n",
    "    y_test = result2[int(row):, -1]\n",
    "\n",
    "    x_train = np.reshape(x_train, (x_train.shape[0], x_train.shape[1], 1))\n",
    "    x_test = np.reshape(x_test, (x_test.shape[0], x_test.shape[1], 1))\n",
    "\n",
    "    \n",
    "    \n",
    "    return [x_train, y_train, x_test, y_test]"
   ]
  },
  {
   "cell_type": "code",
   "execution_count": null,
   "metadata": {},
   "outputs": [],
   "source": []
  },
  {
   "cell_type": "code",
   "execution_count": null,
   "metadata": {},
   "outputs": [],
   "source": []
  },
  {
   "cell_type": "markdown",
   "metadata": {},
   "source": [
    "___\n",
    "# Fully-connected nnet with windows\n",
    "___"
   ]
  },
  {
   "cell_type": "code",
   "execution_count": null,
   "metadata": {},
   "outputs": [],
   "source": [
    "# test on made-up data"
   ]
  },
  {
   "cell_type": "code",
   "execution_count": null,
   "metadata": {},
   "outputs": [],
   "source": [
    "timesteps = np.arange(0, 1, 1/25000 )\n",
    "\n",
    "freq = 25\n",
    "\n",
    "Y = pd.DataFrame(np.sin(2*np.pi*timesteps* freq) + np.random.normal(size=len(timesteps))*0.1)\n",
    "X =  pd.DataFrame((np.cos(2*np.pi*timesteps * freq) * ((np.cos(2*np.pi*timesteps*freq)) > 0.9999)*1 +  \n",
    "                 np.random.normal(size=len(timesteps))*0.1))\n",
    "Y.shape"
   ]
  },
  {
   "cell_type": "code",
   "execution_count": null,
   "metadata": {},
   "outputs": [],
   "source": [
    "X_sc = X.copy()\n",
    "Y_sc = Y.copy()"
   ]
  },
  {
   "cell_type": "code",
   "execution_count": null,
   "metadata": {},
   "outputs": [],
   "source": [
    "split_index=  20000\n",
    "\n",
    "\n",
    "from sklearn.preprocessing import MinMaxScaler\n",
    "\n",
    "scX = MinMaxScaler(feature_range=(-0.5,0.5))\n",
    "X_sc[:split_index] = scX.fit_transform(X_sc[:split_index])\n",
    "X_sc[split_index:] = scX.transform(X_sc[split_index:])\n",
    "\n",
    "scY = MinMaxScaler(feature_range=(-0.5,0.5))\n",
    "Y_sc[:split_index] = scY.fit_transform(Y_sc[:split_index])\n",
    "Y_sc[split_index:] = scY.transform(Y_sc[split_index:])\n"
   ]
  },
  {
   "cell_type": "code",
   "execution_count": null,
   "metadata": {},
   "outputs": [],
   "source": [
    "# add windows\n",
    "for s in np.arange(1, 2000):\n",
    "    X_sc['shift_{}'.format(s)] = X_sc[0].shift(s)\n",
    "    X_sc['shift_{}'.format(s)] = X_sc[0].shift(s)\n"
   ]
  },
  {
   "cell_type": "code",
   "execution_count": null,
   "metadata": {},
   "outputs": [],
   "source": [
    "\n",
    "train_x = X_sc[:split_index].copy()\n",
    "test_x = X_sc[split_index:].copy()\n",
    "\n",
    "train_y = Y_sc[:split_index].copy()\n",
    "test_y = Y_sc[split_index:].copy()"
   ]
  },
  {
   "cell_type": "code",
   "execution_count": null,
   "metadata": {},
   "outputs": [],
   "source": [
    "test_y.head()"
   ]
  },
  {
   "cell_type": "code",
   "execution_count": null,
   "metadata": {},
   "outputs": [],
   "source": [
    "train_y.tail()"
   ]
  },
  {
   "cell_type": "code",
   "execution_count": null,
   "metadata": {},
   "outputs": [],
   "source": [
    "train_x.head()"
   ]
  },
  {
   "cell_type": "code",
   "execution_count": null,
   "metadata": {},
   "outputs": [],
   "source": [
    "train_x.iloc[:, 0] = train_y.iloc[:,0]\n",
    "#test_x.iloc[:, 0] = test_y.values\n",
    "train_x.head(15)"
   ]
  },
  {
   "cell_type": "code",
   "execution_count": null,
   "metadata": {},
   "outputs": [],
   "source": [
    "X_train = train_x.dropna().drop(0, axis=1)\n",
    "y_train = train_x.dropna()[[0]]\n",
    "\n",
    "X_test = test_x.dropna().drop(0, axis=1)\n",
    "y_test = test_y.dropna()[[0]]"
   ]
  },
  {
   "cell_type": "code",
   "execution_count": null,
   "metadata": {},
   "outputs": [],
   "source": [
    "X_train = X_train.values\n",
    "X_test= X_test.values\n",
    "\n",
    "y_train = y_train.values\n",
    "y_test = y_test.values"
   ]
  },
  {
   "cell_type": "code",
   "execution_count": null,
   "metadata": {},
   "outputs": [],
   "source": [
    "X_train.shape, X_test.shape, y_train.shape, y_test.shape"
   ]
  },
  {
   "cell_type": "code",
   "execution_count": null,
   "metadata": {},
   "outputs": [],
   "source": [
    "from keras.layers.core import Dense, Activation, Dropout\n",
    "from keras.layers.recurrent import LSTM\n",
    "from keras.models import Sequential\n",
    "from keras.callbacks import EarlyStopping\n",
    "from keras.layers import BatchNormalization\n",
    "import keras.backend as K"
   ]
  },
  {
   "cell_type": "code",
   "execution_count": null,
   "metadata": {},
   "outputs": [],
   "source": [
    "K.clear_session()\n",
    "\n",
    "model = Sequential()\n",
    "model.add(Dense(1, input_dim=X_train.shape[1], activation='tanh'))\n",
    "model.add(Dense(40, activation='tanh'))\n",
    "model.add(BatchNormalization())\n",
    "model.add(Dropout(0.2))\n",
    "model.add(Dense(40, activation='tanh'))\n",
    "model.add(BatchNormalization())\n",
    "model.add(Dropout(0.2))\n",
    "model.add(Dense(40, activation='tanh'))\n",
    "model.add(BatchNormalization())\n",
    "model.add(Dropout(0.2))\n",
    "model.add(Dense(1, activation = \"linear\"))\n",
    "model.compile(loss='mean_absolute_error', optimizer='adam', metrics = ['mse'])\n",
    "model.summary()\n"
   ]
  },
  {
   "cell_type": "code",
   "execution_count": null,
   "metadata": {},
   "outputs": [],
   "source": [
    "early_stop = EarlyStopping(monitor='val_loss', patience=100, verbose=1, min_delta =0.0001)"
   ]
  },
  {
   "cell_type": "code",
   "execution_count": null,
   "metadata": {},
   "outputs": [],
   "source": [
    "hist = model.fit(X_train, y_train, epochs=1000, validation_split= 0.1,\n",
    "          batch_size=2**12, verbose=2,\n",
    "          callbacks=[early_stop])"
   ]
  },
  {
   "cell_type": "code",
   "execution_count": null,
   "metadata": {},
   "outputs": [],
   "source": [
    "def plot_model_history(model_history, saveFig = False):\n",
    "    fig, axs = plt.subplots(1,1,figsize=(10,5))\n",
    "    # summarize history for accuracy\n",
    "    axs.plot(range(1,len(model_history.history['mean_squared_error'])+1),\n",
    "             model_history.history['mean_squared_error'])\n",
    "    axs.plot(range(1,len(model_history.history['val_mean_squared_error'])+1),\n",
    "             model_history.history['val_mean_squared_error'])\n",
    "    axs.set_title('Model MSE')\n",
    "    axs.set_ylabel('mean_squared_error')\n",
    "    axs.set_xlabel('Epoch')\n",
    "    axs.set_xticks(np.arange(1,len(model_history.history['val_mean_squared_error'])+1),\n",
    "                   len(model_history.history['val_mean_squared_error'])/10)\n",
    "    axs.legend(['train', 'val'], loc='best')\n",
    "    if saveFig:\n",
    "        fig.savefig(os.path.join(figDir, \"ModelTraining.png\"), dpi = 120, bbox_inches='tight')\n",
    "    plt.show()"
   ]
  },
  {
   "cell_type": "code",
   "execution_count": null,
   "metadata": {},
   "outputs": [],
   "source": [
    "plot_model_history(hist, saveFig = False)"
   ]
  },
  {
   "cell_type": "code",
   "execution_count": null,
   "metadata": {},
   "outputs": [],
   "source": [
    "y_pred = model.predict(X_test)\n",
    "\n",
    "plt.plot((X_test[:, 0]) + 1)\n",
    "plt.plot((y_test))\n",
    "plt.plot((y_pred))"
   ]
  },
  {
   "cell_type": "code",
   "execution_count": null,
   "metadata": {},
   "outputs": [],
   "source": [
    "X_train.shape"
   ]
  },
  {
   "cell_type": "code",
   "execution_count": null,
   "metadata": {},
   "outputs": [],
   "source": [
    "y_pred = model.predict(X_train)\n",
    "\n",
    "plt.plot(X_train[:, 0] + 2)\n",
    "plt.plot((y_train))\n",
    "plt.plot((y_pred))"
   ]
  },
  {
   "cell_type": "code",
   "execution_count": null,
   "metadata": {},
   "outputs": [],
   "source": [
    "X_train.shape"
   ]
  },
  {
   "cell_type": "code",
   "execution_count": null,
   "metadata": {},
   "outputs": [],
   "source": [
    "plt.plot(X_train[:, 0] + 2)\n",
    "plt.plot(y_train[:, 0])"
   ]
  },
  {
   "cell_type": "code",
   "execution_count": null,
   "metadata": {},
   "outputs": [],
   "source": []
  },
  {
   "cell_type": "code",
   "execution_count": null,
   "metadata": {},
   "outputs": [],
   "source": []
  },
  {
   "cell_type": "code",
   "execution_count": null,
   "metadata": {},
   "outputs": [],
   "source": []
  },
  {
   "cell_type": "code",
   "execution_count": null,
   "metadata": {},
   "outputs": [],
   "source": []
  },
  {
   "cell_type": "markdown",
   "metadata": {},
   "source": [
    "### Fit LSTM with timeseries data"
   ]
  },
  {
   "cell_type": "code",
   "execution_count": null,
   "metadata": {},
   "outputs": [],
   "source": [
    "X_train_t = X_train.reshape(X_train.shape[0], 1, -1)\n",
    "X_test_t = X_test.reshape(X_test.shape[0], 1, -1)"
   ]
  },
  {
   "cell_type": "code",
   "execution_count": null,
   "metadata": {},
   "outputs": [],
   "source": [
    "K.clear_session()\n",
    "model = Sequential()\n",
    "model.add(LSTM(6, input_shape = (1, X_train_t.shape[2]), return_sequences=True))\n",
    "model.add(BatchNormalization())\n",
    "model.add(Dropout(0.2))\n",
    "model.add(LSTM(6, return_sequences = True))\n",
    "model.add(BatchNormalization())\n",
    "model.add(Dropout(0.2))\n",
    "model.add(LSTM(6))\n",
    "model.add(Dense(1))\n",
    "model.compile(loss = \"mean_squared_error\", optimizer = \"adam\", metrics =['mse'])\n",
    "\n",
    "early_stop = EarlyStopping(monitor='val_loss', patience=100, verbose=1, min_delta =0.0001)"
   ]
  },
  {
   "cell_type": "code",
   "execution_count": null,
   "metadata": {},
   "outputs": [],
   "source": [
    "hist = model.fit(X_train_t, y_train, epochs=100, validation_split= 0.1,\n",
    "          batch_size=2**12, verbose=2,\n",
    "          callbacks=[early_stop])"
   ]
  },
  {
   "cell_type": "code",
   "execution_count": null,
   "metadata": {},
   "outputs": [],
   "source": [
    "plot_model_history(hist, saveFig = False)"
   ]
  },
  {
   "cell_type": "code",
   "execution_count": null,
   "metadata": {},
   "outputs": [],
   "source": [
    "y_pred = model.predict(X_train_t)\n",
    "plt.figure(figsize = [15,10])\n",
    "plt.plot(X_train_t[:,0, 0] + 2)\n",
    "plt.plot((y_train))\n",
    "plt.plot((y_pred))"
   ]
  },
  {
   "cell_type": "code",
   "execution_count": null,
   "metadata": {},
   "outputs": [],
   "source": []
  },
  {
   "cell_type": "code",
   "execution_count": null,
   "metadata": {},
   "outputs": [],
   "source": []
  },
  {
   "cell_type": "code",
   "execution_count": null,
   "metadata": {},
   "outputs": [],
   "source": []
  },
  {
   "cell_type": "code",
   "execution_count": null,
   "metadata": {},
   "outputs": [],
   "source": []
  },
  {
   "cell_type": "code",
   "execution_count": null,
   "metadata": {},
   "outputs": [],
   "source": []
  },
  {
   "cell_type": "code",
   "execution_count": null,
   "metadata": {},
   "outputs": [],
   "source": []
  },
  {
   "cell_type": "code",
   "execution_count": null,
   "metadata": {},
   "outputs": [],
   "source": []
  },
  {
   "cell_type": "code",
   "execution_count": null,
   "metadata": {},
   "outputs": [],
   "source": []
  },
  {
   "cell_type": "code",
   "execution_count": null,
   "metadata": {},
   "outputs": [],
   "source": []
  },
  {
   "cell_type": "code",
   "execution_count": null,
   "metadata": {},
   "outputs": [],
   "source": []
  },
  {
   "cell_type": "code",
   "execution_count": null,
   "metadata": {},
   "outputs": [],
   "source": []
  },
  {
   "cell_type": "code",
   "execution_count": null,
   "metadata": {},
   "outputs": [],
   "source": []
  },
  {
   "cell_type": "code",
   "execution_count": null,
   "metadata": {},
   "outputs": [],
   "source": []
  },
  {
   "cell_type": "code",
   "execution_count": null,
   "metadata": {},
   "outputs": [],
   "source": [
    "def build_model(layers):\n",
    "    model = Sequential()\n",
    "\n",
    "    model.add(LSTM(\n",
    "        input_shape=(None, layers[0]),\n",
    "        units=layers[1],\n",
    "        return_sequences=True))\n",
    "    model.add(Dropout(0.2))\n",
    "\n",
    "    model.add(LSTM(units = layers[2],\n",
    "        return_sequences=False))\n",
    "    model.add(Dropout(0.2))\n",
    "\n",
    "    model.add(Dense(units = layers[3]))\n",
    "    model.add(Activation(\"linear\"))\n",
    "\n",
    "    start = time.time()\n",
    "    model.compile(loss=\"mse\", optimizer=\"adam\", metrics = ['mse'])\n",
    "    print(\"> Compilation Time : \", time.time() - start)\n",
    "    return model"
   ]
  },
  {
   "cell_type": "code",
   "execution_count": null,
   "metadata": {},
   "outputs": [],
   "source": [
    "model= build_model([1,50,100,1])\n",
    "earlystop = EarlyStopping(monitor='val_mean_squared_error', min_delta=0.01, patience= 5, verbose=1, mode='auto')"
   ]
  },
  {
   "cell_type": "code",
   "execution_count": null,
   "metadata": {},
   "outputs": [],
   "source": [
    "plt.plot(x_train[:, 499, 0])\n",
    "plt.plot(y_train[:])"
   ]
  },
  {
   "cell_type": "code",
   "execution_count": null,
   "metadata": {},
   "outputs": [],
   "source": [
    "model_info = model.fit(x_train, y_train, batch_size = 2**11, epochs=100, validation_split=0.05, callbacks = [earlystop])"
   ]
  },
  {
   "cell_type": "code",
   "execution_count": null,
   "metadata": {},
   "outputs": [],
   "source": [
    "def plot_model_history(model_history):\n",
    "    fig, axs = plt.subplots(1,1,figsize=(10,5))\n",
    "    # summarize history for accuracy\n",
    "    axs.plot(range(1,len(model_history.history['mean_squared_error'])+1),model_history.history['mean_squared_error'])\n",
    "    axs.plot(range(1,len(model_history.history['val_mean_squared_error'])+1),model_history.history['val_mean_squared_error'])\n",
    "    axs.set_title('Model MSE')\n",
    "    axs.set_ylabel('mean_squared_error')\n",
    "    axs.set_xlabel('Epoch')\n",
    "    axs.set_xticks(np.arange(1,len(model_history.history['val_mean_squared_error'])+1),len(model_history.history['val_mean_squared_error'])/10)\n",
    "    axs.legend(['train', 'val'], loc='best')\n",
    "    plt.show()"
   ]
  },
  {
   "cell_type": "code",
   "execution_count": null,
   "metadata": {},
   "outputs": [],
   "source": [
    "plot_model_history(model_info)"
   ]
  },
  {
   "cell_type": "code",
   "execution_count": null,
   "metadata": {},
   "outputs": [],
   "source": [
    "def predict_point_by_point(model, data):\n",
    "    #Predict each timestep given the last sequence of true data, in effect only predicting 1 step ahead each time\n",
    "    predicted = model.predict(data)\n",
    "    predicted = np.reshape(predicted, (predicted.size,))\n",
    "    return predicted"
   ]
  },
  {
   "cell_type": "code",
   "execution_count": null,
   "metadata": {},
   "outputs": [],
   "source": [
    "predicted = predict_point_by_point(model, x_test)\n",
    "predicted.shape"
   ]
  },
  {
   "cell_type": "code",
   "execution_count": null,
   "metadata": {},
   "outputs": [],
   "source": [
    "plt.figure(figsize = (10, 4))\n",
    "x_test.shape\n",
    "plt.plot(x_test[:, 499, 0], label = \"input\")\n",
    "#plt.plot(y_test[], label = \"output\")\n",
    "plt.plot(y_test[-x_test.shape[0]:] + 2, label = \"y\")\n",
    "plt.plot(minmax_scale(predicted, feature_range=(-1,1)) + 2, label = \"prediction\")\n",
    "plt.legend()"
   ]
  },
  {
   "cell_type": "code",
   "execution_count": null,
   "metadata": {},
   "outputs": [],
   "source": [
    "pp = model.predict(x_test)"
   ]
  },
  {
   "cell_type": "code",
   "execution_count": null,
   "metadata": {},
   "outputs": [],
   "source": [
    "plt.plot(y_test)"
   ]
  },
  {
   "cell_type": "code",
   "execution_count": null,
   "metadata": {},
   "outputs": [],
   "source": [
    "plt.plot(pp)"
   ]
  },
  {
   "cell_type": "code",
   "execution_count": null,
   "metadata": {},
   "outputs": [],
   "source": []
  },
  {
   "cell_type": "code",
   "execution_count": null,
   "metadata": {},
   "outputs": [],
   "source": []
  },
  {
   "cell_type": "code",
   "execution_count": null,
   "metadata": {},
   "outputs": [],
   "source": []
  },
  {
   "cell_type": "code",
   "execution_count": null,
   "metadata": {},
   "outputs": [],
   "source": [
    "\n",
    "\n",
    "plt.figure(figsize = (20, 8))\n",
    "plt.plot(comF.EMG_scaled[-len(predicted):].reset_index(drop = True)+ 2, label = \"EMG\")\n",
    "plt.plot(comF.len_scaled[-len(predicted):].reset_index(drop = True), label = \"actual\")\n",
    "plt.plot(minmax_scale(predicted, feature_range=(-1,1)), label = \"predicted\")\n",
    "plt.legend()"
   ]
  },
  {
   "cell_type": "code",
   "execution_count": null,
   "metadata": {},
   "outputs": [],
   "source": [
    "plt.figure(figsize = (20, 8))\n",
    "plt.plot(comF.EMG_scaled[0:len(predicted)].reset_index(drop = True)+ 2, label = \"EMG\")\n",
    "plt.plot(comF.len_scaled[0:len(predicted)].reset_index(drop = True), label = \"actual\")\n",
    "#plt.plot(minmax_scale(predicted, feature_range=(-1,1)), label = \"predicted\")\n",
    "plt.legend()"
   ]
  },
  {
   "cell_type": "code",
   "execution_count": null,
   "metadata": {},
   "outputs": [],
   "source": [
    "x_test.shape"
   ]
  },
  {
   "cell_type": "code",
   "execution_count": null,
   "metadata": {},
   "outputs": [],
   "source": [
    "predicted = predict_point_by_point(model, x_train[0:25000,:,:])\n",
    "predicted.shape"
   ]
  },
  {
   "cell_type": "code",
   "execution_count": null,
   "metadata": {},
   "outputs": [],
   "source": [
    "\n",
    "plt.figure(figsize = (20, 8))\n",
    "plt.plot(x_train[0:25000, 999, 0])\n",
    "plt.plot(minmax_scale(predicted, feature_range=(-1,1)), label = \"predicted\")\n",
    "plt.legend()"
   ]
  },
  {
   "cell_type": "code",
   "execution_count": null,
   "metadata": {},
   "outputs": [],
   "source": [
    "comF.EMG_scaled[0:len(predicted)].reset_index(drop = True)"
   ]
  },
  {
   "cell_type": "code",
   "execution_count": null,
   "metadata": {},
   "outputs": [],
   "source": [
    "def reshape_dataTestONLY(sequence, ysequence, seq_len):\n",
    "    sequence_length = seq_len + 1\n",
    "    result = []\n",
    "    for index in range(len(sequence) - sequence_length):\n",
    "        result.append(sequence[index: index + sequence_length])\n",
    "    result = np.array(result)\n",
    "    \n",
    "    result2 = []\n",
    "    for index in range(len(ysequence) - sequence_length):\n",
    "        result2.append(ysequence[index: index + sequence_length])\n",
    "    result2 = np.array(result2)\n",
    "\n",
    "    # shuffle windows\n",
    "    #shuffInt = np.random.choice(np.arange(0, train.shape[1]), replace=False, size=train.shape[1])\n",
    "#     train = train[:, shuffInt]\n",
    "#     train2 = train2[:, shuffInt]\n",
    "    #np.random.shuffle(train)\n",
    "\n",
    "    x_test = result[:, :-1]\n",
    "    y_test = result2[:, -1]\n",
    "\n",
    "    x_test = np.reshape(x_test, (x_test.shape[0], x_test.shape[1], 1))\n",
    "\n",
    "    \n",
    "    \n",
    "    return [x_test, y_test]"
   ]
  },
  {
   "cell_type": "code",
   "execution_count": null,
   "metadata": {},
   "outputs": [],
   "source": [
    "timesteps = np.arange(0, 0.5, 1/25000 )\n",
    "\n",
    "freq = 25\n",
    "\n",
    "trainY1 = np.sin(2*np.pi*timesteps* freq) + np.random.normal(size=len(timesteps))*0.1\n",
    "trainX1 =  np.cos(2*np.pi*timesteps * freq) * ((np.cos(2*np.pi*timesteps*freq)) > 0.99)*1 + np.random.normal(size=len(timesteps))*0.1\n",
    "trainY1.shape"
   ]
  },
  {
   "cell_type": "code",
   "execution_count": null,
   "metadata": {},
   "outputs": [],
   "source": [
    "plt.plot(minmax_scale(trainX1[0:12500], (-1,1)))\n",
    "x_test2, _ = reshape_dataTestONLY(minmax_scale(trainX1[0:12500], (-1,1)), trainY1, 1000)\n",
    "plt.show()\n",
    "plt.plot(x_test2[:, 999, 0])"
   ]
  },
  {
   "cell_type": "code",
   "execution_count": null,
   "metadata": {},
   "outputs": [],
   "source": [
    "predicted = predict_point_by_point(model, x_test2)\n",
    "predicted.shape"
   ]
  },
  {
   "cell_type": "code",
   "execution_count": null,
   "metadata": {},
   "outputs": [],
   "source": [
    "plt.figure(figsize = (20, 8))\n",
    "plt.plot(x_test2[:, 999, 0], label = 'made-up EMG signal')\n",
    "plt.plot(minmax_scale(predicted, feature_range=(-1,1)), label = \"predicted\")\n",
    "plt.legend()"
   ]
  },
  {
   "cell_type": "code",
   "execution_count": null,
   "metadata": {},
   "outputs": [],
   "source": []
  },
  {
   "cell_type": "code",
   "execution_count": null,
   "metadata": {},
   "outputs": [],
   "source": []
  },
  {
   "cell_type": "code",
   "execution_count": null,
   "metadata": {},
   "outputs": [],
   "source": []
  },
  {
   "cell_type": "code",
   "execution_count": null,
   "metadata": {},
   "outputs": [],
   "source": []
  },
  {
   "cell_type": "code",
   "execution_count": null,
   "metadata": {},
   "outputs": [],
   "source": []
  },
  {
   "cell_type": "code",
   "execution_count": null,
   "metadata": {},
   "outputs": [],
   "source": []
  },
  {
   "cell_type": "code",
   "execution_count": null,
   "metadata": {},
   "outputs": [],
   "source": []
  },
  {
   "cell_type": "code",
   "execution_count": null,
   "metadata": {},
   "outputs": [],
   "source": []
  },
  {
   "cell_type": "code",
   "execution_count": null,
   "metadata": {},
   "outputs": [],
   "source": []
  },
  {
   "cell_type": "code",
   "execution_count": null,
   "metadata": {},
   "outputs": [],
   "source": []
  },
  {
   "cell_type": "code",
   "execution_count": null,
   "metadata": {},
   "outputs": [],
   "source": [
    "propBreak = 0.9\n",
    "windowLen = 200\n",
    "\n",
    "backCt = int(len(trainX) - propBreak * len(trainX) + propBreak * windowLen)\n",
    "print(backCt)"
   ]
  },
  {
   "cell_type": "code",
   "execution_count": null,
   "metadata": {},
   "outputs": [],
   "source": [
    "plt.figure(figsize = (10,4))\n",
    "plt.plot(trainY_scaled[-(backCt + 1):] + 2, label = \"input data\")\n",
    "plt.plot(trainX_scaled[-(backCt-windowLen +1):], label = \"data we're trying to predict\")\n",
    "\n",
    "plt.plot(x_test[:,0,0] + 2, label = \"input data\")\n",
    "plt.plot(y_test[:], label = \"ytest\")\n",
    "#plt.plot(yhat[-81:] -1, label = \"smoothed\")\n",
    "plt.ylim([-2, 4])\n",
    "plt.plot(predicted, label = 'predicted_LSTM')\n",
    "plt.legend()\n",
    "#plt.plot(y_test)\n",
    "#plt.savefig(os.path.join(figDir, \"LSTM_MadeUpData.png\"), dpi = 500)\n"
   ]
  },
  {
   "cell_type": "code",
   "execution_count": null,
   "metadata": {},
   "outputs": [],
   "source": [
    "plt.figure(figsize = (10,4))\n",
    "plt.plot(trainY_scaled[-(backCt - windowLen +  1):] + 2, label = \"input data\")\n",
    "plt.plot(trainX_scaled[-(backCt-windowLen +1):], label = \"data we're trying to predict\")\n",
    "\n",
    "plt.plot(x_test[:,windowLen-1,0] + 2, label = \"input data\")\n",
    "plt.plot(y_test[:], label = \"ytest\")\n",
    "\n",
    "plt.ylim([-2, 4])\n",
    "plt.plot(predicted, label = 'predicted_LSTM')\n",
    "plt.legend()\n"
   ]
  },
  {
   "cell_type": "code",
   "execution_count": null,
   "metadata": {},
   "outputs": [],
   "source": [
    "plt.plot(trainY_scaled[-(backCt + 1):] + 2, label = \"input data\")\n",
    "plt.plot(trainX_scaled[(-backCt):], label = \"data we're trying to predict\")"
   ]
  },
  {
   "cell_type": "code",
   "execution_count": null,
   "metadata": {},
   "outputs": [],
   "source": []
  },
  {
   "cell_type": "code",
   "execution_count": null,
   "metadata": {},
   "outputs": [],
   "source": []
  },
  {
   "cell_type": "code",
   "execution_count": null,
   "metadata": {},
   "outputs": [],
   "source": [
    "results = reshape_data(trainX, 50)"
   ]
  },
  {
   "cell_type": "code",
   "execution_count": null,
   "metadata": {},
   "outputs": [],
   "source": [
    "np.random.shuffle(results)\n",
    "results.shape\n",
    "\n",
    "shuffInt = np.random.choice(np.arange(0, results.shape[1]), replace=False, size=results.shape[1])\n",
    "results[:, shuffInt]"
   ]
  },
  {
   "cell_type": "code",
   "execution_count": null,
   "metadata": {},
   "outputs": [],
   "source": [
    "shuffInt = np.random.choice(np.arange(0, result.shape[0]), replace=False, size=result.shape[0])\n",
    "    train = train[:, shuffInt]"
   ]
  },
  {
   "cell_type": "code",
   "execution_count": null,
   "metadata": {},
   "outputs": [],
   "source": []
  },
  {
   "cell_type": "code",
   "execution_count": null,
   "metadata": {},
   "outputs": [],
   "source": []
  },
  {
   "cell_type": "code",
   "execution_count": null,
   "metadata": {},
   "outputs": [],
   "source": []
  },
  {
   "cell_type": "code",
   "execution_count": null,
   "metadata": {},
   "outputs": [],
   "source": []
  }
 ],
 "metadata": {
  "kernelspec": {
   "display_name": "timeseries_learn",
   "language": "python",
   "name": "timeseries_learn"
  },
  "language_info": {
   "codemirror_mode": {
    "name": "ipython",
    "version": 3
   },
   "file_extension": ".py",
   "mimetype": "text/x-python",
   "name": "python",
   "nbconvert_exporter": "python",
   "pygments_lexer": "ipython3",
   "version": "3.6.6"
  }
 },
 "nbformat": 4,
 "nbformat_minor": 2
}
