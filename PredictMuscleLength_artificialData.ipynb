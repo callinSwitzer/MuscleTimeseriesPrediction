{
 "cells": [
  {
   "cell_type": "markdown",
   "metadata": {},
   "source": [
    "### Callin Switzer\n",
    "###"
   ]
  },
  {
   "cell_type": "code",
   "execution_count": 2,
   "metadata": {},
   "outputs": [
    {
     "name": "stderr",
     "output_type": "stream",
     "text": [
      "C:\\Users\\calli\\Anaconda3\\envs\\tfcpu\\lib\\site-packages\\h5py\\__init__.py:36: FutureWarning: Conversion of the second argument of issubdtype from `float` to `np.floating` is deprecated. In future, it will be treated as `np.float64 == np.dtype(float).type`.\n",
      "  from ._conv import register_converters as _register_converters\n",
      "Using TensorFlow backend.\n"
     ]
    },
    {
     "name": "stdout",
     "output_type": "stream",
     "text": [
      "TensorFlow successfully installed.\n",
      "3.6.4 |Anaconda custom (64-bit)| (default, Jan 16 2018, 10:22:32) [MSC v.1900 64 bit (AMD64)] \n",
      "\n",
      "last run on 2018-08-31 10:10:02.185970\n"
     ]
    }
   ],
   "source": [
    "import pandas as pd\n",
    "import numpy as np\n",
    "%matplotlib inline\n",
    "import matplotlib.pyplot as plt\n",
    "from matplotlib import gridspec\n",
    "import seaborn as sns\n",
    "import os\n",
    "import csv\n",
    "import time\n",
    "from scipy import signal\n",
    "import itertools as it\n",
    "import sys\n",
    "from datetime import datetime\n",
    "from sklearn.preprocessing import StandardScaler\n",
    "import scipy.io\n",
    "import glob\n",
    "import itertools\n",
    "\n",
    "# Neural net libs\n",
    "from keras.models import Sequential\n",
    "from keras.layers import Dense\n",
    "import tensorflow as tf\n",
    "print(\"TensorFlow successfully installed.\")\n",
    "if tf.test.is_built_with_cuda():\n",
    "    print(\"The installed version of TensorFlow includes GPU support.\")\n",
    "\n",
    "print(sys.version, \"\\n\")\n",
    "print(\"last run on \" + str(datetime.now()))"
   ]
  },
  {
   "cell_type": "code",
   "execution_count": 3,
   "metadata": {},
   "outputs": [],
   "source": [
    "# data directory\n",
    "dataDir = r\"D:\\Dropbox\\dataAnalysisForOthers\\MothMuscleLength\\Data\"\n",
    "\n",
    "# figure directory\n",
    "figDir = r\"D:\\Dropbox\\dataAnalysisForOthers\\MothMuscleLength\\Figures\" \n",
    "if not os.path.exists(figDir):\n",
    "    os.makedirs(figDir)\n",
    "    \n",
    "# data output\n",
    "dataOut = r\"D:\\Dropbox\\dataAnalysisForOthers\\MothMuscleLength\\DataOut\" \n",
    "if not os.path.exists(dataOut):\n",
    "    os.makedirs(dataOut)"
   ]
  },
  {
   "cell_type": "code",
   "execution_count": null,
   "metadata": {},
   "outputs": [],
   "source": [
    "# read in data\n",
    "#\"D:\\Dropbox\\dataAnalysisForOthers\\MothMuscleLength\\Data\\emglength_8_28.csv\""
   ]
  },
  {
   "cell_type": "code",
   "execution_count": null,
   "metadata": {},
   "outputs": [],
   "source": [
    "musLen = pd.read_csv(os.path.join(dataDir, \"emglength_8_28.csv\"))\n",
    "musLen.drop(axis = 1, columns=musLen.columns[0], inplace=True)\n",
    "print(musLen.shape)\n",
    "#musLen[\"sec2\"] = np.round(musLen.sec, decimals=4)\n",
    "musLen.head(20)"
   ]
  },
  {
   "cell_type": "code",
   "execution_count": null,
   "metadata": {},
   "outputs": [],
   "source": [
    "comF = musLen"
   ]
  },
  {
   "cell_type": "code",
   "execution_count": null,
   "metadata": {},
   "outputs": [],
   "source": [
    "print(comF.shape)\n",
    "comF.tail()"
   ]
  },
  {
   "cell_type": "code",
   "execution_count": null,
   "metadata": {},
   "outputs": [],
   "source": [
    "sm = comF.iloc[0:25000, ].copy()\n"
   ]
  },
  {
   "cell_type": "code",
   "execution_count": null,
   "metadata": {},
   "outputs": [],
   "source": [
    "#plt.plot(sm.timestamp, sm.EMG)\n",
    "plt.plot(sm.sec, sm.EMG)\n",
    "#plt.show()\n",
    "plt.plot(sm.sec, sm.len + 1)"
   ]
  },
  {
   "cell_type": "code",
   "execution_count": null,
   "metadata": {},
   "outputs": [],
   "source": [
    "from scipy.signal import savgol_filter\n",
    "yhat = savgol_filter(sm.len + 1, 21, 3) # window size 51, polynomial order 3\n",
    "\n",
    "#plt.plot(sm.sec2,sm.length + 1)\n",
    "plt.figure(figsize = (15, 5))\n",
    "plt.plot(sm.sec,yhat, color='red')\n",
    "plt.plot(sm.sec, sm.EMG)\n",
    "plt.show()"
   ]
  },
  {
   "cell_type": "code",
   "execution_count": null,
   "metadata": {},
   "outputs": [],
   "source": [
    "from FFTUtils import * "
   ]
  },
  {
   "cell_type": "code",
   "execution_count": null,
   "metadata": {},
   "outputs": [],
   "source": [
    "# plot FFT spectrum\n",
    "spect = FFT(sm.len, log_rate = 25000.0)"
   ]
  },
  {
   "cell_type": "code",
   "execution_count": null,
   "metadata": {},
   "outputs": [],
   "source": [
    "spect.FFT(fmin = 10, fmax = 45)\n",
    "spect.plotFFT(fmin = 0, fmax =450)"
   ]
  },
  {
   "cell_type": "code",
   "execution_count": null,
   "metadata": {},
   "outputs": [],
   "source": [
    "# scale data\n"
   ]
  },
  {
   "cell_type": "code",
   "execution_count": null,
   "metadata": {},
   "outputs": [],
   "source": [
    "comF[\"ID\"] = np.floor(comF.index / 25001).astype(int)"
   ]
  },
  {
   "cell_type": "code",
   "execution_count": null,
   "metadata": {},
   "outputs": [],
   "source": [
    "comF.groupby('ID').count()"
   ]
  },
  {
   "cell_type": "code",
   "execution_count": null,
   "metadata": {},
   "outputs": [],
   "source": [
    "comF.head()"
   ]
  },
  {
   "cell_type": "code",
   "execution_count": null,
   "metadata": {},
   "outputs": [],
   "source": [
    "# split apply combine\n",
    "grouped = comF.groupby(\"ID\")\n",
    "grouped"
   ]
  },
  {
   "cell_type": "code",
   "execution_count": null,
   "metadata": {},
   "outputs": [],
   "source": [
    "from sklearn.preprocessing import minmax_scale\n",
    "comF['EMG_scaled'] = comF.groupby('ID').EMG.transform(lambda x: minmax_scale(x.astype(float), feature_range = (-1,1)))\n",
    "comF['len_scaled'] = comF.groupby('ID').len.transform(lambda x: minmax_scale(x.astype(float), feature_range= (-1,1)))\n",
    "\n",
    "plt.plot(comF.EMG_scaled[0:25001])\n",
    "plt.show()\n",
    "plt.plot(comF.len_scaled[0:25001])"
   ]
  },
  {
   "cell_type": "markdown",
   "metadata": {},
   "source": [
    "___\n",
    "# practice with made-up data\n",
    "# tutorial here: https://www.youtube.com/watch?v=2np77NOdnwk\n",
    "___"
   ]
  },
  {
   "cell_type": "code",
   "execution_count": null,
   "metadata": {},
   "outputs": [],
   "source": [
    "\n",
    "trainX = comF[\"EMG_scaled\"][0:50000]\n",
    "trainY =  comF[\"len_scaled\"][0:50000]"
   ]
  },
  {
   "cell_type": "code",
   "execution_count": null,
   "metadata": {},
   "outputs": [],
   "source": [
    "trainX.shape"
   ]
  },
  {
   "cell_type": "code",
   "execution_count": null,
   "metadata": {},
   "outputs": [],
   "source": [
    "# timesteps = np.array(comF.sec2)\n",
    "# trainX = np.array(comF.length)\n",
    "# trainY =  np.array(comF.EMG)\n",
    "\n",
    "# trainX.shape"
   ]
  },
  {
   "cell_type": "code",
   "execution_count": null,
   "metadata": {},
   "outputs": [],
   "source": []
  },
  {
   "cell_type": "code",
   "execution_count": null,
   "metadata": {},
   "outputs": [],
   "source": [
    "# reshape data\n",
    "def reshape_data2(sequence, ysequence, seq_len):\n",
    "    sequence_length = seq_len + 1\n",
    "    result = []\n",
    "    for index in range(len(sequence) - sequence_length):\n",
    "        result.append(sequence[index: index + sequence_length])\n",
    "    result = np.array(result)\n",
    "    \n",
    "    result2 = []\n",
    "    for index in range(len(ysequence) - sequence_length):\n",
    "        result2.append(ysequence[index: index + sequence_length])\n",
    "    result2 = np.array(result2)\n",
    "    \n",
    "    row = round(0.9 * result.shape[0])\n",
    "    train = result[:int(row), :]\n",
    "    train2 = result2[:int(row), :]\n",
    "    # shuffle windows\n",
    "    #shuffInt = np.random.choice(np.arange(0, train.shape[1]), replace=False, size=train.shape[1])\n",
    "#     train = train[:, shuffInt]\n",
    "#     train2 = train2[:, shuffInt]\n",
    "    #np.random.shuffle(train)\n",
    "    \n",
    "    x_train = train[:, :-1]\n",
    "    y_train = train2[:, -1]\n",
    "    \n",
    "    x_test = result[int(row):, :-1]\n",
    "    y_test = result2[int(row):, -1]\n",
    "\n",
    "    x_train = np.reshape(x_train, (x_train.shape[0], x_train.shape[1], 1))\n",
    "    x_test = np.reshape(x_test, (x_test.shape[0], x_test.shape[1], 1))\n",
    "\n",
    "    \n",
    "    \n",
    "    return [x_train, y_train, x_test, y_test]"
   ]
  },
  {
   "cell_type": "code",
   "execution_count": null,
   "metadata": {},
   "outputs": [],
   "source": []
  },
  {
   "cell_type": "code",
   "execution_count": null,
   "metadata": {},
   "outputs": [],
   "source": []
  },
  {
   "cell_type": "markdown",
   "metadata": {},
   "source": [
    "___\n",
    "# Fully-connected nnet with windows\n",
    "___"
   ]
  },
  {
   "cell_type": "code",
   "execution_count": null,
   "metadata": {},
   "outputs": [],
   "source": [
    "# test on made-up data"
   ]
  },
  {
   "cell_type": "code",
   "execution_count": 56,
   "metadata": {},
   "outputs": [
    {
     "data": {
      "text/plain": [
       "(25000, 1)"
      ]
     },
     "execution_count": 56,
     "metadata": {},
     "output_type": "execute_result"
    }
   ],
   "source": [
    "timesteps = np.arange(0, 1, 1/25000 )\n",
    "\n",
    "freq = 25\n",
    "\n",
    "Y = pd.DataFrame(np.sin(2*np.pi*timesteps* freq) + np.random.normal(size=len(timesteps))*0.1)\n",
    "X =  pd.DataFrame((np.cos(2*np.pi*timesteps * freq) * ((np.cos(2*np.pi*timesteps*freq)) > 0.9999)*1 +  \n",
    "                 np.random.normal(size=len(timesteps))*0.1))\n",
    "Y.shape"
   ]
  },
  {
   "cell_type": "code",
   "execution_count": 57,
   "metadata": {},
   "outputs": [],
   "source": [
    "X_sc = X.copy()\n",
    "Y_sc = Y.copy()"
   ]
  },
  {
   "cell_type": "code",
   "execution_count": 58,
   "metadata": {},
   "outputs": [],
   "source": [
    "split_index=  20000\n",
    "\n",
    "\n",
    "from sklearn.preprocessing import MinMaxScaler\n",
    "\n",
    "scX = MinMaxScaler(feature_range=(-0.5,0.5))\n",
    "X_sc[:split_index] = scX.fit_transform(X_sc[:split_index])\n",
    "X_sc[split_index:] = scX.transform(X_sc[split_index:])\n",
    "\n",
    "scY = MinMaxScaler(feature_range=(-0.5,0.5))\n",
    "Y_sc[:split_index] = scY.fit_transform(Y_sc[:split_index])\n",
    "Y_sc[split_index:] = scY.transform(Y_sc[split_index:])\n"
   ]
  },
  {
   "cell_type": "code",
   "execution_count": 59,
   "metadata": {},
   "outputs": [],
   "source": [
    "# add windows\n",
    "for s in np.arange(1, 2000):\n",
    "    X_sc['shift_{}'.format(s)] = X_sc[0].shift(s)\n",
    "    X_sc['shift_{}'.format(s)] = X_sc[0].shift(s)\n"
   ]
  },
  {
   "cell_type": "code",
   "execution_count": 60,
   "metadata": {},
   "outputs": [],
   "source": [
    "\n",
    "train_x = X_sc[:split_index].copy()\n",
    "test_x = X_sc[split_index:].copy()\n",
    "\n",
    "train_y = Y_sc[:split_index].copy()\n",
    "test_y = Y_sc[split_index:].copy()"
   ]
  },
  {
   "cell_type": "code",
   "execution_count": 61,
   "metadata": {},
   "outputs": [
    {
     "data": {
      "text/html": [
       "<div>\n",
       "<style scoped>\n",
       "    .dataframe tbody tr th:only-of-type {\n",
       "        vertical-align: middle;\n",
       "    }\n",
       "\n",
       "    .dataframe tbody tr th {\n",
       "        vertical-align: top;\n",
       "    }\n",
       "\n",
       "    .dataframe thead th {\n",
       "        text-align: right;\n",
       "    }\n",
       "</style>\n",
       "<table border=\"1\" class=\"dataframe\">\n",
       "  <thead>\n",
       "    <tr style=\"text-align: right;\">\n",
       "      <th></th>\n",
       "      <th>0</th>\n",
       "    </tr>\n",
       "  </thead>\n",
       "  <tbody>\n",
       "    <tr>\n",
       "      <th>20000</th>\n",
       "      <td>-0.015704</td>\n",
       "    </tr>\n",
       "    <tr>\n",
       "      <th>20001</th>\n",
       "      <td>0.083231</td>\n",
       "    </tr>\n",
       "    <tr>\n",
       "      <th>20002</th>\n",
       "      <td>-0.022460</td>\n",
       "    </tr>\n",
       "    <tr>\n",
       "      <th>20003</th>\n",
       "      <td>-0.010190</td>\n",
       "    </tr>\n",
       "    <tr>\n",
       "      <th>20004</th>\n",
       "      <td>0.009160</td>\n",
       "    </tr>\n",
       "  </tbody>\n",
       "</table>\n",
       "</div>"
      ],
      "text/plain": [
       "              0\n",
       "20000 -0.015704\n",
       "20001  0.083231\n",
       "20002 -0.022460\n",
       "20003 -0.010190\n",
       "20004  0.009160"
      ]
     },
     "execution_count": 61,
     "metadata": {},
     "output_type": "execute_result"
    }
   ],
   "source": [
    "test_y.head()"
   ]
  },
  {
   "cell_type": "code",
   "execution_count": 62,
   "metadata": {},
   "outputs": [
    {
     "data": {
      "text/html": [
       "<div>\n",
       "<style scoped>\n",
       "    .dataframe tbody tr th:only-of-type {\n",
       "        vertical-align: middle;\n",
       "    }\n",
       "\n",
       "    .dataframe tbody tr th {\n",
       "        vertical-align: top;\n",
       "    }\n",
       "\n",
       "    .dataframe thead th {\n",
       "        text-align: right;\n",
       "    }\n",
       "</style>\n",
       "<table border=\"1\" class=\"dataframe\">\n",
       "  <thead>\n",
       "    <tr style=\"text-align: right;\">\n",
       "      <th></th>\n",
       "      <th>0</th>\n",
       "    </tr>\n",
       "  </thead>\n",
       "  <tbody>\n",
       "    <tr>\n",
       "      <th>19995</th>\n",
       "      <td>0.026929</td>\n",
       "    </tr>\n",
       "    <tr>\n",
       "      <th>19996</th>\n",
       "      <td>-0.032779</td>\n",
       "    </tr>\n",
       "    <tr>\n",
       "      <th>19997</th>\n",
       "      <td>-0.011868</td>\n",
       "    </tr>\n",
       "    <tr>\n",
       "      <th>19998</th>\n",
       "      <td>0.017488</td>\n",
       "    </tr>\n",
       "    <tr>\n",
       "      <th>19999</th>\n",
       "      <td>0.101428</td>\n",
       "    </tr>\n",
       "  </tbody>\n",
       "</table>\n",
       "</div>"
      ],
      "text/plain": [
       "              0\n",
       "19995  0.026929\n",
       "19996 -0.032779\n",
       "19997 -0.011868\n",
       "19998  0.017488\n",
       "19999  0.101428"
      ]
     },
     "execution_count": 62,
     "metadata": {},
     "output_type": "execute_result"
    }
   ],
   "source": [
    "train_y.tail()"
   ]
  },
  {
   "cell_type": "code",
   "execution_count": 63,
   "metadata": {},
   "outputs": [
    {
     "data": {
      "text/html": [
       "<div>\n",
       "<style scoped>\n",
       "    .dataframe tbody tr th:only-of-type {\n",
       "        vertical-align: middle;\n",
       "    }\n",
       "\n",
       "    .dataframe tbody tr th {\n",
       "        vertical-align: top;\n",
       "    }\n",
       "\n",
       "    .dataframe thead th {\n",
       "        text-align: right;\n",
       "    }\n",
       "</style>\n",
       "<table border=\"1\" class=\"dataframe\">\n",
       "  <thead>\n",
       "    <tr style=\"text-align: right;\">\n",
       "      <th></th>\n",
       "      <th>0</th>\n",
       "      <th>shift_1</th>\n",
       "      <th>shift_2</th>\n",
       "      <th>shift_3</th>\n",
       "      <th>shift_4</th>\n",
       "      <th>shift_5</th>\n",
       "      <th>shift_6</th>\n",
       "      <th>shift_7</th>\n",
       "      <th>shift_8</th>\n",
       "      <th>shift_9</th>\n",
       "      <th>...</th>\n",
       "      <th>shift_1990</th>\n",
       "      <th>shift_1991</th>\n",
       "      <th>shift_1992</th>\n",
       "      <th>shift_1993</th>\n",
       "      <th>shift_1994</th>\n",
       "      <th>shift_1995</th>\n",
       "      <th>shift_1996</th>\n",
       "      <th>shift_1997</th>\n",
       "      <th>shift_1998</th>\n",
       "      <th>shift_1999</th>\n",
       "    </tr>\n",
       "  </thead>\n",
       "  <tbody>\n",
       "    <tr>\n",
       "      <th>0</th>\n",
       "      <td>0.383777</td>\n",
       "      <td>NaN</td>\n",
       "      <td>NaN</td>\n",
       "      <td>NaN</td>\n",
       "      <td>NaN</td>\n",
       "      <td>NaN</td>\n",
       "      <td>NaN</td>\n",
       "      <td>NaN</td>\n",
       "      <td>NaN</td>\n",
       "      <td>NaN</td>\n",
       "      <td>...</td>\n",
       "      <td>NaN</td>\n",
       "      <td>NaN</td>\n",
       "      <td>NaN</td>\n",
       "      <td>NaN</td>\n",
       "      <td>NaN</td>\n",
       "      <td>NaN</td>\n",
       "      <td>NaN</td>\n",
       "      <td>NaN</td>\n",
       "      <td>NaN</td>\n",
       "      <td>NaN</td>\n",
       "    </tr>\n",
       "    <tr>\n",
       "      <th>1</th>\n",
       "      <td>0.400736</td>\n",
       "      <td>0.383777</td>\n",
       "      <td>NaN</td>\n",
       "      <td>NaN</td>\n",
       "      <td>NaN</td>\n",
       "      <td>NaN</td>\n",
       "      <td>NaN</td>\n",
       "      <td>NaN</td>\n",
       "      <td>NaN</td>\n",
       "      <td>NaN</td>\n",
       "      <td>...</td>\n",
       "      <td>NaN</td>\n",
       "      <td>NaN</td>\n",
       "      <td>NaN</td>\n",
       "      <td>NaN</td>\n",
       "      <td>NaN</td>\n",
       "      <td>NaN</td>\n",
       "      <td>NaN</td>\n",
       "      <td>NaN</td>\n",
       "      <td>NaN</td>\n",
       "      <td>NaN</td>\n",
       "    </tr>\n",
       "    <tr>\n",
       "      <th>2</th>\n",
       "      <td>0.399540</td>\n",
       "      <td>0.400736</td>\n",
       "      <td>0.383777</td>\n",
       "      <td>NaN</td>\n",
       "      <td>NaN</td>\n",
       "      <td>NaN</td>\n",
       "      <td>NaN</td>\n",
       "      <td>NaN</td>\n",
       "      <td>NaN</td>\n",
       "      <td>NaN</td>\n",
       "      <td>...</td>\n",
       "      <td>NaN</td>\n",
       "      <td>NaN</td>\n",
       "      <td>NaN</td>\n",
       "      <td>NaN</td>\n",
       "      <td>NaN</td>\n",
       "      <td>NaN</td>\n",
       "      <td>NaN</td>\n",
       "      <td>NaN</td>\n",
       "      <td>NaN</td>\n",
       "      <td>NaN</td>\n",
       "    </tr>\n",
       "    <tr>\n",
       "      <th>3</th>\n",
       "      <td>-0.307083</td>\n",
       "      <td>0.399540</td>\n",
       "      <td>0.400736</td>\n",
       "      <td>0.383777</td>\n",
       "      <td>NaN</td>\n",
       "      <td>NaN</td>\n",
       "      <td>NaN</td>\n",
       "      <td>NaN</td>\n",
       "      <td>NaN</td>\n",
       "      <td>NaN</td>\n",
       "      <td>...</td>\n",
       "      <td>NaN</td>\n",
       "      <td>NaN</td>\n",
       "      <td>NaN</td>\n",
       "      <td>NaN</td>\n",
       "      <td>NaN</td>\n",
       "      <td>NaN</td>\n",
       "      <td>NaN</td>\n",
       "      <td>NaN</td>\n",
       "      <td>NaN</td>\n",
       "      <td>NaN</td>\n",
       "    </tr>\n",
       "    <tr>\n",
       "      <th>4</th>\n",
       "      <td>-0.221544</td>\n",
       "      <td>-0.307083</td>\n",
       "      <td>0.399540</td>\n",
       "      <td>0.400736</td>\n",
       "      <td>0.383777</td>\n",
       "      <td>NaN</td>\n",
       "      <td>NaN</td>\n",
       "      <td>NaN</td>\n",
       "      <td>NaN</td>\n",
       "      <td>NaN</td>\n",
       "      <td>...</td>\n",
       "      <td>NaN</td>\n",
       "      <td>NaN</td>\n",
       "      <td>NaN</td>\n",
       "      <td>NaN</td>\n",
       "      <td>NaN</td>\n",
       "      <td>NaN</td>\n",
       "      <td>NaN</td>\n",
       "      <td>NaN</td>\n",
       "      <td>NaN</td>\n",
       "      <td>NaN</td>\n",
       "    </tr>\n",
       "  </tbody>\n",
       "</table>\n",
       "<p>5 rows × 2000 columns</p>\n",
       "</div>"
      ],
      "text/plain": [
       "          0   shift_1   shift_2   shift_3   shift_4  shift_5  shift_6  \\\n",
       "0  0.383777       NaN       NaN       NaN       NaN      NaN      NaN   \n",
       "1  0.400736  0.383777       NaN       NaN       NaN      NaN      NaN   \n",
       "2  0.399540  0.400736  0.383777       NaN       NaN      NaN      NaN   \n",
       "3 -0.307083  0.399540  0.400736  0.383777       NaN      NaN      NaN   \n",
       "4 -0.221544 -0.307083  0.399540  0.400736  0.383777      NaN      NaN   \n",
       "\n",
       "   shift_7  shift_8  shift_9     ...      shift_1990  shift_1991  shift_1992  \\\n",
       "0      NaN      NaN      NaN     ...             NaN         NaN         NaN   \n",
       "1      NaN      NaN      NaN     ...             NaN         NaN         NaN   \n",
       "2      NaN      NaN      NaN     ...             NaN         NaN         NaN   \n",
       "3      NaN      NaN      NaN     ...             NaN         NaN         NaN   \n",
       "4      NaN      NaN      NaN     ...             NaN         NaN         NaN   \n",
       "\n",
       "   shift_1993  shift_1994  shift_1995  shift_1996  shift_1997  shift_1998  \\\n",
       "0         NaN         NaN         NaN         NaN         NaN         NaN   \n",
       "1         NaN         NaN         NaN         NaN         NaN         NaN   \n",
       "2         NaN         NaN         NaN         NaN         NaN         NaN   \n",
       "3         NaN         NaN         NaN         NaN         NaN         NaN   \n",
       "4         NaN         NaN         NaN         NaN         NaN         NaN   \n",
       "\n",
       "   shift_1999  \n",
       "0         NaN  \n",
       "1         NaN  \n",
       "2         NaN  \n",
       "3         NaN  \n",
       "4         NaN  \n",
       "\n",
       "[5 rows x 2000 columns]"
      ]
     },
     "execution_count": 63,
     "metadata": {},
     "output_type": "execute_result"
    }
   ],
   "source": [
    "train_x.head()"
   ]
  },
  {
   "cell_type": "code",
   "execution_count": 64,
   "metadata": {},
   "outputs": [
    {
     "data": {
      "text/html": [
       "<div>\n",
       "<style scoped>\n",
       "    .dataframe tbody tr th:only-of-type {\n",
       "        vertical-align: middle;\n",
       "    }\n",
       "\n",
       "    .dataframe tbody tr th {\n",
       "        vertical-align: top;\n",
       "    }\n",
       "\n",
       "    .dataframe thead th {\n",
       "        text-align: right;\n",
       "    }\n",
       "</style>\n",
       "<table border=\"1\" class=\"dataframe\">\n",
       "  <thead>\n",
       "    <tr style=\"text-align: right;\">\n",
       "      <th></th>\n",
       "      <th>0</th>\n",
       "      <th>shift_1</th>\n",
       "      <th>shift_2</th>\n",
       "      <th>shift_3</th>\n",
       "      <th>shift_4</th>\n",
       "      <th>shift_5</th>\n",
       "      <th>shift_6</th>\n",
       "      <th>shift_7</th>\n",
       "      <th>shift_8</th>\n",
       "      <th>shift_9</th>\n",
       "      <th>...</th>\n",
       "      <th>shift_1990</th>\n",
       "      <th>shift_1991</th>\n",
       "      <th>shift_1992</th>\n",
       "      <th>shift_1993</th>\n",
       "      <th>shift_1994</th>\n",
       "      <th>shift_1995</th>\n",
       "      <th>shift_1996</th>\n",
       "      <th>shift_1997</th>\n",
       "      <th>shift_1998</th>\n",
       "      <th>shift_1999</th>\n",
       "    </tr>\n",
       "  </thead>\n",
       "  <tbody>\n",
       "    <tr>\n",
       "      <th>0</th>\n",
       "      <td>-0.029045</td>\n",
       "      <td>NaN</td>\n",
       "      <td>NaN</td>\n",
       "      <td>NaN</td>\n",
       "      <td>NaN</td>\n",
       "      <td>NaN</td>\n",
       "      <td>NaN</td>\n",
       "      <td>NaN</td>\n",
       "      <td>NaN</td>\n",
       "      <td>NaN</td>\n",
       "      <td>...</td>\n",
       "      <td>NaN</td>\n",
       "      <td>NaN</td>\n",
       "      <td>NaN</td>\n",
       "      <td>NaN</td>\n",
       "      <td>NaN</td>\n",
       "      <td>NaN</td>\n",
       "      <td>NaN</td>\n",
       "      <td>NaN</td>\n",
       "      <td>NaN</td>\n",
       "      <td>NaN</td>\n",
       "    </tr>\n",
       "    <tr>\n",
       "      <th>1</th>\n",
       "      <td>-0.022022</td>\n",
       "      <td>0.383777</td>\n",
       "      <td>NaN</td>\n",
       "      <td>NaN</td>\n",
       "      <td>NaN</td>\n",
       "      <td>NaN</td>\n",
       "      <td>NaN</td>\n",
       "      <td>NaN</td>\n",
       "      <td>NaN</td>\n",
       "      <td>NaN</td>\n",
       "      <td>...</td>\n",
       "      <td>NaN</td>\n",
       "      <td>NaN</td>\n",
       "      <td>NaN</td>\n",
       "      <td>NaN</td>\n",
       "      <td>NaN</td>\n",
       "      <td>NaN</td>\n",
       "      <td>NaN</td>\n",
       "      <td>NaN</td>\n",
       "      <td>NaN</td>\n",
       "      <td>NaN</td>\n",
       "    </tr>\n",
       "    <tr>\n",
       "      <th>2</th>\n",
       "      <td>-0.035298</td>\n",
       "      <td>0.400736</td>\n",
       "      <td>0.383777</td>\n",
       "      <td>NaN</td>\n",
       "      <td>NaN</td>\n",
       "      <td>NaN</td>\n",
       "      <td>NaN</td>\n",
       "      <td>NaN</td>\n",
       "      <td>NaN</td>\n",
       "      <td>NaN</td>\n",
       "      <td>...</td>\n",
       "      <td>NaN</td>\n",
       "      <td>NaN</td>\n",
       "      <td>NaN</td>\n",
       "      <td>NaN</td>\n",
       "      <td>NaN</td>\n",
       "      <td>NaN</td>\n",
       "      <td>NaN</td>\n",
       "      <td>NaN</td>\n",
       "      <td>NaN</td>\n",
       "      <td>NaN</td>\n",
       "    </tr>\n",
       "    <tr>\n",
       "      <th>3</th>\n",
       "      <td>0.022574</td>\n",
       "      <td>0.399540</td>\n",
       "      <td>0.400736</td>\n",
       "      <td>0.383777</td>\n",
       "      <td>NaN</td>\n",
       "      <td>NaN</td>\n",
       "      <td>NaN</td>\n",
       "      <td>NaN</td>\n",
       "      <td>NaN</td>\n",
       "      <td>NaN</td>\n",
       "      <td>...</td>\n",
       "      <td>NaN</td>\n",
       "      <td>NaN</td>\n",
       "      <td>NaN</td>\n",
       "      <td>NaN</td>\n",
       "      <td>NaN</td>\n",
       "      <td>NaN</td>\n",
       "      <td>NaN</td>\n",
       "      <td>NaN</td>\n",
       "      <td>NaN</td>\n",
       "      <td>NaN</td>\n",
       "    </tr>\n",
       "    <tr>\n",
       "      <th>4</th>\n",
       "      <td>0.067820</td>\n",
       "      <td>-0.307083</td>\n",
       "      <td>0.399540</td>\n",
       "      <td>0.400736</td>\n",
       "      <td>0.383777</td>\n",
       "      <td>NaN</td>\n",
       "      <td>NaN</td>\n",
       "      <td>NaN</td>\n",
       "      <td>NaN</td>\n",
       "      <td>NaN</td>\n",
       "      <td>...</td>\n",
       "      <td>NaN</td>\n",
       "      <td>NaN</td>\n",
       "      <td>NaN</td>\n",
       "      <td>NaN</td>\n",
       "      <td>NaN</td>\n",
       "      <td>NaN</td>\n",
       "      <td>NaN</td>\n",
       "      <td>NaN</td>\n",
       "      <td>NaN</td>\n",
       "      <td>NaN</td>\n",
       "    </tr>\n",
       "    <tr>\n",
       "      <th>5</th>\n",
       "      <td>0.020240</td>\n",
       "      <td>-0.221544</td>\n",
       "      <td>-0.307083</td>\n",
       "      <td>0.399540</td>\n",
       "      <td>0.400736</td>\n",
       "      <td>0.383777</td>\n",
       "      <td>NaN</td>\n",
       "      <td>NaN</td>\n",
       "      <td>NaN</td>\n",
       "      <td>NaN</td>\n",
       "      <td>...</td>\n",
       "      <td>NaN</td>\n",
       "      <td>NaN</td>\n",
       "      <td>NaN</td>\n",
       "      <td>NaN</td>\n",
       "      <td>NaN</td>\n",
       "      <td>NaN</td>\n",
       "      <td>NaN</td>\n",
       "      <td>NaN</td>\n",
       "      <td>NaN</td>\n",
       "      <td>NaN</td>\n",
       "    </tr>\n",
       "    <tr>\n",
       "      <th>6</th>\n",
       "      <td>0.011120</td>\n",
       "      <td>-0.218506</td>\n",
       "      <td>-0.221544</td>\n",
       "      <td>-0.307083</td>\n",
       "      <td>0.399540</td>\n",
       "      <td>0.400736</td>\n",
       "      <td>0.383777</td>\n",
       "      <td>NaN</td>\n",
       "      <td>NaN</td>\n",
       "      <td>NaN</td>\n",
       "      <td>...</td>\n",
       "      <td>NaN</td>\n",
       "      <td>NaN</td>\n",
       "      <td>NaN</td>\n",
       "      <td>NaN</td>\n",
       "      <td>NaN</td>\n",
       "      <td>NaN</td>\n",
       "      <td>NaN</td>\n",
       "      <td>NaN</td>\n",
       "      <td>NaN</td>\n",
       "      <td>NaN</td>\n",
       "    </tr>\n",
       "    <tr>\n",
       "      <th>7</th>\n",
       "      <td>0.054288</td>\n",
       "      <td>-0.273343</td>\n",
       "      <td>-0.218506</td>\n",
       "      <td>-0.221544</td>\n",
       "      <td>-0.307083</td>\n",
       "      <td>0.399540</td>\n",
       "      <td>0.400736</td>\n",
       "      <td>0.383777</td>\n",
       "      <td>NaN</td>\n",
       "      <td>NaN</td>\n",
       "      <td>...</td>\n",
       "      <td>NaN</td>\n",
       "      <td>NaN</td>\n",
       "      <td>NaN</td>\n",
       "      <td>NaN</td>\n",
       "      <td>NaN</td>\n",
       "      <td>NaN</td>\n",
       "      <td>NaN</td>\n",
       "      <td>NaN</td>\n",
       "      <td>NaN</td>\n",
       "      <td>NaN</td>\n",
       "    </tr>\n",
       "    <tr>\n",
       "      <th>8</th>\n",
       "      <td>-0.003445</td>\n",
       "      <td>-0.287405</td>\n",
       "      <td>-0.273343</td>\n",
       "      <td>-0.218506</td>\n",
       "      <td>-0.221544</td>\n",
       "      <td>-0.307083</td>\n",
       "      <td>0.399540</td>\n",
       "      <td>0.400736</td>\n",
       "      <td>0.383777</td>\n",
       "      <td>NaN</td>\n",
       "      <td>...</td>\n",
       "      <td>NaN</td>\n",
       "      <td>NaN</td>\n",
       "      <td>NaN</td>\n",
       "      <td>NaN</td>\n",
       "      <td>NaN</td>\n",
       "      <td>NaN</td>\n",
       "      <td>NaN</td>\n",
       "      <td>NaN</td>\n",
       "      <td>NaN</td>\n",
       "      <td>NaN</td>\n",
       "    </tr>\n",
       "    <tr>\n",
       "      <th>9</th>\n",
       "      <td>0.094488</td>\n",
       "      <td>-0.258185</td>\n",
       "      <td>-0.287405</td>\n",
       "      <td>-0.273343</td>\n",
       "      <td>-0.218506</td>\n",
       "      <td>-0.221544</td>\n",
       "      <td>-0.307083</td>\n",
       "      <td>0.399540</td>\n",
       "      <td>0.400736</td>\n",
       "      <td>0.383777</td>\n",
       "      <td>...</td>\n",
       "      <td>NaN</td>\n",
       "      <td>NaN</td>\n",
       "      <td>NaN</td>\n",
       "      <td>NaN</td>\n",
       "      <td>NaN</td>\n",
       "      <td>NaN</td>\n",
       "      <td>NaN</td>\n",
       "      <td>NaN</td>\n",
       "      <td>NaN</td>\n",
       "      <td>NaN</td>\n",
       "    </tr>\n",
       "    <tr>\n",
       "      <th>10</th>\n",
       "      <td>0.051078</td>\n",
       "      <td>-0.269743</td>\n",
       "      <td>-0.258185</td>\n",
       "      <td>-0.287405</td>\n",
       "      <td>-0.273343</td>\n",
       "      <td>-0.218506</td>\n",
       "      <td>-0.221544</td>\n",
       "      <td>-0.307083</td>\n",
       "      <td>0.399540</td>\n",
       "      <td>0.400736</td>\n",
       "      <td>...</td>\n",
       "      <td>NaN</td>\n",
       "      <td>NaN</td>\n",
       "      <td>NaN</td>\n",
       "      <td>NaN</td>\n",
       "      <td>NaN</td>\n",
       "      <td>NaN</td>\n",
       "      <td>NaN</td>\n",
       "      <td>NaN</td>\n",
       "      <td>NaN</td>\n",
       "      <td>NaN</td>\n",
       "    </tr>\n",
       "    <tr>\n",
       "      <th>11</th>\n",
       "      <td>0.038451</td>\n",
       "      <td>-0.215834</td>\n",
       "      <td>-0.269743</td>\n",
       "      <td>-0.258185</td>\n",
       "      <td>-0.287405</td>\n",
       "      <td>-0.273343</td>\n",
       "      <td>-0.218506</td>\n",
       "      <td>-0.221544</td>\n",
       "      <td>-0.307083</td>\n",
       "      <td>0.399540</td>\n",
       "      <td>...</td>\n",
       "      <td>NaN</td>\n",
       "      <td>NaN</td>\n",
       "      <td>NaN</td>\n",
       "      <td>NaN</td>\n",
       "      <td>NaN</td>\n",
       "      <td>NaN</td>\n",
       "      <td>NaN</td>\n",
       "      <td>NaN</td>\n",
       "      <td>NaN</td>\n",
       "      <td>NaN</td>\n",
       "    </tr>\n",
       "    <tr>\n",
       "      <th>12</th>\n",
       "      <td>-0.022665</td>\n",
       "      <td>-0.235632</td>\n",
       "      <td>-0.215834</td>\n",
       "      <td>-0.269743</td>\n",
       "      <td>-0.258185</td>\n",
       "      <td>-0.287405</td>\n",
       "      <td>-0.273343</td>\n",
       "      <td>-0.218506</td>\n",
       "      <td>-0.221544</td>\n",
       "      <td>-0.307083</td>\n",
       "      <td>...</td>\n",
       "      <td>NaN</td>\n",
       "      <td>NaN</td>\n",
       "      <td>NaN</td>\n",
       "      <td>NaN</td>\n",
       "      <td>NaN</td>\n",
       "      <td>NaN</td>\n",
       "      <td>NaN</td>\n",
       "      <td>NaN</td>\n",
       "      <td>NaN</td>\n",
       "      <td>NaN</td>\n",
       "    </tr>\n",
       "    <tr>\n",
       "      <th>13</th>\n",
       "      <td>0.030807</td>\n",
       "      <td>-0.280455</td>\n",
       "      <td>-0.235632</td>\n",
       "      <td>-0.215834</td>\n",
       "      <td>-0.269743</td>\n",
       "      <td>-0.258185</td>\n",
       "      <td>-0.287405</td>\n",
       "      <td>-0.273343</td>\n",
       "      <td>-0.218506</td>\n",
       "      <td>-0.221544</td>\n",
       "      <td>...</td>\n",
       "      <td>NaN</td>\n",
       "      <td>NaN</td>\n",
       "      <td>NaN</td>\n",
       "      <td>NaN</td>\n",
       "      <td>NaN</td>\n",
       "      <td>NaN</td>\n",
       "      <td>NaN</td>\n",
       "      <td>NaN</td>\n",
       "      <td>NaN</td>\n",
       "      <td>NaN</td>\n",
       "    </tr>\n",
       "    <tr>\n",
       "      <th>14</th>\n",
       "      <td>0.097209</td>\n",
       "      <td>-0.210721</td>\n",
       "      <td>-0.280455</td>\n",
       "      <td>-0.235632</td>\n",
       "      <td>-0.215834</td>\n",
       "      <td>-0.269743</td>\n",
       "      <td>-0.258185</td>\n",
       "      <td>-0.287405</td>\n",
       "      <td>-0.273343</td>\n",
       "      <td>-0.218506</td>\n",
       "      <td>...</td>\n",
       "      <td>NaN</td>\n",
       "      <td>NaN</td>\n",
       "      <td>NaN</td>\n",
       "      <td>NaN</td>\n",
       "      <td>NaN</td>\n",
       "      <td>NaN</td>\n",
       "      <td>NaN</td>\n",
       "      <td>NaN</td>\n",
       "      <td>NaN</td>\n",
       "      <td>NaN</td>\n",
       "    </tr>\n",
       "  </tbody>\n",
       "</table>\n",
       "<p>15 rows × 2000 columns</p>\n",
       "</div>"
      ],
      "text/plain": [
       "           0   shift_1   shift_2   shift_3   shift_4   shift_5   shift_6  \\\n",
       "0  -0.029045       NaN       NaN       NaN       NaN       NaN       NaN   \n",
       "1  -0.022022  0.383777       NaN       NaN       NaN       NaN       NaN   \n",
       "2  -0.035298  0.400736  0.383777       NaN       NaN       NaN       NaN   \n",
       "3   0.022574  0.399540  0.400736  0.383777       NaN       NaN       NaN   \n",
       "4   0.067820 -0.307083  0.399540  0.400736  0.383777       NaN       NaN   \n",
       "5   0.020240 -0.221544 -0.307083  0.399540  0.400736  0.383777       NaN   \n",
       "6   0.011120 -0.218506 -0.221544 -0.307083  0.399540  0.400736  0.383777   \n",
       "7   0.054288 -0.273343 -0.218506 -0.221544 -0.307083  0.399540  0.400736   \n",
       "8  -0.003445 -0.287405 -0.273343 -0.218506 -0.221544 -0.307083  0.399540   \n",
       "9   0.094488 -0.258185 -0.287405 -0.273343 -0.218506 -0.221544 -0.307083   \n",
       "10  0.051078 -0.269743 -0.258185 -0.287405 -0.273343 -0.218506 -0.221544   \n",
       "11  0.038451 -0.215834 -0.269743 -0.258185 -0.287405 -0.273343 -0.218506   \n",
       "12 -0.022665 -0.235632 -0.215834 -0.269743 -0.258185 -0.287405 -0.273343   \n",
       "13  0.030807 -0.280455 -0.235632 -0.215834 -0.269743 -0.258185 -0.287405   \n",
       "14  0.097209 -0.210721 -0.280455 -0.235632 -0.215834 -0.269743 -0.258185   \n",
       "\n",
       "     shift_7   shift_8   shift_9     ...      shift_1990  shift_1991  \\\n",
       "0        NaN       NaN       NaN     ...             NaN         NaN   \n",
       "1        NaN       NaN       NaN     ...             NaN         NaN   \n",
       "2        NaN       NaN       NaN     ...             NaN         NaN   \n",
       "3        NaN       NaN       NaN     ...             NaN         NaN   \n",
       "4        NaN       NaN       NaN     ...             NaN         NaN   \n",
       "5        NaN       NaN       NaN     ...             NaN         NaN   \n",
       "6        NaN       NaN       NaN     ...             NaN         NaN   \n",
       "7   0.383777       NaN       NaN     ...             NaN         NaN   \n",
       "8   0.400736  0.383777       NaN     ...             NaN         NaN   \n",
       "9   0.399540  0.400736  0.383777     ...             NaN         NaN   \n",
       "10 -0.307083  0.399540  0.400736     ...             NaN         NaN   \n",
       "11 -0.221544 -0.307083  0.399540     ...             NaN         NaN   \n",
       "12 -0.218506 -0.221544 -0.307083     ...             NaN         NaN   \n",
       "13 -0.273343 -0.218506 -0.221544     ...             NaN         NaN   \n",
       "14 -0.287405 -0.273343 -0.218506     ...             NaN         NaN   \n",
       "\n",
       "    shift_1992  shift_1993  shift_1994  shift_1995  shift_1996  shift_1997  \\\n",
       "0          NaN         NaN         NaN         NaN         NaN         NaN   \n",
       "1          NaN         NaN         NaN         NaN         NaN         NaN   \n",
       "2          NaN         NaN         NaN         NaN         NaN         NaN   \n",
       "3          NaN         NaN         NaN         NaN         NaN         NaN   \n",
       "4          NaN         NaN         NaN         NaN         NaN         NaN   \n",
       "5          NaN         NaN         NaN         NaN         NaN         NaN   \n",
       "6          NaN         NaN         NaN         NaN         NaN         NaN   \n",
       "7          NaN         NaN         NaN         NaN         NaN         NaN   \n",
       "8          NaN         NaN         NaN         NaN         NaN         NaN   \n",
       "9          NaN         NaN         NaN         NaN         NaN         NaN   \n",
       "10         NaN         NaN         NaN         NaN         NaN         NaN   \n",
       "11         NaN         NaN         NaN         NaN         NaN         NaN   \n",
       "12         NaN         NaN         NaN         NaN         NaN         NaN   \n",
       "13         NaN         NaN         NaN         NaN         NaN         NaN   \n",
       "14         NaN         NaN         NaN         NaN         NaN         NaN   \n",
       "\n",
       "    shift_1998  shift_1999  \n",
       "0          NaN         NaN  \n",
       "1          NaN         NaN  \n",
       "2          NaN         NaN  \n",
       "3          NaN         NaN  \n",
       "4          NaN         NaN  \n",
       "5          NaN         NaN  \n",
       "6          NaN         NaN  \n",
       "7          NaN         NaN  \n",
       "8          NaN         NaN  \n",
       "9          NaN         NaN  \n",
       "10         NaN         NaN  \n",
       "11         NaN         NaN  \n",
       "12         NaN         NaN  \n",
       "13         NaN         NaN  \n",
       "14         NaN         NaN  \n",
       "\n",
       "[15 rows x 2000 columns]"
      ]
     },
     "execution_count": 64,
     "metadata": {},
     "output_type": "execute_result"
    }
   ],
   "source": [
    "train_x.iloc[:, 0] = train_y.iloc[:,0]\n",
    "#test_x.iloc[:, 0] = test_y.values\n",
    "train_x.head(15)"
   ]
  },
  {
   "cell_type": "code",
   "execution_count": 65,
   "metadata": {},
   "outputs": [],
   "source": [
    "X_train = train_x.dropna().drop(0, axis=1)\n",
    "y_train = train_x.dropna()[[0]]\n",
    "\n",
    "X_test = test_x.dropna().drop(0, axis=1)\n",
    "y_test = test_y.dropna()[[0]]"
   ]
  },
  {
   "cell_type": "code",
   "execution_count": 66,
   "metadata": {},
   "outputs": [],
   "source": [
    "X_train = X_train.values\n",
    "X_test= X_test.values\n",
    "\n",
    "y_train = y_train.values\n",
    "y_test = y_test.values"
   ]
  },
  {
   "cell_type": "code",
   "execution_count": 67,
   "metadata": {},
   "outputs": [
    {
     "data": {
      "text/plain": [
       "((18001, 1999), (5000, 1999), (18001, 1), (5000, 1))"
      ]
     },
     "execution_count": 67,
     "metadata": {},
     "output_type": "execute_result"
    }
   ],
   "source": [
    "X_train.shape, X_test.shape, y_train.shape, y_test.shape"
   ]
  },
  {
   "cell_type": "code",
   "execution_count": 68,
   "metadata": {},
   "outputs": [],
   "source": [
    "from keras.layers.core import Dense, Activation, Dropout\n",
    "from keras.layers.recurrent import LSTM\n",
    "from keras.models import Sequential\n",
    "from keras.callbacks import EarlyStopping\n",
    "import keras.backend as K"
   ]
  },
  {
   "cell_type": "code",
   "execution_count": 81,
   "metadata": {},
   "outputs": [
    {
     "name": "stdout",
     "output_type": "stream",
     "text": [
      "_________________________________________________________________\n",
      "Layer (type)                 Output Shape              Param #   \n",
      "=================================================================\n",
      "dense_1 (Dense)              (None, 1)                 2000      \n",
      "_________________________________________________________________\n",
      "dense_2 (Dense)              (None, 40)                80        \n",
      "_________________________________________________________________\n",
      "dense_3 (Dense)              (None, 1)                 41        \n",
      "=================================================================\n",
      "Total params: 2,121\n",
      "Trainable params: 2,121\n",
      "Non-trainable params: 0\n",
      "_________________________________________________________________\n"
     ]
    }
   ],
   "source": [
    "K.clear_session()\n",
    "\n",
    "model = Sequential()\n",
    "model.add(Dense(1, input_dim=X_train.shape[1], activation='tanh'))\n",
    "model.add(Dense(40, activation='tanh'))\n",
    "model.add(Dense(1, activation = \"linear\"))\n",
    "model.compile(loss='mean_absolute_error', optimizer='adam', metrics = ['mse'])\n",
    "model.summary()\n"
   ]
  },
  {
   "cell_type": "code",
   "execution_count": 82,
   "metadata": {},
   "outputs": [],
   "source": [
    "early_stop = EarlyStopping(monitor='val_loss', patience=50, verbose=1, min_delta =0.00001)"
   ]
  },
  {
   "cell_type": "code",
   "execution_count": 83,
   "metadata": {},
   "outputs": [
    {
     "name": "stdout",
     "output_type": "stream",
     "text": [
      "Train on 16200 samples, validate on 1801 samples\n",
      "Epoch 1/2000\n",
      "16200/16200 [==============================] - 1s 58us/step - loss: 0.2349 - mean_squared_error: 0.0698 - val_loss: 0.2264 - val_mean_squared_error: 0.0644\n",
      "Epoch 2/2000\n",
      "16200/16200 [==============================] - 1s 41us/step - loss: 0.1957 - mean_squared_error: 0.0542 - val_loss: 0.1961 - val_mean_squared_error: 0.0567\n",
      "Epoch 3/2000\n",
      "16200/16200 [==============================] - 1s 41us/step - loss: 0.1596 - mean_squared_error: 0.0392 - val_loss: 0.1424 - val_mean_squared_error: 0.0311\n",
      "Epoch 4/2000\n",
      "16200/16200 [==============================] - 1s 41us/step - loss: 0.1444 - mean_squared_error: 0.0327 - val_loss: 0.1315 - val_mean_squared_error: 0.0266\n",
      "Epoch 5/2000\n",
      "16200/16200 [==============================] - 1s 41us/step - loss: 0.1363 - mean_squared_error: 0.0292 - val_loss: 0.1325 - val_mean_squared_error: 0.0273\n",
      "Epoch 6/2000\n",
      "16200/16200 [==============================] - 1s 41us/step - loss: 0.1255 - mean_squared_error: 0.0249 - val_loss: 0.1125 - val_mean_squared_error: 0.0199\n",
      "Epoch 7/2000\n",
      "16200/16200 [==============================] - 1s 41us/step - loss: 0.1211 - mean_squared_error: 0.0233 - val_loss: 0.1026 - val_mean_squared_error: 0.0166\n",
      "Epoch 8/2000\n",
      "16200/16200 [==============================] - 1s 41us/step - loss: 0.1142 - mean_squared_error: 0.0207 - val_loss: 0.1003 - val_mean_squared_error: 0.0159\n",
      "Epoch 9/2000\n",
      "16200/16200 [==============================] - 1s 41us/step - loss: 0.1136 - mean_squared_error: 0.0205 - val_loss: 0.1000 - val_mean_squared_error: 0.0156\n",
      "Epoch 10/2000\n",
      "16200/16200 [==============================] - 1s 41us/step - loss: 0.1068 - mean_squared_error: 0.0182 - val_loss: 0.0861 - val_mean_squared_error: 0.0118\n",
      "Epoch 11/2000\n",
      "16200/16200 [==============================] - 1s 41us/step - loss: 0.1085 - mean_squared_error: 0.0188 - val_loss: 0.0820 - val_mean_squared_error: 0.0107\n",
      "Epoch 12/2000\n",
      "16200/16200 [==============================] - 1s 41us/step - loss: 0.1034 - mean_squared_error: 0.0171 - val_loss: 0.0787 - val_mean_squared_error: 0.0099\n",
      "Epoch 13/2000\n",
      "16200/16200 [==============================] - 1s 41us/step - loss: 0.1002 - mean_squared_error: 0.0161 - val_loss: 0.0843 - val_mean_squared_error: 0.0111\n",
      "Epoch 14/2000\n",
      "16200/16200 [==============================] - 1s 42us/step - loss: 0.1003 - mean_squared_error: 0.0160 - val_loss: 0.0859 - val_mean_squared_error: 0.0114\n",
      "Epoch 15/2000\n",
      "16200/16200 [==============================] - 1s 41us/step - loss: 0.0993 - mean_squared_error: 0.0157 - val_loss: 0.0755 - val_mean_squared_error: 0.0090\n",
      "Epoch 16/2000\n",
      "16200/16200 [==============================] - 1s 41us/step - loss: 0.0961 - mean_squared_error: 0.0148 - val_loss: 0.0749 - val_mean_squared_error: 0.0088\n",
      "Epoch 17/2000\n",
      "16200/16200 [==============================] - 1s 42us/step - loss: 0.0955 - mean_squared_error: 0.0146 - val_loss: 0.0878 - val_mean_squared_error: 0.0117\n",
      "Epoch 18/2000\n",
      "16200/16200 [==============================] - 1s 41us/step - loss: 0.0951 - mean_squared_error: 0.0144 - val_loss: 0.0812 - val_mean_squared_error: 0.0101\n",
      "Epoch 19/2000\n",
      "16200/16200 [==============================] - 1s 41us/step - loss: 0.0931 - mean_squared_error: 0.0139 - val_loss: 0.0751 - val_mean_squared_error: 0.0087\n",
      "Epoch 20/2000\n",
      "16200/16200 [==============================] - 1s 42us/step - loss: 0.0932 - mean_squared_error: 0.0139 - val_loss: 0.0868 - val_mean_squared_error: 0.0112\n",
      "Epoch 21/2000\n",
      "16200/16200 [==============================] - 1s 42us/step - loss: 0.0901 - mean_squared_error: 0.0131 - val_loss: 0.0756 - val_mean_squared_error: 0.0087\n",
      "Epoch 22/2000\n",
      "16200/16200 [==============================] - 1s 41us/step - loss: 0.0899 - mean_squared_error: 0.0130 - val_loss: 0.0628 - val_mean_squared_error: 0.0063\n",
      "Epoch 23/2000\n",
      "16200/16200 [==============================] - 1s 41us/step - loss: 0.0885 - mean_squared_error: 0.0126 - val_loss: 0.0607 - val_mean_squared_error: 0.0059\n",
      "Epoch 24/2000\n",
      "16200/16200 [==============================] - 1s 41us/step - loss: 0.0895 - mean_squared_error: 0.0130 - val_loss: 0.0757 - val_mean_squared_error: 0.0087\n",
      "Epoch 25/2000\n",
      "16200/16200 [==============================] - 1s 41us/step - loss: 0.0886 - mean_squared_error: 0.0127 - val_loss: 0.1103 - val_mean_squared_error: 0.0164\n",
      "Epoch 26/2000\n",
      "16200/16200 [==============================] - 1s 41us/step - loss: 0.0900 - mean_squared_error: 0.0130 - val_loss: 0.0603 - val_mean_squared_error: 0.0057\n",
      "Epoch 27/2000\n",
      "16200/16200 [==============================] - 1s 42us/step - loss: 0.0882 - mean_squared_error: 0.0126 - val_loss: 0.0710 - val_mean_squared_error: 0.0076\n",
      "Epoch 28/2000\n",
      "16200/16200 [==============================] - 1s 41us/step - loss: 0.0862 - mean_squared_error: 0.0120 - val_loss: 0.0668 - val_mean_squared_error: 0.0071\n",
      "Epoch 29/2000\n",
      "16200/16200 [==============================] - 1s 42us/step - loss: 0.0868 - mean_squared_error: 0.0121 - val_loss: 0.0652 - val_mean_squared_error: 0.0065\n",
      "Epoch 30/2000\n",
      "16200/16200 [==============================] - 1s 41us/step - loss: 0.0853 - mean_squared_error: 0.0118 - val_loss: 0.0815 - val_mean_squared_error: 0.0095\n",
      "Epoch 31/2000\n",
      "16200/16200 [==============================] - 1s 41us/step - loss: 0.0881 - mean_squared_error: 0.0125 - val_loss: 0.0608 - val_mean_squared_error: 0.0057\n",
      "Epoch 32/2000\n",
      "16200/16200 [==============================] - 1s 41us/step - loss: 0.0887 - mean_squared_error: 0.0126 - val_loss: 0.0628 - val_mean_squared_error: 0.0060\n",
      "Epoch 33/2000\n",
      "16200/16200 [==============================] - 1s 41us/step - loss: 0.0850 - mean_squared_error: 0.0116 - val_loss: 0.0538 - val_mean_squared_error: 0.0047\n",
      "Epoch 34/2000\n",
      "16200/16200 [==============================] - 1s 41us/step - loss: 0.0834 - mean_squared_error: 0.0113 - val_loss: 0.0931 - val_mean_squared_error: 0.0119\n",
      "Epoch 35/2000\n",
      "16200/16200 [==============================] - 1s 42us/step - loss: 0.0853 - mean_squared_error: 0.0117 - val_loss: 0.0561 - val_mean_squared_error: 0.0049\n",
      "Epoch 36/2000\n",
      "16200/16200 [==============================] - 1s 41us/step - loss: 0.0833 - mean_squared_error: 0.0112 - val_loss: 0.0533 - val_mean_squared_error: 0.0045\n",
      "Epoch 37/2000\n",
      "16200/16200 [==============================] - 1s 41us/step - loss: 0.0831 - mean_squared_error: 0.0112 - val_loss: 0.0774 - val_mean_squared_error: 0.0085\n",
      "Epoch 38/2000\n",
      "16200/16200 [==============================] - 1s 41us/step - loss: 0.0845 - mean_squared_error: 0.0115 - val_loss: 0.0840 - val_mean_squared_error: 0.0098\n",
      "Epoch 39/2000\n",
      "16200/16200 [==============================] - 1s 42us/step - loss: 0.0856 - mean_squared_error: 0.0118 - val_loss: 0.0553 - val_mean_squared_error: 0.0047\n",
      "Epoch 40/2000\n",
      "16200/16200 [==============================] - 1s 41us/step - loss: 0.0821 - mean_squared_error: 0.0110 - val_loss: 0.0557 - val_mean_squared_error: 0.0050\n",
      "Epoch 41/2000\n",
      "16200/16200 [==============================] - 1s 42us/step - loss: 0.0835 - mean_squared_error: 0.0113 - val_loss: 0.0536 - val_mean_squared_error: 0.0045\n",
      "Epoch 42/2000\n",
      "16200/16200 [==============================] - 1s 42us/step - loss: 0.0823 - mean_squared_error: 0.0110 - val_loss: 0.0496 - val_mean_squared_error: 0.0040\n",
      "Epoch 43/2000\n",
      "16200/16200 [==============================] - 1s 41us/step - loss: 0.0873 - mean_squared_error: 0.0123 - val_loss: 0.0503 - val_mean_squared_error: 0.0040\n",
      "Epoch 44/2000\n",
      "16200/16200 [==============================] - 1s 42us/step - loss: 0.0835 - mean_squared_error: 0.0113 - val_loss: 0.0502 - val_mean_squared_error: 0.0041\n",
      "Epoch 45/2000\n",
      "16200/16200 [==============================] - 1s 41us/step - loss: 0.0826 - mean_squared_error: 0.0111 - val_loss: 0.0826 - val_mean_squared_error: 0.0095\n",
      "Epoch 46/2000\n",
      "16200/16200 [==============================] - 1s 41us/step - loss: 0.0829 - mean_squared_error: 0.0111 - val_loss: 0.0544 - val_mean_squared_error: 0.0045\n",
      "Epoch 47/2000\n",
      "16200/16200 [==============================] - 1s 41us/step - loss: 0.0809 - mean_squared_error: 0.0107 - val_loss: 0.0516 - val_mean_squared_error: 0.0041\n",
      "Epoch 48/2000\n",
      "16200/16200 [==============================] - 1s 41us/step - loss: 0.0813 - mean_squared_error: 0.0108 - val_loss: 0.0594 - val_mean_squared_error: 0.0053\n",
      "Epoch 49/2000\n",
      "16200/16200 [==============================] - 1s 41us/step - loss: 0.0812 - mean_squared_error: 0.0108 - val_loss: 0.0894 - val_mean_squared_error: 0.0107\n",
      "Epoch 50/2000\n",
      "16200/16200 [==============================] - 1s 41us/step - loss: 0.0819 - mean_squared_error: 0.0109 - val_loss: 0.0537 - val_mean_squared_error: 0.0044\n",
      "Epoch 51/2000\n",
      "16200/16200 [==============================] - 1s 41us/step - loss: 0.0810 - mean_squared_error: 0.0107 - val_loss: 0.0509 - val_mean_squared_error: 0.0043\n",
      "Epoch 52/2000\n",
      "16200/16200 [==============================] - 1s 41us/step - loss: 0.0838 - mean_squared_error: 0.0113 - val_loss: 0.0492 - val_mean_squared_error: 0.0039\n",
      "Epoch 53/2000\n",
      "16200/16200 [==============================] - 1s 41us/step - loss: 0.0807 - mean_squared_error: 0.0106 - val_loss: 0.0543 - val_mean_squared_error: 0.0044\n",
      "Epoch 54/2000\n",
      "16200/16200 [==============================] - 1s 42us/step - loss: 0.0821 - mean_squared_error: 0.0109 - val_loss: 0.0840 - val_mean_squared_error: 0.0097\n",
      "Epoch 55/2000\n",
      "16200/16200 [==============================] - 1s 40us/step - loss: 0.0842 - mean_squared_error: 0.0114 - val_loss: 0.0658 - val_mean_squared_error: 0.0063\n",
      "Epoch 56/2000\n",
      "16200/16200 [==============================] - 1s 41us/step - loss: 0.0795 - mean_squared_error: 0.0104 - val_loss: 0.0479 - val_mean_squared_error: 0.0036\n",
      "Epoch 57/2000\n",
      "16200/16200 [==============================] - 1s 41us/step - loss: 0.0822 - mean_squared_error: 0.0110 - val_loss: 0.0605 - val_mean_squared_error: 0.0054\n",
      "Epoch 58/2000\n",
      "16200/16200 [==============================] - 1s 41us/step - loss: 0.0808 - mean_squared_error: 0.0106 - val_loss: 0.0492 - val_mean_squared_error: 0.0038\n",
      "Epoch 59/2000\n",
      "16200/16200 [==============================] - 1s 41us/step - loss: 0.0811 - mean_squared_error: 0.0107 - val_loss: 0.0520 - val_mean_squared_error: 0.0044\n",
      "Epoch 60/2000\n",
      "16200/16200 [==============================] - 1s 42us/step - loss: 0.0844 - mean_squared_error: 0.0115 - val_loss: 0.0618 - val_mean_squared_error: 0.0056\n",
      "Epoch 61/2000\n",
      "16200/16200 [==============================] - 1s 41us/step - loss: 0.0815 - mean_squared_error: 0.0108 - val_loss: 0.0594 - val_mean_squared_error: 0.0052\n",
      "Epoch 62/2000\n",
      "16200/16200 [==============================] - 1s 41us/step - loss: 0.0831 - mean_squared_error: 0.0112 - val_loss: 0.0664 - val_mean_squared_error: 0.0063\n",
      "Epoch 63/2000\n",
      "16200/16200 [==============================] - 1s 41us/step - loss: 0.0794 - mean_squared_error: 0.0103 - val_loss: 0.0489 - val_mean_squared_error: 0.0037\n",
      "Epoch 64/2000\n",
      "16200/16200 [==============================] - 1s 41us/step - loss: 0.0821 - mean_squared_error: 0.0109 - val_loss: 0.0474 - val_mean_squared_error: 0.0035\n",
      "Epoch 65/2000\n",
      "16200/16200 [==============================] - 1s 41us/step - loss: 0.0827 - mean_squared_error: 0.0111 - val_loss: 0.0608 - val_mean_squared_error: 0.0054\n",
      "Epoch 66/2000\n",
      "16200/16200 [==============================] - 1s 41us/step - loss: 0.0810 - mean_squared_error: 0.0107 - val_loss: 0.0973 - val_mean_squared_error: 0.0130\n",
      "Epoch 67/2000\n",
      "16200/16200 [==============================] - 1s 42us/step - loss: 0.0845 - mean_squared_error: 0.0116 - val_loss: 0.0460 - val_mean_squared_error: 0.0035\n",
      "Epoch 68/2000\n",
      "16200/16200 [==============================] - 1s 41us/step - loss: 0.0792 - mean_squared_error: 0.0103 - val_loss: 0.0607 - val_mean_squared_error: 0.0054\n",
      "Epoch 69/2000\n",
      "16200/16200 [==============================] - 1s 42us/step - loss: 0.0814 - mean_squared_error: 0.0107 - val_loss: 0.0500 - val_mean_squared_error: 0.0041\n",
      "Epoch 70/2000\n",
      "16200/16200 [==============================] - 1s 41us/step - loss: 0.0789 - mean_squared_error: 0.0102 - val_loss: 0.0467 - val_mean_squared_error: 0.0035\n",
      "Epoch 71/2000\n",
      "16200/16200 [==============================] - 1s 41us/step - loss: 0.0804 - mean_squared_error: 0.0106 - val_loss: 0.0464 - val_mean_squared_error: 0.0034\n",
      "Epoch 72/2000\n",
      "16200/16200 [==============================] - 1s 41us/step - loss: 0.0788 - mean_squared_error: 0.0102 - val_loss: 0.0613 - val_mean_squared_error: 0.0054\n",
      "Epoch 73/2000\n",
      "16200/16200 [==============================] - 1s 41us/step - loss: 0.0789 - mean_squared_error: 0.0102 - val_loss: 0.0510 - val_mean_squared_error: 0.0039\n",
      "Epoch 74/2000\n",
      "16200/16200 [==============================] - 1s 41us/step - loss: 0.0794 - mean_squared_error: 0.0103 - val_loss: 0.0608 - val_mean_squared_error: 0.0053\n",
      "Epoch 75/2000\n",
      "16200/16200 [==============================] - 1s 41us/step - loss: 0.0787 - mean_squared_error: 0.0102 - val_loss: 0.0538 - val_mean_squared_error: 0.0043\n",
      "Epoch 76/2000\n",
      "16200/16200 [==============================] - 1s 41us/step - loss: 0.0798 - mean_squared_error: 0.0104 - val_loss: 0.0445 - val_mean_squared_error: 0.0032\n",
      "Epoch 77/2000\n",
      "16200/16200 [==============================] - 1s 41us/step - loss: 0.0809 - mean_squared_error: 0.0106 - val_loss: 0.0783 - val_mean_squared_error: 0.0083\n",
      "Epoch 78/2000\n",
      "16200/16200 [==============================] - 1s 41us/step - loss: 0.0793 - mean_squared_error: 0.0103 - val_loss: 0.0481 - val_mean_squared_error: 0.0036\n",
      "Epoch 79/2000\n",
      "16200/16200 [==============================] - 1s 42us/step - loss: 0.0778 - mean_squared_error: 0.0100 - val_loss: 0.0583 - val_mean_squared_error: 0.0050\n",
      "Epoch 80/2000\n",
      "16200/16200 [==============================] - 1s 41us/step - loss: 0.0785 - mean_squared_error: 0.0102 - val_loss: 0.0452 - val_mean_squared_error: 0.0033\n",
      "Epoch 81/2000\n",
      "16200/16200 [==============================] - 1s 41us/step - loss: 0.0803 - mean_squared_error: 0.0105 - val_loss: 0.0620 - val_mean_squared_error: 0.0055\n",
      "Epoch 82/2000\n",
      "16200/16200 [==============================] - 1s 42us/step - loss: 0.0782 - mean_squared_error: 0.0101 - val_loss: 0.0702 - val_mean_squared_error: 0.0069\n",
      "Epoch 83/2000\n",
      "16200/16200 [==============================] - 1s 41us/step - loss: 0.0779 - mean_squared_error: 0.0100 - val_loss: 0.0801 - val_mean_squared_error: 0.0087\n",
      "Epoch 84/2000\n",
      "16200/16200 [==============================] - 1s 41us/step - loss: 0.0783 - mean_squared_error: 0.0101 - val_loss: 0.0474 - val_mean_squared_error: 0.0035\n",
      "Epoch 85/2000\n",
      "16200/16200 [==============================] - 1s 41us/step - loss: 0.0786 - mean_squared_error: 0.0101 - val_loss: 0.0457 - val_mean_squared_error: 0.0033\n",
      "Epoch 86/2000\n",
      "16200/16200 [==============================] - 1s 41us/step - loss: 0.0781 - mean_squared_error: 0.0101 - val_loss: 0.0661 - val_mean_squared_error: 0.0063\n",
      "Epoch 87/2000\n",
      "16200/16200 [==============================] - 1s 41us/step - loss: 0.0782 - mean_squared_error: 0.0101 - val_loss: 0.0480 - val_mean_squared_error: 0.0038\n",
      "Epoch 88/2000\n",
      "16200/16200 [==============================] - 1s 41us/step - loss: 0.0814 - mean_squared_error: 0.0108 - val_loss: 0.0456 - val_mean_squared_error: 0.0034\n",
      "Epoch 89/2000\n",
      "16200/16200 [==============================] - 1s 41us/step - loss: 0.0811 - mean_squared_error: 0.0107 - val_loss: 0.0501 - val_mean_squared_error: 0.0038\n",
      "Epoch 90/2000\n",
      "16200/16200 [==============================] - 1s 41us/step - loss: 0.0775 - mean_squared_error: 0.0099 - val_loss: 0.0498 - val_mean_squared_error: 0.0037\n",
      "Epoch 91/2000\n",
      "16200/16200 [==============================] - 1s 41us/step - loss: 0.0776 - mean_squared_error: 0.0099 - val_loss: 0.0591 - val_mean_squared_error: 0.0051\n",
      "Epoch 92/2000\n",
      "16200/16200 [==============================] - 1s 41us/step - loss: 0.0772 - mean_squared_error: 0.0099 - val_loss: 0.0454 - val_mean_squared_error: 0.0033\n",
      "Epoch 93/2000\n",
      "16200/16200 [==============================] - 1s 41us/step - loss: 0.0821 - mean_squared_error: 0.0109 - val_loss: 0.0478 - val_mean_squared_error: 0.0036\n",
      "Epoch 94/2000\n",
      "16200/16200 [==============================] - 1s 41us/step - loss: 0.0775 - mean_squared_error: 0.0099 - val_loss: 0.0544 - val_mean_squared_error: 0.0044\n",
      "Epoch 95/2000\n",
      "16200/16200 [==============================] - 1s 41us/step - loss: 0.0773 - mean_squared_error: 0.0099 - val_loss: 0.0667 - val_mean_squared_error: 0.0063\n",
      "Epoch 96/2000\n",
      "16200/16200 [==============================] - 1s 41us/step - loss: 0.0787 - mean_squared_error: 0.0102 - val_loss: 0.0473 - val_mean_squared_error: 0.0034\n",
      "Epoch 97/2000\n",
      "16200/16200 [==============================] - 1s 42us/step - loss: 0.0766 - mean_squared_error: 0.0098 - val_loss: 0.0523 - val_mean_squared_error: 0.0040\n",
      "Epoch 98/2000\n",
      "16200/16200 [==============================] - 1s 41us/step - loss: 0.0761 - mean_squared_error: 0.0097 - val_loss: 0.0982 - val_mean_squared_error: 0.0124\n",
      "Epoch 99/2000\n",
      "16200/16200 [==============================] - 1s 41us/step - loss: 0.0820 - mean_squared_error: 0.0109 - val_loss: 0.0777 - val_mean_squared_error: 0.0082\n",
      "Epoch 100/2000\n",
      "16200/16200 [==============================] - 1s 41us/step - loss: 0.0769 - mean_squared_error: 0.0099 - val_loss: 0.0442 - val_mean_squared_error: 0.0031\n",
      "Epoch 101/2000\n",
      "16200/16200 [==============================] - 1s 42us/step - loss: 0.0777 - mean_squared_error: 0.0100 - val_loss: 0.0605 - val_mean_squared_error: 0.0053\n",
      "Epoch 102/2000\n",
      "16200/16200 [==============================] - 1s 41us/step - loss: 0.0775 - mean_squared_error: 0.0099 - val_loss: 0.0729 - val_mean_squared_error: 0.0075\n",
      "Epoch 103/2000\n",
      "16200/16200 [==============================] - 1s 42us/step - loss: 0.0765 - mean_squared_error: 0.0097 - val_loss: 0.0459 - val_mean_squared_error: 0.0032\n",
      "Epoch 104/2000\n",
      "16200/16200 [==============================] - 1s 41us/step - loss: 0.0764 - mean_squared_error: 0.0097 - val_loss: 0.0464 - val_mean_squared_error: 0.0033\n",
      "Epoch 105/2000\n",
      "16200/16200 [==============================] - 1s 41us/step - loss: 0.0770 - mean_squared_error: 0.0098 - val_loss: 0.0643 - val_mean_squared_error: 0.0059\n",
      "Epoch 106/2000\n",
      "16200/16200 [==============================] - 1s 41us/step - loss: 0.0760 - mean_squared_error: 0.0096 - val_loss: 0.0492 - val_mean_squared_error: 0.0036\n",
      "Epoch 107/2000\n",
      "16200/16200 [==============================] - 1s 41us/step - loss: 0.0753 - mean_squared_error: 0.0095 - val_loss: 0.0558 - val_mean_squared_error: 0.0046\n",
      "Epoch 108/2000\n",
      "16200/16200 [==============================] - 1s 41us/step - loss: 0.0780 - mean_squared_error: 0.0101 - val_loss: 0.0676 - val_mean_squared_error: 0.0065\n",
      "Epoch 109/2000\n",
      "16200/16200 [==============================] - 1s 41us/step - loss: 0.0764 - mean_squared_error: 0.0097 - val_loss: 0.0675 - val_mean_squared_error: 0.0065\n",
      "Epoch 110/2000\n",
      "16200/16200 [==============================] - 1s 41us/step - loss: 0.0743 - mean_squared_error: 0.0093 - val_loss: 0.0535 - val_mean_squared_error: 0.0042\n",
      "Epoch 111/2000\n",
      "16200/16200 [==============================] - 1s 42us/step - loss: 0.0759 - mean_squared_error: 0.0096 - val_loss: 0.0445 - val_mean_squared_error: 0.0031\n",
      "Epoch 112/2000\n",
      "16200/16200 [==============================] - 1s 42us/step - loss: 0.0746 - mean_squared_error: 0.0094 - val_loss: 0.0508 - val_mean_squared_error: 0.0039\n",
      "Epoch 113/2000\n",
      "16200/16200 [==============================] - 1s 41us/step - loss: 0.0742 - mean_squared_error: 0.0093 - val_loss: 0.0490 - val_mean_squared_error: 0.0036\n",
      "Epoch 114/2000\n",
      "16200/16200 [==============================] - 1s 41us/step - loss: 0.0745 - mean_squared_error: 0.0093 - val_loss: 0.0651 - val_mean_squared_error: 0.0061\n",
      "Epoch 115/2000\n",
      "16200/16200 [==============================] - 1s 41us/step - loss: 0.0746 - mean_squared_error: 0.0094 - val_loss: 0.0502 - val_mean_squared_error: 0.0042\n",
      "Epoch 116/2000\n",
      "16200/16200 [==============================] - 1s 41us/step - loss: 0.0749 - mean_squared_error: 0.0095 - val_loss: 0.0803 - val_mean_squared_error: 0.0089\n",
      "Epoch 117/2000\n",
      "16200/16200 [==============================] - 1s 40us/step - loss: 0.0734 - mean_squared_error: 0.0092 - val_loss: 0.0495 - val_mean_squared_error: 0.0037\n",
      "Epoch 118/2000\n",
      "16200/16200 [==============================] - 1s 41us/step - loss: 0.0724 - mean_squared_error: 0.0090 - val_loss: 0.0432 - val_mean_squared_error: 0.0029\n",
      "Epoch 119/2000\n",
      "16200/16200 [==============================] - 1s 42us/step - loss: 0.0726 - mean_squared_error: 0.0090 - val_loss: 0.0674 - val_mean_squared_error: 0.0065\n",
      "Epoch 120/2000\n",
      "16200/16200 [==============================] - 1s 41us/step - loss: 0.0724 - mean_squared_error: 0.0090 - val_loss: 0.0493 - val_mean_squared_error: 0.0038\n",
      "Epoch 121/2000\n",
      "16200/16200 [==============================] - 1s 40us/step - loss: 0.0726 - mean_squared_error: 0.0091 - val_loss: 0.0429 - val_mean_squared_error: 0.0029\n",
      "Epoch 122/2000\n",
      "16200/16200 [==============================] - 1s 40us/step - loss: 0.0722 - mean_squared_error: 0.0090 - val_loss: 0.0436 - val_mean_squared_error: 0.0030\n",
      "Epoch 123/2000\n",
      "16200/16200 [==============================] - 1s 40us/step - loss: 0.0724 - mean_squared_error: 0.0091 - val_loss: 0.0788 - val_mean_squared_error: 0.0089\n",
      "Epoch 124/2000\n",
      "16200/16200 [==============================] - 1s 40us/step - loss: 0.0737 - mean_squared_error: 0.0093 - val_loss: 0.0511 - val_mean_squared_error: 0.0040\n",
      "Epoch 125/2000\n",
      "16200/16200 [==============================] - 1s 39us/step - loss: 0.0716 - mean_squared_error: 0.0089 - val_loss: 0.0578 - val_mean_squared_error: 0.0050\n",
      "Epoch 126/2000\n",
      "16200/16200 [==============================] - 1s 40us/step - loss: 0.0708 - mean_squared_error: 0.0087 - val_loss: 0.0606 - val_mean_squared_error: 0.0055\n",
      "Epoch 127/2000\n",
      "16200/16200 [==============================] - 1s 40us/step - loss: 0.0713 - mean_squared_error: 0.0089 - val_loss: 0.0506 - val_mean_squared_error: 0.0040\n",
      "Epoch 128/2000\n",
      "16200/16200 [==============================] - 1s 39us/step - loss: 0.0718 - mean_squared_error: 0.0090 - val_loss: 0.0518 - val_mean_squared_error: 0.0042\n",
      "Epoch 129/2000\n",
      "16200/16200 [==============================] - 1s 41us/step - loss: 0.0713 - mean_squared_error: 0.0089 - val_loss: 0.0427 - val_mean_squared_error: 0.0029\n",
      "Epoch 130/2000\n",
      "16200/16200 [==============================] - 1s 42us/step - loss: 0.0712 - mean_squared_error: 0.0089 - val_loss: 0.0475 - val_mean_squared_error: 0.0036\n",
      "Epoch 131/2000\n",
      "16200/16200 [==============================] - 1s 40us/step - loss: 0.0707 - mean_squared_error: 0.0088 - val_loss: 0.0596 - val_mean_squared_error: 0.0055\n",
      "Epoch 132/2000\n",
      "16200/16200 [==============================] - 1s 40us/step - loss: 0.0703 - mean_squared_error: 0.0088 - val_loss: 0.0707 - val_mean_squared_error: 0.0074\n",
      "Epoch 133/2000\n",
      "16200/16200 [==============================] - 1s 42us/step - loss: 0.0714 - mean_squared_error: 0.0090 - val_loss: 0.0536 - val_mean_squared_error: 0.0045\n",
      "Epoch 134/2000\n",
      "16200/16200 [==============================] - 1s 42us/step - loss: 0.0702 - mean_squared_error: 0.0088 - val_loss: 0.0771 - val_mean_squared_error: 0.0086\n",
      "Epoch 135/2000\n",
      "16200/16200 [==============================] - 1s 41us/step - loss: 0.0734 - mean_squared_error: 0.0094 - val_loss: 0.0451 - val_mean_squared_error: 0.0033\n",
      "Epoch 136/2000\n",
      "16200/16200 [==============================] - 1s 40us/step - loss: 0.0723 - mean_squared_error: 0.0092 - val_loss: 0.0435 - val_mean_squared_error: 0.0030\n",
      "Epoch 137/2000\n",
      "16200/16200 [==============================] - 1s 40us/step - loss: 0.0702 - mean_squared_error: 0.0088 - val_loss: 0.0543 - val_mean_squared_error: 0.0045\n",
      "Epoch 138/2000\n",
      "16200/16200 [==============================] - 1s 39us/step - loss: 0.0703 - mean_squared_error: 0.0088 - val_loss: 0.0734 - val_mean_squared_error: 0.0080\n",
      "Epoch 139/2000\n",
      "16200/16200 [==============================] - 1s 40us/step - loss: 0.0722 - mean_squared_error: 0.0092 - val_loss: 0.0744 - val_mean_squared_error: 0.0083\n",
      "Epoch 140/2000\n",
      "16200/16200 [==============================] - 1s 39us/step - loss: 0.0702 - mean_squared_error: 0.0088 - val_loss: 0.0718 - val_mean_squared_error: 0.0077\n",
      "Epoch 141/2000\n",
      "16200/16200 [==============================] - 1s 40us/step - loss: 0.0723 - mean_squared_error: 0.0092 - val_loss: 0.0541 - val_mean_squared_error: 0.0047\n",
      "Epoch 142/2000\n",
      "16200/16200 [==============================] - 1s 39us/step - loss: 0.0699 - mean_squared_error: 0.0087 - val_loss: 0.0490 - val_mean_squared_error: 0.0038\n",
      "Epoch 143/2000\n",
      "16200/16200 [==============================] - 1s 40us/step - loss: 0.0698 - mean_squared_error: 0.0088 - val_loss: 0.0521 - val_mean_squared_error: 0.0044\n",
      "Epoch 144/2000\n",
      "16200/16200 [==============================] - 1s 40us/step - loss: 0.0708 - mean_squared_error: 0.0089 - val_loss: 0.0431 - val_mean_squared_error: 0.0030\n",
      "Epoch 145/2000\n",
      "16200/16200 [==============================] - 1s 40us/step - loss: 0.0710 - mean_squared_error: 0.0090 - val_loss: 0.0780 - val_mean_squared_error: 0.0090\n",
      "Epoch 146/2000\n",
      "16200/16200 [==============================] - 1s 39us/step - loss: 0.0716 - mean_squared_error: 0.0091 - val_loss: 0.0439 - val_mean_squared_error: 0.0031\n",
      "Epoch 147/2000\n",
      "16200/16200 [==============================] - 1s 39us/step - loss: 0.0708 - mean_squared_error: 0.0090 - val_loss: 0.0445 - val_mean_squared_error: 0.0031\n",
      "Epoch 148/2000\n",
      "16200/16200 [==============================] - 1s 39us/step - loss: 0.0718 - mean_squared_error: 0.0091 - val_loss: 0.0881 - val_mean_squared_error: 0.0112\n",
      "Epoch 149/2000\n",
      "16200/16200 [==============================] - 1s 40us/step - loss: 0.0715 - mean_squared_error: 0.0091 - val_loss: 0.0696 - val_mean_squared_error: 0.0075\n",
      "Epoch 150/2000\n",
      "16200/16200 [==============================] - 1s 39us/step - loss: 0.0692 - mean_squared_error: 0.0087 - val_loss: 0.0587 - val_mean_squared_error: 0.0055\n",
      "Epoch 151/2000\n",
      "16200/16200 [==============================] - 1s 39us/step - loss: 0.0709 - mean_squared_error: 0.0090 - val_loss: 0.0446 - val_mean_squared_error: 0.0031\n",
      "Epoch 152/2000\n",
      "16200/16200 [==============================] - 1s 40us/step - loss: 0.0719 - mean_squared_error: 0.0092 - val_loss: 0.0612 - val_mean_squared_error: 0.0057\n",
      "Epoch 153/2000\n",
      "16200/16200 [==============================] - 1s 40us/step - loss: 0.0728 - mean_squared_error: 0.0094 - val_loss: 0.0553 - val_mean_squared_error: 0.0049\n",
      "Epoch 154/2000\n",
      "16200/16200 [==============================] - 1s 39us/step - loss: 0.0694 - mean_squared_error: 0.0086 - val_loss: 0.0434 - val_mean_squared_error: 0.0030\n",
      "Epoch 155/2000\n",
      "16200/16200 [==============================] - 1s 40us/step - loss: 0.0701 - mean_squared_error: 0.0088 - val_loss: 0.0545 - val_mean_squared_error: 0.0047\n",
      "Epoch 156/2000\n",
      "16200/16200 [==============================] - 1s 39us/step - loss: 0.0713 - mean_squared_error: 0.0091 - val_loss: 0.0436 - val_mean_squared_error: 0.0030\n",
      "Epoch 157/2000\n",
      "16200/16200 [==============================] - 1s 39us/step - loss: 0.0711 - mean_squared_error: 0.0090 - val_loss: 0.0557 - val_mean_squared_error: 0.0050\n",
      "Epoch 158/2000\n",
      "16200/16200 [==============================] - 1s 39us/step - loss: 0.0697 - mean_squared_error: 0.0087 - val_loss: 0.0457 - val_mean_squared_error: 0.0033\n",
      "Epoch 159/2000\n",
      "16200/16200 [==============================] - 1s 39us/step - loss: 0.0694 - mean_squared_error: 0.0087 - val_loss: 0.0703 - val_mean_squared_error: 0.0075\n",
      "Epoch 160/2000\n",
      "16200/16200 [==============================] - 1s 40us/step - loss: 0.0710 - mean_squared_error: 0.0090 - val_loss: 0.0986 - val_mean_squared_error: 0.0138\n",
      "Epoch 161/2000\n",
      "16200/16200 [==============================] - 1s 40us/step - loss: 0.0706 - mean_squared_error: 0.0090 - val_loss: 0.0658 - val_mean_squared_error: 0.0067\n",
      "Epoch 162/2000\n",
      "16200/16200 [==============================] - 1s 39us/step - loss: 0.0695 - mean_squared_error: 0.0087 - val_loss: 0.0688 - val_mean_squared_error: 0.0073\n",
      "Epoch 163/2000\n",
      "16200/16200 [==============================] - 1s 40us/step - loss: 0.0694 - mean_squared_error: 0.0087 - val_loss: 0.0455 - val_mean_squared_error: 0.0033\n",
      "Epoch 164/2000\n",
      "16200/16200 [==============================] - 1s 39us/step - loss: 0.0692 - mean_squared_error: 0.0086 - val_loss: 0.0710 - val_mean_squared_error: 0.0075\n",
      "Epoch 165/2000\n",
      "16200/16200 [==============================] - 1s 40us/step - loss: 0.0725 - mean_squared_error: 0.0094 - val_loss: 0.0454 - val_mean_squared_error: 0.0033\n",
      "Epoch 166/2000\n",
      "16200/16200 [==============================] - 1s 39us/step - loss: 0.0714 - mean_squared_error: 0.0091 - val_loss: 0.0755 - val_mean_squared_error: 0.0086\n",
      "Epoch 167/2000\n",
      "16200/16200 [==============================] - 1s 40us/step - loss: 0.0685 - mean_squared_error: 0.0085 - val_loss: 0.0618 - val_mean_squared_error: 0.0059\n",
      "Epoch 168/2000\n",
      "16200/16200 [==============================] - 1s 43us/step - loss: 0.0711 - mean_squared_error: 0.0091 - val_loss: 0.0606 - val_mean_squared_error: 0.0058\n",
      "Epoch 169/2000\n",
      "16200/16200 [==============================] - 1s 40us/step - loss: 0.0701 - mean_squared_error: 0.0088 - val_loss: 0.0523 - val_mean_squared_error: 0.0044\n",
      "Epoch 170/2000\n",
      "16200/16200 [==============================] - 1s 39us/step - loss: 0.0695 - mean_squared_error: 0.0087 - val_loss: 0.0494 - val_mean_squared_error: 0.0039\n",
      "Epoch 171/2000\n",
      "16200/16200 [==============================] - 1s 40us/step - loss: 0.0698 - mean_squared_error: 0.0088 - val_loss: 0.0568 - val_mean_squared_error: 0.0051\n",
      "Epoch 172/2000\n",
      "16200/16200 [==============================] - 1s 40us/step - loss: 0.0708 - mean_squared_error: 0.0090 - val_loss: 0.0455 - val_mean_squared_error: 0.0033\n",
      "Epoch 173/2000\n",
      "16200/16200 [==============================] - 1s 39us/step - loss: 0.0704 - mean_squared_error: 0.0089 - val_loss: 0.0518 - val_mean_squared_error: 0.0043\n",
      "Epoch 174/2000\n",
      "16200/16200 [==============================] - 1s 39us/step - loss: 0.0722 - mean_squared_error: 0.0093 - val_loss: 0.0623 - val_mean_squared_error: 0.0062\n",
      "Epoch 175/2000\n",
      "16200/16200 [==============================] - 1s 40us/step - loss: 0.0703 - mean_squared_error: 0.0089 - val_loss: 0.0445 - val_mean_squared_error: 0.0031\n",
      "Epoch 176/2000\n",
      "16200/16200 [==============================] - 1s 39us/step - loss: 0.0691 - mean_squared_error: 0.0087 - val_loss: 0.0495 - val_mean_squared_error: 0.0039\n",
      "Epoch 177/2000\n",
      "16200/16200 [==============================] - 1s 40us/step - loss: 0.0716 - mean_squared_error: 0.0091 - val_loss: 0.0578 - val_mean_squared_error: 0.0054\n",
      "Epoch 178/2000\n",
      "16200/16200 [==============================] - 1s 39us/step - loss: 0.0701 - mean_squared_error: 0.0089 - val_loss: 0.0581 - val_mean_squared_error: 0.0054\n",
      "Epoch 179/2000\n",
      "16200/16200 [==============================] - 1s 40us/step - loss: 0.0692 - mean_squared_error: 0.0087 - val_loss: 0.0471 - val_mean_squared_error: 0.0036\n",
      "Epoch 00179: early stopping\n"
     ]
    }
   ],
   "source": [
    "hist = model.fit(X_train, y_train, epochs=2000, validation_split= 0.1,\n",
    "          batch_size=2**8, verbose=1,\n",
    "          callbacks=[early_stop])"
   ]
  },
  {
   "cell_type": "code",
   "execution_count": 89,
   "metadata": {},
   "outputs": [],
   "source": [
    "def plot_model_history(model_history, saveFig = False):\n",
    "    fig, axs = plt.subplots(1,1,figsize=(10,5))\n",
    "    # summarize history for accuracy\n",
    "    axs.plot(range(1,len(model_history.history['mean_squared_error'])+1),\n",
    "             model_history.history['mean_squared_error'])\n",
    "    axs.plot(range(1,len(model_history.history['val_mean_squared_error'])+1),\n",
    "             model_history.history['val_mean_squared_error'])\n",
    "    axs.set_title('Model MSE')\n",
    "    axs.set_ylabel('mean_squared_error')\n",
    "    axs.set_xlabel('Epoch')\n",
    "    axs.set_xticks(np.arange(1,len(model_history.history['val_mean_squared_error'])+1),\n",
    "                   len(model_history.history['val_mean_squared_error'])/10)\n",
    "    axs.legend(['train', 'val'], loc='best')\n",
    "    if saveFig:\n",
    "        fig.savefig(os.path.join(figDir, \"ModelTraining.png\"), dpi = 120, bbox_inches='tight')\n",
    "    plt.show()"
   ]
  },
  {
   "cell_type": "code",
   "execution_count": 90,
   "metadata": {},
   "outputs": [
    {
     "data": {
      "image/png": "[encoded data removed]",
      "text/plain": [
       "<matplotlib.figure.Figure at 0x21eb1b030b8>"
      ]
     },
     "metadata": {},
     "output_type": "display_data"
    }
   ],
   "source": [
    "plot_model_history(hist, saveFig = False)"
   ]
  },
  {
   "cell_type": "code",
   "execution_count": 96,
   "metadata": {},
   "outputs": [
    {
     "data": {
      "text/plain": [
       "[<matplotlib.lines.Line2D at 0x21eb2487748>]"
      ]
     },
     "execution_count": 96,
     "metadata": {},
     "output_type": "execute_result"
    },
    {
     "data": {
      "image/png": "[encoded data removed]",
      "text/plain": [
       "<matplotlib.figure.Figure at 0x21eb1c4c470>"
      ]
     },
     "metadata": {},
     "output_type": "display_data"
    }
   ],
   "source": [
    "y_pred = model.predict(X_test)\n",
    "\n",
    "plt.plot((X_test[:, 0]) + 1)\n",
    "plt.plot((y_test))\n",
    "plt.plot((y_pred))"
   ]
  },
  {
   "cell_type": "code",
   "execution_count": 92,
   "metadata": {},
   "outputs": [
    {
     "data": {
      "text/plain": [
       "(18001, 1999)"
      ]
     },
     "execution_count": 92,
     "metadata": {},
     "output_type": "execute_result"
    }
   ],
   "source": [
    "X_train.shape"
   ]
  },
  {
   "cell_type": "code",
   "execution_count": 93,
   "metadata": {},
   "outputs": [
    {
     "data": {
      "text/plain": [
       "[<matplotlib.lines.Line2D at 0x21eb1bba438>]"
      ]
     },
     "execution_count": 93,
     "metadata": {},
     "output_type": "execute_result"
    },
    {
     "data": {
      "image/png": "[encoded data removed]",
      "text/plain": [
       "<matplotlib.figure.Figure at 0x21eb1abaf98>"
      ]
     },
     "metadata": {},
     "output_type": "display_data"
    }
   ],
   "source": [
    "y_pred = model.predict(X_train)\n",
    "\n",
    "plt.plot(X_train[:, 0] + 2)\n",
    "plt.plot((y_train))\n",
    "plt.plot((y_pred))"
   ]
  },
  {
   "cell_type": "code",
   "execution_count": 94,
   "metadata": {},
   "outputs": [
    {
     "data": {
      "text/plain": [
       "(18001, 1999)"
      ]
     },
     "execution_count": 94,
     "metadata": {},
     "output_type": "execute_result"
    }
   ],
   "source": [
    "X_train.shape"
   ]
  },
  {
   "cell_type": "code",
   "execution_count": 95,
   "metadata": {},
   "outputs": [
    {
     "data": {
      "text/plain": [
       "[<matplotlib.lines.Line2D at 0x21eb1c44978>]"
      ]
     },
     "execution_count": 95,
     "metadata": {},
     "output_type": "execute_result"
    },
    {
     "data": {
      "image/png": "[encoded data removed]",
      "text/plain": [
       "<matplotlib.figure.Figure at 0x21eb1bccfd0>"
      ]
     },
     "metadata": {},
     "output_type": "display_data"
    }
   ],
   "source": [
    "plt.plot(X_train[:, 0] + 2)\n",
    "plt.plot(y_train[:, 0])"
   ]
  },
  {
   "cell_type": "code",
   "execution_count": null,
   "metadata": {},
   "outputs": [],
   "source": []
  },
  {
   "cell_type": "code",
   "execution_count": null,
   "metadata": {},
   "outputs": [],
   "source": []
  },
  {
   "cell_type": "code",
   "execution_count": null,
   "metadata": {},
   "outputs": [],
   "source": []
  },
  {
   "cell_type": "code",
   "execution_count": null,
   "metadata": {},
   "outputs": [],
   "source": []
  },
  {
   "cell_type": "code",
   "execution_count": null,
   "metadata": {},
   "outputs": [],
   "source": []
  },
  {
   "cell_type": "code",
   "execution_count": null,
   "metadata": {},
   "outputs": [],
   "source": []
  },
  {
   "cell_type": "code",
   "execution_count": null,
   "metadata": {},
   "outputs": [],
   "source": []
  },
  {
   "cell_type": "code",
   "execution_count": null,
   "metadata": {},
   "outputs": [],
   "source": [
    "def build_model(layers):\n",
    "    model = Sequential()\n",
    "\n",
    "    model.add(LSTM(\n",
    "        input_shape=(None, layers[0]),\n",
    "        units=layers[1],\n",
    "        return_sequences=True))\n",
    "    model.add(Dropout(0.2))\n",
    "\n",
    "    model.add(LSTM(units = layers[2],\n",
    "        return_sequences=False))\n",
    "    model.add(Dropout(0.2))\n",
    "\n",
    "    model.add(Dense(units = layers[3]))\n",
    "    model.add(Activation(\"linear\"))\n",
    "\n",
    "    start = time.time()\n",
    "    model.compile(loss=\"mse\", optimizer=\"adam\", metrics = ['mse'])\n",
    "    print(\"> Compilation Time : \", time.time() - start)\n",
    "    return model"
   ]
  },
  {
   "cell_type": "code",
   "execution_count": null,
   "metadata": {},
   "outputs": [],
   "source": [
    "model= build_model([1,50,100,1])\n",
    "earlystop = EarlyStopping(monitor='val_mean_squared_error', min_delta=0.01, patience= 5, verbose=1, mode='auto')"
   ]
  },
  {
   "cell_type": "code",
   "execution_count": null,
   "metadata": {},
   "outputs": [],
   "source": [
    "plt.plot(x_train[:, 499, 0])\n",
    "plt.plot(y_train[:])"
   ]
  },
  {
   "cell_type": "code",
   "execution_count": null,
   "metadata": {},
   "outputs": [],
   "source": [
    "model_info = model.fit(x_train, y_train, batch_size = 2**11, epochs=100, validation_split=0.05, callbacks = [earlystop])"
   ]
  },
  {
   "cell_type": "code",
   "execution_count": null,
   "metadata": {},
   "outputs": [],
   "source": [
    "def plot_model_history(model_history):\n",
    "    fig, axs = plt.subplots(1,1,figsize=(10,5))\n",
    "    # summarize history for accuracy\n",
    "    axs.plot(range(1,len(model_history.history['mean_squared_error'])+1),model_history.history['mean_squared_error'])\n",
    "    axs.plot(range(1,len(model_history.history['val_mean_squared_error'])+1),model_history.history['val_mean_squared_error'])\n",
    "    axs.set_title('Model MSE')\n",
    "    axs.set_ylabel('mean_squared_error')\n",
    "    axs.set_xlabel('Epoch')\n",
    "    axs.set_xticks(np.arange(1,len(model_history.history['val_mean_squared_error'])+1),len(model_history.history['val_mean_squared_error'])/10)\n",
    "    axs.legend(['train', 'val'], loc='best')\n",
    "    plt.show()"
   ]
  },
  {
   "cell_type": "code",
   "execution_count": null,
   "metadata": {},
   "outputs": [],
   "source": [
    "plot_model_history(model_info)"
   ]
  },
  {
   "cell_type": "code",
   "execution_count": null,
   "metadata": {},
   "outputs": [],
   "source": [
    "def predict_point_by_point(model, data):\n",
    "    #Predict each timestep given the last sequence of true data, in effect only predicting 1 step ahead each time\n",
    "    predicted = model.predict(data)\n",
    "    predicted = np.reshape(predicted, (predicted.size,))\n",
    "    return predicted"
   ]
  },
  {
   "cell_type": "code",
   "execution_count": null,
   "metadata": {},
   "outputs": [],
   "source": [
    "predicted = predict_point_by_point(model, x_test)\n",
    "predicted.shape"
   ]
  },
  {
   "cell_type": "code",
   "execution_count": null,
   "metadata": {},
   "outputs": [],
   "source": [
    "plt.figure(figsize = (10, 4))\n",
    "x_test.shape\n",
    "plt.plot(x_test[:, 499, 0], label = \"input\")\n",
    "#plt.plot(y_test[], label = \"output\")\n",
    "plt.plot(y_test[-x_test.shape[0]:] + 2, label = \"y\")\n",
    "plt.plot(minmax_scale(predicted, feature_range=(-1,1)) + 2, label = \"prediction\")\n",
    "plt.legend()"
   ]
  },
  {
   "cell_type": "code",
   "execution_count": null,
   "metadata": {},
   "outputs": [],
   "source": [
    "pp = model.predict(x_test)"
   ]
  },
  {
   "cell_type": "code",
   "execution_count": null,
   "metadata": {},
   "outputs": [],
   "source": [
    "plt.plot(y_test)"
   ]
  },
  {
   "cell_type": "code",
   "execution_count": null,
   "metadata": {},
   "outputs": [],
   "source": [
    "plt.plot(pp)"
   ]
  },
  {
   "cell_type": "code",
   "execution_count": null,
   "metadata": {},
   "outputs": [],
   "source": []
  },
  {
   "cell_type": "code",
   "execution_count": null,
   "metadata": {},
   "outputs": [],
   "source": []
  },
  {
   "cell_type": "code",
   "execution_count": null,
   "metadata": {},
   "outputs": [],
   "source": []
  },
  {
   "cell_type": "code",
   "execution_count": null,
   "metadata": {},
   "outputs": [],
   "source": [
    "\n",
    "\n",
    "plt.figure(figsize = (20, 8))\n",
    "plt.plot(comF.EMG_scaled[-len(predicted):].reset_index(drop = True)+ 2, label = \"EMG\")\n",
    "plt.plot(comF.len_scaled[-len(predicted):].reset_index(drop = True), label = \"actual\")\n",
    "plt.plot(minmax_scale(predicted, feature_range=(-1,1)), label = \"predicted\")\n",
    "plt.legend()"
   ]
  },
  {
   "cell_type": "code",
   "execution_count": null,
   "metadata": {},
   "outputs": [],
   "source": [
    "plt.figure(figsize = (20, 8))\n",
    "plt.plot(comF.EMG_scaled[0:len(predicted)].reset_index(drop = True)+ 2, label = \"EMG\")\n",
    "plt.plot(comF.len_scaled[0:len(predicted)].reset_index(drop = True), label = \"actual\")\n",
    "#plt.plot(minmax_scale(predicted, feature_range=(-1,1)), label = \"predicted\")\n",
    "plt.legend()"
   ]
  },
  {
   "cell_type": "code",
   "execution_count": null,
   "metadata": {},
   "outputs": [],
   "source": [
    "x_test.shape"
   ]
  },
  {
   "cell_type": "code",
   "execution_count": null,
   "metadata": {},
   "outputs": [],
   "source": [
    "predicted = predict_point_by_point(model, x_train[0:25000,:,:])\n",
    "predicted.shape"
   ]
  },
  {
   "cell_type": "code",
   "execution_count": null,
   "metadata": {},
   "outputs": [],
   "source": [
    "\n",
    "plt.figure(figsize = (20, 8))\n",
    "plt.plot(x_train[0:25000, 999, 0])\n",
    "plt.plot(minmax_scale(predicted, feature_range=(-1,1)), label = \"predicted\")\n",
    "plt.legend()"
   ]
  },
  {
   "cell_type": "code",
   "execution_count": null,
   "metadata": {},
   "outputs": [],
   "source": [
    "comF.EMG_scaled[0:len(predicted)].reset_index(drop = True)"
   ]
  },
  {
   "cell_type": "code",
   "execution_count": null,
   "metadata": {},
   "outputs": [],
   "source": [
    "def reshape_dataTestONLY(sequence, ysequence, seq_len):\n",
    "    sequence_length = seq_len + 1\n",
    "    result = []\n",
    "    for index in range(len(sequence) - sequence_length):\n",
    "        result.append(sequence[index: index + sequence_length])\n",
    "    result = np.array(result)\n",
    "    \n",
    "    result2 = []\n",
    "    for index in range(len(ysequence) - sequence_length):\n",
    "        result2.append(ysequence[index: index + sequence_length])\n",
    "    result2 = np.array(result2)\n",
    "\n",
    "    # shuffle windows\n",
    "    #shuffInt = np.random.choice(np.arange(0, train.shape[1]), replace=False, size=train.shape[1])\n",
    "#     train = train[:, shuffInt]\n",
    "#     train2 = train2[:, shuffInt]\n",
    "    #np.random.shuffle(train)\n",
    "\n",
    "    x_test = result[:, :-1]\n",
    "    y_test = result2[:, -1]\n",
    "\n",
    "    x_test = np.reshape(x_test, (x_test.shape[0], x_test.shape[1], 1))\n",
    "\n",
    "    \n",
    "    \n",
    "    return [x_test, y_test]"
   ]
  },
  {
   "cell_type": "code",
   "execution_count": null,
   "metadata": {},
   "outputs": [],
   "source": [
    "timesteps = np.arange(0, 0.5, 1/25000 )\n",
    "\n",
    "freq = 25\n",
    "\n",
    "trainY1 = np.sin(2*np.pi*timesteps* freq) + np.random.normal(size=len(timesteps))*0.1\n",
    "trainX1 =  np.cos(2*np.pi*timesteps * freq) * ((np.cos(2*np.pi*timesteps*freq)) > 0.99)*1 + np.random.normal(size=len(timesteps))*0.1\n",
    "trainY1.shape"
   ]
  },
  {
   "cell_type": "code",
   "execution_count": null,
   "metadata": {},
   "outputs": [],
   "source": [
    "plt.plot(minmax_scale(trainX1[0:12500], (-1,1)))\n",
    "x_test2, _ = reshape_dataTestONLY(minmax_scale(trainX1[0:12500], (-1,1)), trainY1, 1000)\n",
    "plt.show()\n",
    "plt.plot(x_test2[:, 999, 0])"
   ]
  },
  {
   "cell_type": "code",
   "execution_count": null,
   "metadata": {},
   "outputs": [],
   "source": [
    "predicted = predict_point_by_point(model, x_test2)\n",
    "predicted.shape"
   ]
  },
  {
   "cell_type": "code",
   "execution_count": null,
   "metadata": {},
   "outputs": [],
   "source": [
    "plt.figure(figsize = (20, 8))\n",
    "plt.plot(x_test2[:, 999, 0], label = 'made-up EMG signal')\n",
    "plt.plot(minmax_scale(predicted, feature_range=(-1,1)), label = \"predicted\")\n",
    "plt.legend()"
   ]
  },
  {
   "cell_type": "code",
   "execution_count": null,
   "metadata": {},
   "outputs": [],
   "source": []
  },
  {
   "cell_type": "code",
   "execution_count": null,
   "metadata": {},
   "outputs": [],
   "source": []
  },
  {
   "cell_type": "code",
   "execution_count": null,
   "metadata": {},
   "outputs": [],
   "source": []
  },
  {
   "cell_type": "code",
   "execution_count": null,
   "metadata": {},
   "outputs": [],
   "source": []
  },
  {
   "cell_type": "code",
   "execution_count": null,
   "metadata": {},
   "outputs": [],
   "source": []
  },
  {
   "cell_type": "code",
   "execution_count": null,
   "metadata": {},
   "outputs": [],
   "source": []
  },
  {
   "cell_type": "code",
   "execution_count": null,
   "metadata": {},
   "outputs": [],
   "source": []
  },
  {
   "cell_type": "code",
   "execution_count": null,
   "metadata": {},
   "outputs": [],
   "source": []
  },
  {
   "cell_type": "code",
   "execution_count": null,
   "metadata": {},
   "outputs": [],
   "source": []
  },
  {
   "cell_type": "code",
   "execution_count": null,
   "metadata": {},
   "outputs": [],
   "source": []
  },
  {
   "cell_type": "code",
   "execution_count": null,
   "metadata": {},
   "outputs": [],
   "source": [
    "propBreak = 0.9\n",
    "windowLen = 200\n",
    "\n",
    "backCt = int(len(trainX) - propBreak * len(trainX) + propBreak * windowLen)\n",
    "print(backCt)"
   ]
  },
  {
   "cell_type": "code",
   "execution_count": null,
   "metadata": {},
   "outputs": [],
   "source": [
    "plt.figure(figsize = (10,4))\n",
    "plt.plot(trainY_scaled[-(backCt + 1):] + 2, label = \"input data\")\n",
    "plt.plot(trainX_scaled[-(backCt-windowLen +1):], label = \"data we're trying to predict\")\n",
    "\n",
    "plt.plot(x_test[:,0,0] + 2, label = \"input data\")\n",
    "plt.plot(y_test[:], label = \"ytest\")\n",
    "#plt.plot(yhat[-81:] -1, label = \"smoothed\")\n",
    "plt.ylim([-2, 4])\n",
    "plt.plot(predicted, label = 'predicted_LSTM')\n",
    "plt.legend()\n",
    "#plt.plot(y_test)\n",
    "#plt.savefig(os.path.join(figDir, \"LSTM_MadeUpData.png\"), dpi = 500)\n"
   ]
  },
  {
   "cell_type": "code",
   "execution_count": null,
   "metadata": {},
   "outputs": [],
   "source": [
    "plt.figure(figsize = (10,4))\n",
    "plt.plot(trainY_scaled[-(backCt - windowLen +  1):] + 2, label = \"input data\")\n",
    "plt.plot(trainX_scaled[-(backCt-windowLen +1):], label = \"data we're trying to predict\")\n",
    "\n",
    "plt.plot(x_test[:,windowLen-1,0] + 2, label = \"input data\")\n",
    "plt.plot(y_test[:], label = \"ytest\")\n",
    "\n",
    "plt.ylim([-2, 4])\n",
    "plt.plot(predicted, label = 'predicted_LSTM')\n",
    "plt.legend()\n"
   ]
  },
  {
   "cell_type": "code",
   "execution_count": null,
   "metadata": {},
   "outputs": [],
   "source": [
    "plt.plot(trainY_scaled[-(backCt + 1):] + 2, label = \"input data\")\n",
    "plt.plot(trainX_scaled[(-backCt):], label = \"data we're trying to predict\")"
   ]
  },
  {
   "cell_type": "code",
   "execution_count": null,
   "metadata": {},
   "outputs": [],
   "source": []
  },
  {
   "cell_type": "code",
   "execution_count": null,
   "metadata": {},
   "outputs": [],
   "source": []
  },
  {
   "cell_type": "code",
   "execution_count": null,
   "metadata": {},
   "outputs": [],
   "source": [
    "results = reshape_data(trainX, 50)"
   ]
  },
  {
   "cell_type": "code",
   "execution_count": null,
   "metadata": {},
   "outputs": [],
   "source": [
    "np.random.shuffle(results)\n",
    "results.shape\n",
    "\n",
    "shuffInt = np.random.choice(np.arange(0, results.shape[1]), replace=False, size=results.shape[1])\n",
    "results[:, shuffInt]"
   ]
  },
  {
   "cell_type": "code",
   "execution_count": null,
   "metadata": {},
   "outputs": [],
   "source": [
    "shuffInt = np.random.choice(np.arange(0, result.shape[0]), replace=False, size=result.shape[0])\n",
    "    train = train[:, shuffInt]"
   ]
  },
  {
   "cell_type": "code",
   "execution_count": null,
   "metadata": {},
   "outputs": [],
   "source": []
  },
  {
   "cell_type": "code",
   "execution_count": null,
   "metadata": {},
   "outputs": [],
   "source": []
  },
  {
   "cell_type": "code",
   "execution_count": null,
   "metadata": {},
   "outputs": [],
   "source": []
  },
  {
   "cell_type": "code",
   "execution_count": null,
   "metadata": {},
   "outputs": [],
   "source": []
  }
 ],
 "metadata": {
  "kernelspec": {
   "display_name": "tfcpu",
   "language": "python",
   "name": "tfcpu"
  },
  "language_info": {
   "codemirror_mode": {
    "name": "ipython",
    "version": 3
   },
   "file_extension": ".py",
   "mimetype": "text/x-python",
   "name": "python",
   "nbconvert_exporter": "python",
   "pygments_lexer": "ipython3",
   "version": "3.6.4"
  }
 },
 "nbformat": 4,
 "nbformat_minor": 2
}
